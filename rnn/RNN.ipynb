{
 "cells": [
  {
   "cell_type": "markdown",
   "metadata": {},
   "source": [
    "Architecture of a traditional RNNRecurrent neural networks, also known as RNNs, are a class of neural networks that allow previous outputs to be used as inputs while having hidden states. They are typically as follows:\n",
    "\n",
    "<img src=\"./images/architecture-rnn-ltr.png\">\n"
   ]
  },
  {
   "cell_type": "markdown",
   "metadata": {},
   "source": [
    "For each timestep $t$, the activation $a^{< t >}$\n",
    "  and the output $y^{< t >}$\n",
    "  \n",
    "  are expressed as follows:\n",
    "  \n",
    "  \n",
    "  $$ \\boxed{ a^{<t>} = g_1( W_{aa} a^{<t>-1}  + W_{ax} x^{<t>} + b_a ) }$$\n",
    "  \n",
    "  and\n",
    "  \n",
    "  $$ \\boxed { y^{<t>} = g_2( W_{ya} a^{<t>} + b_y ) } $$ \n",
    "  \n",
    "  \n",
    "  where $W_{aa}$, $W_{ax}$, $W_{ya}$, $b_a$, $b_y$  \n",
    "  \n",
    "  are  coefficients that are shared temporally and $g_1$, $g_2$ activation functions."
   ]
  },
  {
   "cell_type": "markdown",
   "metadata": {},
   "source": [
    "<img src=\"./images/description-block-rnn-ltr.png\">"
   ]
  },
  {
   "cell_type": "markdown",
   "metadata": {},
   "source": [
    "### Advantages\n",
    "\n",
    "• Possibility of processing input of any length \n",
    "\n",
    "• Model size not increasing with size of input\n",
    "\n",
    "• Computation takes into account historical information\n",
    "\n",
    "• Weights are shared across time\n"
   ]
  },
  {
   "cell_type": "markdown",
   "metadata": {},
   "source": [
    "## Drawbacks\n",
    "\n",
    "• Computation being slow\n",
    "\n",
    "• Difficulty of accessing information from a long time ago\n",
    "\n",
    "• Cannot consider any future input for the current state"
   ]
  },
  {
   "cell_type": "markdown",
   "metadata": {},
   "source": [
    "## Applications and architectures\n",
    "\n",
    "RNN models are mostly used in the fields of natural language processing and speech recognition. The different applications are summed below"
   ]
  },
  {
   "cell_type": "markdown",
   "metadata": {},
   "source": [
    "## Traditional Neural Network\n",
    "\n",
    "One-to-one\n",
    "\n",
    "$T_x=T_y=1$ \n",
    "\n",
    "\n",
    "<img src = \"images/rnn-one-to-one-ltr.png\">"
   ]
  },
  {
   "cell_type": "markdown",
   "metadata": {},
   "source": [
    "## One-to-many\n",
    "\n",
    "\n",
    "\n",
    "$T_x=1$,\n",
    "$T_y > 1$ \n",
    " \n",
    "\n",
    "<img src = \"images/rnn-one-to-many-ltr.png\">\n",
    "\n",
    "Applications: sequece generation (music)"
   ]
  },
  {
   "cell_type": "markdown",
   "metadata": {},
   "source": [
    "## Many-to-one\n",
    "\n",
    "\n",
    "\n",
    "$T_x>1$,\n",
    "$T_y = 1$ \n",
    " \n",
    "\n",
    "<img src = \"images/rnn-many-to-one-ltr.png\">\n",
    "\n",
    "Applications: Sentiment classification"
   ]
  },
  {
   "cell_type": "markdown",
   "metadata": {},
   "source": [
    "## Many-to-many\n",
    "\n",
    "\n",
    "\n",
    "$T_x=T_y$ \n",
    "\n",
    "<img src = \"images/rnn-many-to-many-same-ltr.png\">\n",
    "\n",
    "Applications: part of speech tagging"
   ]
  },
  {
   "cell_type": "markdown",
   "metadata": {},
   "source": [
    "## Many-to-many\n",
    "\n",
    "\n",
    "\n",
    "$T_x \\ne T_y$ \n",
    "\n",
    "<img src = \"images/rnn-many-to-many-different-ltr.png\">\n",
    "\n",
    "Applications: machine translation"
   ]
  },
  {
   "cell_type": "markdown",
   "metadata": {},
   "source": [
    "## Loss Function\n",
    "\n",
    "In the case of a recurrent neural network, the loss function \\mathcal{L} of all time steps is defined based on the loss at every time step as follows:\n",
    "\n",
    "$$ L( \\hat{y}, y  )  =  \\sum_{t=1}^{T_y} L( \\hat{y}^{<t>}, y^{<t>}) $$"
   ]
  },
  {
   "cell_type": "code",
   "execution_count": null,
   "metadata": {},
   "outputs": [],
   "source": []
  }
 ],
 "metadata": {
  "kernelspec": {
   "display_name": "Python 3",
   "language": "python",
   "name": "python3"
  },
  "language_info": {
   "codemirror_mode": {
    "name": "ipython",
    "version": 3
   },
   "file_extension": ".py",
   "mimetype": "text/x-python",
   "name": "python",
   "nbconvert_exporter": "python",
   "pygments_lexer": "ipython3",
   "version": "3.8.5"
  }
 },
 "nbformat": 4,
 "nbformat_minor": 4
}
