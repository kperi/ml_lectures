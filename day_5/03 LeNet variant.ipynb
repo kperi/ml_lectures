{
 "cells": [
  {
   "cell_type": "code",
   "execution_count": 2,
   "metadata": {},
   "outputs": [],
   "source": [
    "import torch\n",
    "import torch.nn as nn\n",
    " \n",
    "import torchvision.datasets as datasets\n",
    "import torch.optim as optim\n",
    "\n",
    "import torchvision.transforms as transforms\n",
    "from torch.utils.data import DataLoader\n",
    "import time\n",
    "\n",
    "from sklearn.metrics import accuracy_score\n",
    "\n",
    "import matplotlib.pyplot as plt"
   ]
  },
  {
   "cell_type": "code",
   "execution_count": 8,
   "metadata": {},
   "outputs": [
    {
     "data": {
      "text/plain": [
       "torch.Size([64, 10])"
      ]
     },
     "execution_count": 8,
     "metadata": {},
     "output_type": "execute_result"
    }
   ],
   "source": [
    "class LeNetVar(nn.Module):\n",
    "    def __init__(self):\n",
    "        super(LeNetVar, self).__init__()\n",
    "\n",
    "        self.conv1 = nn.Conv2d(in_channels = 1, out_channels = 6, \n",
    "                               kernel_size = 5, stride = 1, padding = 0)\n",
    "        self.conv2 = nn.Conv2d(in_channels = 6, out_channels = 16, \n",
    "                               kernel_size = 5, stride = 1, padding = 0)\n",
    "        self.conv3 = nn.Conv2d(in_channels = 16, out_channels = 120, \n",
    "                               kernel_size = 5, stride = 1, padding = 0)\n",
    "        self.linear1 = nn.Linear(120, 84)\n",
    "        self.linear2 = nn.Linear(84, 10)\n",
    "        self.relu = nn.ReLU()\n",
    "        self.dropout = nn.Dropout(p=0.5)\n",
    "        self.avgpool = nn.AvgPool2d(kernel_size = 2, stride = 2)\n",
    "\n",
    "    def forward(self, x):\n",
    "        x = self.conv1(x)\n",
    "        x = self.relu(x)\n",
    "        x = self.avgpool(x)\n",
    "        x = self.conv2(x)\n",
    "        x = self.relu(x)\n",
    "        x = self.avgpool(x)\n",
    "        x = self.conv3(x)\n",
    "        x = self.relu(x)\n",
    "\n",
    "        x = x.reshape(x.shape[0], -1)\n",
    "        x = self.linear1(x)\n",
    "        x = self.dropout(x)\n",
    "        x = self.relu(x)\n",
    "        x = self.linear2(x)\n",
    "        return x\n",
    "\n",
    "model = LeNetVar()\n",
    "x = torch.randn(64,1,32,32)\n",
    "output = model(x)\n",
    "output.shape\n",
    " "
   ]
  },
  {
   "cell_type": "code",
   "execution_count": 9,
   "metadata": {},
   "outputs": [],
   "source": [
    "device = torch.device('cuda' if torch.cuda.is_available() else 'cpu')\n",
    "learning_rate = 0.001\n",
    "num_epochs = 4\n",
    "\n",
    "train_dataset = datasets.MNIST(root='dataset/', train=True, \n",
    "                               transform=transforms.Compose([\n",
    "                                   transforms.Pad(2), \n",
    "                                   transforms.ToTensor()]), \n",
    "                               download=True)\n",
    "\n",
    "test_dataset = datasets.MNIST(root='dataset/', \n",
    "                              train=False, \n",
    "                              transform=transforms.Compose([\n",
    "                                  transforms.Pad(2), \n",
    "                                  transforms.ToTensor()]), \n",
    "                              download=True)\n",
    "\n",
    "train_loader = DataLoader(dataset=train_dataset, batch_size=64, shuffle=True)\n",
    "test_loader = DataLoader(dataset=test_dataset, batch_size=64, shuffle=True)\n",
    "dataset_sizes = {'train':len(train_dataset), 'test':len(test_dataset)}\n",
    "\n",
    "model = LeNetVar().to(device)\n",
    "criterion = nn.CrossEntropyLoss()\n",
    "optimizer = optim.Adam(model.parameters(), lr=learning_rate)\n",
    "\n",
    "from IPython.display import HTML, display\n",
    "class ProgressMonitor(object):\n",
    "    \"\"\"\n",
    "    Custom IPython progress bar for training\n",
    "    \"\"\"\n",
    "    \n",
    "    tmpl = \"\"\"\n",
    "        <p>Loss: {loss:0.4f}   {value} / {length}</p>\n",
    "        <progress value='{value}' max='{length}', style='width: 100%'>{value}</progress>\n",
    "    \"\"\"\n",
    " \n",
    "    def __init__(self, length):\n",
    "        self.length = length\n",
    "        self.count = 0\n",
    "        self.display = display(self.html(0, 0), display_id=True)\n",
    "        \n",
    "    def html(self, count, loss):\n",
    "        return HTML(self.tmpl.format(length=self.length, value=count, loss=loss))\n",
    "        \n",
    "    def update(self, count, loss):\n",
    "        self.count += count\n",
    "        self.display.update(self.html(self.count, loss))\n"
   ]
  },
  {
   "cell_type": "code",
   "execution_count": 10,
   "metadata": {},
   "outputs": [
    {
     "name": "stdout",
     "output_type": "stream",
     "text": [
      "\n",
      "Epoch 1\n"
     ]
    },
    {
     "data": {
      "text/html": [
       "\n",
       "        <p>Loss: 26472.4844   60000 / 60000</p>\n",
       "        <progress value='60000' max='60000', style='width: 100%'>60000</progress>\n",
       "    "
      ],
      "text/plain": [
       "<IPython.core.display.HTML object>"
      ]
     },
     "metadata": {},
     "output_type": "display_data"
    },
    {
     "name": "stdout",
     "output_type": "stream",
     "text": [
      "Training loss: 0.4412080645561218\n",
      "Validation loss: 0.12737101316452026 accuracy : 0.9597\n",
      "\n",
      "Epoch 2\n"
     ]
    },
    {
     "data": {
      "text/html": [
       "\n",
       "        <p>Loss: 8147.1855   60000 / 60000</p>\n",
       "        <progress value='60000' max='60000', style='width: 100%'>60000</progress>\n",
       "    "
      ],
      "text/plain": [
       "<IPython.core.display.HTML object>"
      ]
     },
     "metadata": {},
     "output_type": "display_data"
    },
    {
     "name": "stdout",
     "output_type": "stream",
     "text": [
      "Training loss: 0.13578642904758453\n",
      "Validation loss: 0.08029291033744812 accuracy : 0.976\n",
      "\n",
      "Epoch 3\n"
     ]
    },
    {
     "data": {
      "text/html": [
       "\n",
       "        <p>Loss: 5778.3823   60000 / 60000</p>\n",
       "        <progress value='60000' max='60000', style='width: 100%'>60000</progress>\n",
       "    "
      ],
      "text/plain": [
       "<IPython.core.display.HTML object>"
      ]
     },
     "metadata": {},
     "output_type": "display_data"
    },
    {
     "name": "stdout",
     "output_type": "stream",
     "text": [
      "Training loss: 0.09630636870861053\n",
      "Validation loss: 0.05503295361995697 accuracy : 0.9832\n",
      "\n",
      "Epoch 4\n"
     ]
    },
    {
     "data": {
      "text/html": [
       "\n",
       "        <p>Loss: 4472.6128   60000 / 60000</p>\n",
       "        <progress value='60000' max='60000', style='width: 100%'>60000</progress>\n",
       "    "
      ],
      "text/plain": [
       "<IPython.core.display.HTML object>"
      ]
     },
     "metadata": {},
     "output_type": "display_data"
    },
    {
     "name": "stdout",
     "output_type": "stream",
     "text": [
      "Training loss: 0.0745435431599617\n",
      "Validation loss: 0.053958918899297714 accuracy : 0.9837\n",
      "Training complete in 3m 32s\n"
     ]
    }
   ],
   "source": [
    "dataloaders = [train_loader, test_loader]\n",
    "first_epoch = 1\n",
    "since = time.time() \n",
    "best_loss = 999999\n",
    "best_epoch = -1\n",
    "last_train_loss = -1\n",
    "plot_train_loss = []\n",
    "plot_valid_loss = []\n",
    "plot_acc = []\n",
    "\n",
    "\n",
    "for epoch in range(first_epoch, first_epoch + num_epochs):\n",
    "    print()\n",
    "    print('Epoch', epoch)\n",
    "    running_loss = 0.0\n",
    "    valid_loss = 0.0\n",
    "\n",
    "    # train phase\n",
    "    model.train()\n",
    "\n",
    "    # create a progress bar\n",
    "    progress = ProgressMonitor(length=dataset_sizes[\"train\"])\n",
    "\n",
    "    for data in dataloaders[0]:\n",
    "        # Move the training data to the GPU\n",
    "        inputs, labels  = data\n",
    "        batch_size = inputs.shape[0]\n",
    "\n",
    "        inputs = inputs.to(device)\n",
    "        labels = labels.to(device)\n",
    "\n",
    "        # clear previous gradient computation\n",
    "        optimizer.zero_grad()\n",
    "        outputs = model(inputs)\n",
    "        loss = criterion(outputs, labels)\n",
    "\n",
    "        loss.backward()\n",
    "        optimizer.step()\n",
    "\n",
    "        running_loss += loss.data * batch_size\n",
    "        # update progress bar\n",
    "        progress.update(batch_size, running_loss)\n",
    "\n",
    "\n",
    "    epoch_loss = running_loss / dataset_sizes[\"train\"]\n",
    "    print('Training loss:', epoch_loss.item())\n",
    "    #writer.add_scalar('Training Loss', epoch_loss, epoch)\n",
    "    plot_train_loss.append(epoch_loss)\n",
    "\n",
    "    # validation phase\n",
    "    model.eval()\n",
    "    # We don't need gradients for validation, so wrap in \n",
    "    # no_grad to save memory\n",
    "\n",
    "\n",
    "\n",
    "    test_labels = []\n",
    "    test_preds = []\n",
    "\n",
    "    with torch.no_grad():\n",
    "        for data in dataloaders[-1]:\n",
    "            inputs, labels  = data\n",
    "            batch_size = inputs.shape[0]\n",
    "\n",
    "            inputs = inputs.to(device)\n",
    "            labels = labels.to(device)\n",
    "            outputs = model(inputs)\n",
    "\n",
    "            # calculate the loss\n",
    "            optimizer.zero_grad()\n",
    "            loss = criterion(outputs, labels)\n",
    "\n",
    "            preds = outputs.argmax(dim=1)\n",
    "\n",
    "\n",
    "            test_labels.extend( list(labels.numpy()) )\n",
    "            test_preds.extend( list(preds.detach().numpy() ))\n",
    "\n",
    "\n",
    "            # update running loss value\n",
    "            valid_loss += loss.data * batch_size\n",
    "\n",
    "    acc = accuracy_score( test_labels, test_preds)\n",
    "    epoch_valid_loss = valid_loss / dataset_sizes[\"test\"]\n",
    "    print('Validation loss:', epoch_valid_loss.item(), f\"accuracy : {acc}\")\n",
    "    plot_valid_loss.append(epoch_valid_loss)\n",
    "    plot_acc.append(acc)\n",
    "    #writer.add_scalar('Validation Loss', epoch_valid_loss, epoch)\n",
    "\n",
    "time_elapsed = time.time() - since\n",
    "print('Training complete in {:.0f}m {:.0f}s'.format(time_elapsed // 60, time_elapsed % 60))\n",
    "\n",
    " \n"
   ]
  },
  {
   "cell_type": "code",
   "execution_count": 11,
   "metadata": {},
   "outputs": [
    {
     "data": {
      "image/png": "[encoded data removed]",
      "text/plain": [
       "<Figure size 720x720 with 1 Axes>"
      ]
     },
     "metadata": {
      "needs_background": "light"
     },
     "output_type": "display_data"
    }
   ],
   "source": [
    "plt.figure( figsize = (10,10))\n",
    "plt.plot( range(epoch), plot_train_loss, label=\"train loss\")\n",
    "plt.plot( range(epoch), plot_valid_loss, label=\"validation loss\")\n",
    "plt.plot( range(epoch), plot_acc, label=\"accuracy\")\n",
    "plt.legend()\n",
    "plt.show()"
   ]
  },
  {
   "cell_type": "code",
   "execution_count": null,
   "metadata": {},
   "outputs": [],
   "source": []
  }
 ],
 "metadata": {
  "kernelspec": {
   "display_name": "Python 3",
   "language": "python",
   "name": "python3"
  },
  "language_info": {
   "codemirror_mode": {
    "name": "ipython",
    "version": 3
   },
   "file_extension": ".py",
   "mimetype": "text/x-python",
   "name": "python",
   "nbconvert_exporter": "python",
   "pygments_lexer": "ipython3",
   "version": "3.6.9"
  }
 },
 "nbformat": 4,
 "nbformat_minor": 4
}
