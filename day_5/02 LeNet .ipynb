{
 "cells": [
  {
   "cell_type": "code",
   "execution_count": 6,
   "metadata": {},
   "outputs": [],
   "source": [
    "import torch\n",
    "import torch.nn as nn\n",
    " \n",
    "import torchvision.datasets as datasets\n",
    "import torch.optim as optim\n",
    "\n",
    "import torchvision.transforms as transforms\n",
    "from torch.utils.data import DataLoader\n",
    "import time\n"
   ]
  },
  {
   "cell_type": "code",
   "execution_count": 2,
   "metadata": {},
   "outputs": [],
   "source": [
    "class LeNet(nn.Module):\n",
    "    def __init__(self):\n",
    "        super(LeNet, self).__init__()\n",
    "\n",
    "        self.conv1 = nn.Conv2d(in_channels = 1, out_channels = 6, \n",
    "                               kernel_size = 5, stride = 1, padding = 0)\n",
    "        self.conv2 = nn.Conv2d(in_channels = 6, out_channels = 16, \n",
    "                               kernel_size = 5, stride = 1, padding = 0)\n",
    "        self.conv3 = nn.Conv2d(in_channels = 16, out_channels = 120, \n",
    "                               kernel_size = 5, stride = 1, padding = 0)\n",
    "        self.linear1 = nn.Linear(120, 84)\n",
    "        self.linear2 = nn.Linear(84, 10)\n",
    "        self.tanh = nn.Tanh()\n",
    "        self.avgpool = nn.AvgPool2d(kernel_size = 2, stride = 2)\n",
    "\n",
    "    def forward(self, x):\n",
    "        x = self.conv1(x)\n",
    "        x = self.tanh(x)\n",
    "        x = self.avgpool(x)\n",
    "        x = self.conv2(x)\n",
    "        x = self.tanh(x)\n",
    "        x = self.avgpool(x)\n",
    "        x = self.conv3(x)\n",
    "        x = self.tanh(x)\n",
    "\n",
    "        x = x.reshape(x.shape[0], -1)\n",
    "        x = self.linear1(x)\n",
    "        x = self.tanh(x)\n",
    "        x = self.linear2(x)\n",
    "        return x\n",
    "\n",
    "model = LeNet()\n",
    "x = torch.randn(64,1,32,32)\n",
    "output = model(x)\n",
    " "
   ]
  },
  {
   "cell_type": "code",
   "execution_count": 12,
   "metadata": {},
   "outputs": [],
   "source": [
    "\n",
    "# Hyperparameters\n",
    "device = torch.device('cuda' if torch.cuda.is_available() else 'cpu')\n",
    "learning_rate = 0.01\n",
    "num_epochs = 10\n",
    "\n",
    "train_dataset = datasets.MNIST(root='dataset/', train=True, \n",
    "                               transform=transforms.Compose([transforms.Pad(2), transforms.ToTensor()]), download=True)\n",
    "test_dataset = datasets.MNIST(root='dataset/', train=False, \n",
    "                              transform=transforms.Compose([transforms.Pad(2), transforms.ToTensor()]), download=True)\n",
    "\n",
    "train_loader = DataLoader(dataset=train_dataset, batch_size=64, shuffle=True)\n",
    "test_loader = DataLoader(dataset=test_dataset, batch_size=64, shuffle=True)\n",
    "dataset_sizes = {'train':len(train_dataset), 'test':len(test_dataset)}\n",
    "\n",
    "model = LeNet().to(device)\n",
    "criterion = nn.CrossEntropyLoss()\n",
    "optimizer = optim.Adam(model.parameters(), lr=learning_rate)\n",
    "\n",
    "from IPython.display import HTML, display\n",
    "class ProgressMonitor(object):\n",
    "    \"\"\"\n",
    "    Custom IPython progress bar for training\n",
    "    \"\"\"\n",
    "    \n",
    "    tmpl = \"\"\"\n",
    "        <p>Loss: {loss:0.4f}   {value} / {length}</p>\n",
    "        <progress value='{value}' max='{length}', style='width: 100%'>{value}</progress>\n",
    "    \"\"\"\n",
    " \n",
    "    def __init__(self, length):\n",
    "        self.length = length\n",
    "        self.count = 0\n",
    "        self.display = display(self.html(0, 0), display_id=True)\n",
    "        \n",
    "    def html(self, count, loss):\n",
    "        return HTML(self.tmpl.format(length=self.length, value=count, loss=loss))\n",
    "        \n",
    "    def update(self, count, loss):\n",
    "        self.count += count\n",
    "        self.display.update(self.html(self.count, loss))\n",
    "\n",
    "def train_new(model,criterion,optimizer,num_epochs,dataloaders,dataset_sizes,first_epoch=1):\n",
    "    since = time.time() \n",
    "    best_loss = 999999\n",
    "    best_epoch = -1\n",
    "    last_train_loss = -1\n",
    "    plot_train_loss = []\n",
    "    plot_valid_loss = []\n",
    " \n",
    " \n",
    "    for epoch in range(first_epoch, first_epoch + num_epochs):\n",
    "        print()\n",
    "        print('Epoch', epoch)\n",
    "        running_loss = 0.0\n",
    "        valid_loss = 0.0\n",
    "\n",
    "        # train phase\n",
    "        model.train()\n",
    "\n",
    "        # create a progress bar\n",
    "        progress = ProgressMonitor(length=dataset_sizes[\"train\"])\n",
    " \n",
    "        for data in dataloaders[0]:\n",
    "            # Move the training data to the GPU\n",
    "            inputs, labels  = data\n",
    "            batch_size = inputs.shape[0]\n",
    "\n",
    "            inputs = inputs.to(device)\n",
    "            labels = labels.to(device)\n",
    "\n",
    "            # clear previous gradient computation\n",
    "            optimizer.zero_grad()\n",
    "            outputs = model(inputs)\n",
    "            loss = criterion(outputs, labels)\n",
    "\n",
    "            loss.backward()\n",
    "            optimizer.step()\n",
    "\n",
    "            running_loss += loss.data * batch_size\n",
    "            # update progress bar\n",
    "            progress.update(batch_size, running_loss)\n",
    " \n",
    "        epoch_loss = running_loss / dataset_sizes[\"train\"]\n",
    "        print('Training loss:', epoch_loss.item())\n",
    "        #writer.add_scalar('Training Loss', epoch_loss, epoch)\n",
    "        plot_train_loss.append(epoch_loss)\n",
    "\n",
    "        # validation phase\n",
    "        model.eval()\n",
    "        # We don't need gradients for validation, so wrap in \n",
    "        # no_grad to save memory\n",
    "        with torch.no_grad():\n",
    "            for data in dataloaders[-1]:\n",
    "                inputs, labels  = data\n",
    "                batch_size = inputs.shape[0]\n",
    "\n",
    "                inputs = inputs.to(device)\n",
    "                labels = labels.to(device)\n",
    "                outputs = model(inputs)\n",
    "\n",
    "                # calculate the loss\n",
    "                optimizer.zero_grad()\n",
    "                loss = criterion(outputs, labels)\n",
    "\n",
    "                # update running loss value\n",
    "                valid_loss += loss.data * batch_size\n",
    "\n",
    "        epoch_valid_loss = valid_loss / dataset_sizes[\"test\"]\n",
    "        print('Validation loss:', epoch_valid_loss.item())\n",
    "        plot_valid_loss.append(epoch_valid_loss)\n",
    "        #writer.add_scalar('Validation Loss', epoch_valid_loss, epoch)\n",
    "\n",
    "    time_elapsed = time.time() - since\n",
    "    print('Training complete in {:.0f}m {:.0f}s'.format(time_elapsed // 60, time_elapsed % 60))\n",
    " \n",
    "    return plot_train_loss, plot_valid_loss, model\n",
    "\n"
   ]
  },
  {
   "cell_type": "code",
   "execution_count": null,
   "metadata": {},
   "outputs": [
    {
     "name": "stdout",
     "output_type": "stream",
     "text": [
      "\n",
      "Epoch 1\n"
     ]
    },
    {
     "data": {
      "text/html": [
       "\n",
       "        <p>Loss: 14000.8711   60000 / 60000</p>\n",
       "        <progress value='60000' max='60000', style='width: 100%'>60000</progress>\n",
       "    "
      ],
      "text/plain": [
       "<IPython.core.display.HTML object>"
      ]
     },
     "metadata": {},
     "output_type": "display_data"
    },
    {
     "name": "stdout",
     "output_type": "stream",
     "text": [
      "Training loss: 0.2333478480577469\n",
      "Validation loss: 0.17687734961509705\n",
      "\n",
      "Epoch 2\n"
     ]
    },
    {
     "data": {
      "text/html": [
       "\n",
       "        <p>Loss: 8289.9219   60000 / 60000</p>\n",
       "        <progress value='60000' max='60000', style='width: 100%'>60000</progress>\n",
       "    "
      ],
      "text/plain": [
       "<IPython.core.display.HTML object>"
      ]
     },
     "metadata": {},
     "output_type": "display_data"
    },
    {
     "name": "stdout",
     "output_type": "stream",
     "text": [
      "Training loss: 0.13816536962985992\n",
      "Validation loss: 0.1059165894985199\n",
      "\n",
      "Epoch 3\n"
     ]
    },
    {
     "data": {
      "text/html": [
       "\n",
       "        <p>Loss: 7734.9556   60000 / 60000</p>\n",
       "        <progress value='60000' max='60000', style='width: 100%'>60000</progress>\n",
       "    "
      ],
      "text/plain": [
       "<IPython.core.display.HTML object>"
      ]
     },
     "metadata": {},
     "output_type": "display_data"
    },
    {
     "name": "stdout",
     "output_type": "stream",
     "text": [
      "Training loss: 0.1289159208536148\n",
      "Validation loss: 0.10624168813228607\n",
      "\n",
      "Epoch 4\n"
     ]
    },
    {
     "data": {
      "text/html": [
       "\n",
       "        <p>Loss: 7647.6108   60000 / 60000</p>\n",
       "        <progress value='60000' max='60000', style='width: 100%'>60000</progress>\n",
       "    "
      ],
      "text/plain": [
       "<IPython.core.display.HTML object>"
      ]
     },
     "metadata": {},
     "output_type": "display_data"
    },
    {
     "name": "stdout",
     "output_type": "stream",
     "text": [
      "Training loss: 0.12746018171310425\n",
      "Validation loss: 0.11839937418699265\n",
      "\n",
      "Epoch 5\n"
     ]
    },
    {
     "data": {
      "text/html": [
       "\n",
       "        <p>Loss: 7599.1943   60000 / 60000</p>\n",
       "        <progress value='60000' max='60000', style='width: 100%'>60000</progress>\n",
       "    "
      ],
      "text/plain": [
       "<IPython.core.display.HTML object>"
      ]
     },
     "metadata": {},
     "output_type": "display_data"
    },
    {
     "name": "stdout",
     "output_type": "stream",
     "text": [
      "Training loss: 0.12665323913097382\n",
      "Validation loss: 0.13898730278015137\n",
      "\n",
      "Epoch 6\n"
     ]
    },
    {
     "data": {
      "text/html": [
       "\n",
       "        <p>Loss: 7509.6548   60000 / 60000</p>\n",
       "        <progress value='60000' max='60000', style='width: 100%'>60000</progress>\n",
       "    "
      ],
      "text/plain": [
       "<IPython.core.display.HTML object>"
      ]
     },
     "metadata": {},
     "output_type": "display_data"
    },
    {
     "name": "stdout",
     "output_type": "stream",
     "text": [
      "Training loss: 0.12516091763973236\n",
      "Validation loss: 0.10868017375469208\n",
      "\n",
      "Epoch 7\n"
     ]
    },
    {
     "data": {
      "text/html": [
       "\n",
       "        <p>Loss: 7198.4619   60000 / 60000</p>\n",
       "        <progress value='60000' max='60000', style='width: 100%'>60000</progress>\n",
       "    "
      ],
      "text/plain": [
       "<IPython.core.display.HTML object>"
      ]
     },
     "metadata": {},
     "output_type": "display_data"
    },
    {
     "name": "stdout",
     "output_type": "stream",
     "text": [
      "Training loss: 0.11997436732053757\n",
      "Validation loss: 0.10949064791202545\n",
      "\n",
      "Epoch 8\n"
     ]
    },
    {
     "data": {
      "text/html": [
       "\n",
       "        <p>Loss: 5220.1304   46720 / 60000</p>\n",
       "        <progress value='46720' max='60000', style='width: 100%'>46720</progress>\n",
       "    "
      ],
      "text/plain": [
       "<IPython.core.display.HTML object>"
      ]
     },
     "metadata": {},
     "output_type": "display_data"
    }
   ],
   "source": [
    "train_losses, valid_losses, model = train_new(model = model ,criterion = criterion,optimizer = optimizer,\n",
    "                                                num_epochs=20,dataloaders = [train_loader, test_loader],\n",
    "                                                dataset_sizes = dataset_sizes)"
   ]
  },
  {
   "cell_type": "code",
   "execution_count": null,
   "metadata": {},
   "outputs": [],
   "source": []
  }
 ],
 "metadata": {
  "kernelspec": {
   "display_name": "Python 3",
   "language": "python",
   "name": "python3"
  },
  "language_info": {
   "codemirror_mode": {
    "name": "ipython",
    "version": 3
   },
   "file_extension": ".py",
   "mimetype": "text/x-python",
   "name": "python",
   "nbconvert_exporter": "python",
   "pygments_lexer": "ipython3",
   "version": "3.6.9"
  }
 },
 "nbformat": 4,
 "nbformat_minor": 4
}
