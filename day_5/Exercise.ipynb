{
 "cells": [
  {
   "cell_type": "markdown",
   "metadata": {},
   "source": [
    "## CNN for image classification\n",
    "\n",
    "\n",
    "Download the dataset from here : https://old.datahub.io/dataset/architectural-heritage-elements-image-dataset/resource/feb088a0-9dd0-4938-9187-e3d64fccdbce \n",
    "    \n",
    "and build a CNN classifier that will classify the images in this dataset. \n",
    "\n",
    "You can use LeNet or LeNetVariant \n",
    "\n",
    "\n",
    "\n"
   ]
  },
  {
   "cell_type": "code",
   "execution_count": null,
   "metadata": {},
   "outputs": [],
   "source": []
  }
 ],
 "metadata": {
  "kernelspec": {
   "display_name": "Python 3",
   "language": "python",
   "name": "python3"
  },
  "language_info": {
   "codemirror_mode": {
    "name": "ipython",
    "version": 3
   },
   "file_extension": ".py",
   "mimetype": "text/x-python",
   "name": "python",
   "nbconvert_exporter": "python",
   "pygments_lexer": "ipython3",
   "version": "3.8.5"
  }
 },
 "nbformat": 4,
 "nbformat_minor": 4
}
