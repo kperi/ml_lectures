{
 "cells": [
  {
   "cell_type": "markdown",
   "metadata": {},
   "source": [
    "# Real life applications: Best practices and takeaway messages\n",
    "\n",
    "\n",
    "\n",
    "## The hierarchy of data needs\n",
    "\n",
    "\n",
    "\n",
    "<img src=\"images/pyramid.png\">"
   ]
  },
  {
   "cell_type": "markdown",
   "metadata": {},
   "source": [
    "# Success stories \n",
    "\n",
    "\n",
    "Advice: Always start with a well defined KPI. \n",
    "The discussion to get there will uncover most of the broken process, potentially broken data and even misconseptions of what needs to be achived. \n",
    "\n",
    "Always try to find a good proxy for benefit estimation. This is the most difficult part as it is not always clear and measurable the impact of an ML model in cost benefits/gains.\n",
    "\n",
    "Set up a baseline, simplest model possible first. This will give you a good idea of how far you are from meeting KPI goals. Iterate and evaluate gain/cost saving where possible (simulation can be a good tool).\n",
    "\n",
    "\n",
    "- **Demand forecasting & pricing optimisation**\n",
    "    \n",
    "    - Given historical data to forecast demand\n",
    "    - In two stages: Short term forecast, long term forecast\n",
    "        - First stage: Forecast down to store level / day \n",
    "            - For optimal planning from Distribution Centers to stores\n",
    "            - For pricing optimisation\n",
    "        - Second stage: Forecast on national level for inventory optimisation\n",
    "            - Question: How to turn a model into money estimate?\n",
    "            - Simulation\n",
    "    - Important lessons\n",
    "        - Forecasting systems need to operate on the same data\n",
    "        - Start collecting data systematically (price/demand pairs for elasticity)\n",
    "    \n",
    "- **Logistics optimisation**\n",
    "    - Optimise / transfer demand to optimal slots to increase fleet utilisation  \n",
    "    - Planning software ideally needs to be in house (or open for any queries in realtime)\n",
    "\n",
    "\n",
    "- **Recommender Engines**\n",
    "    - Build a model and compare it to existing solution (if any) with A/B testing\n",
    "    - Deploy your model \n",
    "    - Requirements:\n",
    "        - Multivariate A/B testing framework in place\n",
    "        - Data first business mindset \n",
    "        \n",
    "- **Search, Retrieval & Ranking**\n",
    "    - Always include end users in the loop.\n",
    "    - Go with a proper Elasticsearch index fist, where possible \n",
    "    - Measure precision/recall \n",
    "    - Optimise if necesssary\n",
    "    - Avoid going \"NLP\" or \"AI\" first if your index business logic is broken (eg 1000s of \"business rules\")\n",
    "    \n",
    "    \n",
    "- **Revenue Protection**\n",
    "\n",
    "    - Simple timeseries algorithms can be very useful\n",
    "    - Data needs to be reliable and in place \n",
    "    - Ask the Domain Experts \n",
    "    \n",
    "    \n"
   ]
  },
  {
   "cell_type": "markdown",
   "metadata": {},
   "source": [
    "# Documentation\n",
    "\n",
    "Documentation is massively important. \n",
    "\n",
    "Document everything:\n",
    "\n",
    "    - Establish a clear vision and trajectory of what you want to achive and when\n",
    "    - Document Short, mid, long term Roadmaps\n",
    "    - Every single outcome and iteration needs to be documented both for transparency and managerial reasons\n",
    "    - It is extremelly difficult to reverse engineer undocumented ML code, so document everything.\n",
    "    "
   ]
  },
  {
   "cell_type": "code",
   "execution_count": null,
   "metadata": {},
   "outputs": [],
   "source": []
  }
 ],
 "metadata": {
  "kernelspec": {
   "display_name": "Python 3",
   "language": "python",
   "name": "python3"
  },
  "language_info": {
   "codemirror_mode": {
    "name": "ipython",
    "version": 3
   },
   "file_extension": ".py",
   "mimetype": "text/x-python",
   "name": "python",
   "nbconvert_exporter": "python",
   "pygments_lexer": "ipython3",
   "version": "3.8.5"
  }
 },
 "nbformat": 4,
 "nbformat_minor": 4
}
