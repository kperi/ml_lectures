{
 "cells": [
  {
   "cell_type": "code",
   "execution_count": 2,
   "metadata": {},
   "outputs": [],
   "source": [
    "import pandas as pd\n",
    "import numpy as np\n",
    "import matplotlib.pyplot as plt\n",
    "from sklearn.linear_model import LogisticRegression\n",
    "from sklearn.ensemble import RandomForestClassifier\n",
    "from sklearn.model_selection import cross_val_score, train_test_split\n",
    "from sklearn.inspection import permutation_importance\n",
    "\n",
    "from sklearn.preprocessing import StandardScaler, Normalizer\n",
    "import seaborn as sns\n",
    "plt.style.use('seaborn-whitegrid') "
   ]
  },
  {
   "cell_type": "markdown",
   "metadata": {},
   "source": [
    "## Table of contents\n",
    "\n",
    "- Data Processing and feature engineering \n",
    "\n",
    "- Random Forest model and feature importances \n",
    "\n",
    "- Logistic regression model and feature weights\n",
    "\n",
    "- Considerations and next steps"
   ]
  },
  {
   "cell_type": "markdown",
   "metadata": {},
   "source": [
    "## Data processing "
   ]
  },
  {
   "cell_type": "code",
   "execution_count": 3,
   "metadata": {},
   "outputs": [
    {
     "data": {
      "text/plain": [
       "Index(['EmployeeID', 'Age', 'Gender', 'MaritalStatus', 'Education_Level',\n",
       "       'EducationField', 'BusinessTravel', 'Department', 'Commute',\n",
       "       'MonthlyIncome', 'MonthlyRate', 'DailyRate', 'HourlyRate', 'Grade',\n",
       "       'Role', 'Satisfaction', 'NumCompaniesWorked', 'OverTime',\n",
       "       'TotalExperienceYears', 'YearsInCompany', 'YearsInCurrentRole',\n",
       "       'YearsSinceLastPromotion', 'YearsWithLineManager', 'Attrition'],\n",
       "      dtype='object')"
      ]
     },
     "execution_count": 3,
     "metadata": {},
     "output_type": "execute_result"
    }
   ],
   "source": [
    "df = pd.read_csv('./data/HR_Data.csv')\n",
    "df.columns"
   ]
  },
  {
   "cell_type": "markdown",
   "metadata": {},
   "source": [
    "### Dataset Statistics"
   ]
  },
  {
   "cell_type": "code",
   "execution_count": 4,
   "metadata": {},
   "outputs": [
    {
     "data": {
      "text/html": [
       "<div>\n",
       "<style scoped>\n",
       "    .dataframe tbody tr th:only-of-type {\n",
       "        vertical-align: middle;\n",
       "    }\n",
       "\n",
       "    .dataframe tbody tr th {\n",
       "        vertical-align: top;\n",
       "    }\n",
       "\n",
       "    .dataframe thead th {\n",
       "        text-align: right;\n",
       "    }\n",
       "</style>\n",
       "<table border=\"1\" class=\"dataframe\">\n",
       "  <thead>\n",
       "    <tr style=\"text-align: right;\">\n",
       "      <th></th>\n",
       "      <th>Age</th>\n",
       "      <th>MonthlyIncome</th>\n",
       "      <th>Commute</th>\n",
       "      <th>YearsInCompany</th>\n",
       "      <th>YearsInCurrentRole</th>\n",
       "      <th>YearsSinceLastPromotion</th>\n",
       "    </tr>\n",
       "  </thead>\n",
       "  <tbody>\n",
       "    <tr>\n",
       "      <th>mean</th>\n",
       "      <td>36.923810</td>\n",
       "      <td>6502.931293</td>\n",
       "      <td>9.192517</td>\n",
       "      <td>7.008163</td>\n",
       "      <td>4.229252</td>\n",
       "      <td>2.187755</td>\n",
       "    </tr>\n",
       "    <tr>\n",
       "      <th>std</th>\n",
       "      <td>9.135373</td>\n",
       "      <td>4707.956783</td>\n",
       "      <td>8.106864</td>\n",
       "      <td>6.126525</td>\n",
       "      <td>3.623137</td>\n",
       "      <td>3.222430</td>\n",
       "    </tr>\n",
       "    <tr>\n",
       "      <th>min</th>\n",
       "      <td>18.000000</td>\n",
       "      <td>1009.000000</td>\n",
       "      <td>1.000000</td>\n",
       "      <td>0.000000</td>\n",
       "      <td>0.000000</td>\n",
       "      <td>0.000000</td>\n",
       "    </tr>\n",
       "    <tr>\n",
       "      <th>25%</th>\n",
       "      <td>30.000000</td>\n",
       "      <td>2911.000000</td>\n",
       "      <td>2.000000</td>\n",
       "      <td>3.000000</td>\n",
       "      <td>2.000000</td>\n",
       "      <td>0.000000</td>\n",
       "    </tr>\n",
       "    <tr>\n",
       "      <th>50%</th>\n",
       "      <td>36.000000</td>\n",
       "      <td>4919.000000</td>\n",
       "      <td>7.000000</td>\n",
       "      <td>5.000000</td>\n",
       "      <td>3.000000</td>\n",
       "      <td>1.000000</td>\n",
       "    </tr>\n",
       "    <tr>\n",
       "      <th>75%</th>\n",
       "      <td>43.000000</td>\n",
       "      <td>8379.000000</td>\n",
       "      <td>14.000000</td>\n",
       "      <td>9.000000</td>\n",
       "      <td>7.000000</td>\n",
       "      <td>3.000000</td>\n",
       "    </tr>\n",
       "    <tr>\n",
       "      <th>max</th>\n",
       "      <td>60.000000</td>\n",
       "      <td>19999.000000</td>\n",
       "      <td>29.000000</td>\n",
       "      <td>40.000000</td>\n",
       "      <td>18.000000</td>\n",
       "      <td>15.000000</td>\n",
       "    </tr>\n",
       "  </tbody>\n",
       "</table>\n",
       "</div>"
      ],
      "text/plain": [
       "            Age  MonthlyIncome    Commute  YearsInCompany  YearsInCurrentRole  \\\n",
       "mean  36.923810    6502.931293   9.192517        7.008163            4.229252   \n",
       "std    9.135373    4707.956783   8.106864        6.126525            3.623137   \n",
       "min   18.000000    1009.000000   1.000000        0.000000            0.000000   \n",
       "25%   30.000000    2911.000000   2.000000        3.000000            2.000000   \n",
       "50%   36.000000    4919.000000   7.000000        5.000000            3.000000   \n",
       "75%   43.000000    8379.000000  14.000000        9.000000            7.000000   \n",
       "max   60.000000   19999.000000  29.000000       40.000000           18.000000   \n",
       "\n",
       "      YearsSinceLastPromotion  \n",
       "mean                 2.187755  \n",
       "std                  3.222430  \n",
       "min                  0.000000  \n",
       "25%                  0.000000  \n",
       "50%                  1.000000  \n",
       "75%                  3.000000  \n",
       "max                 15.000000  "
      ]
     },
     "execution_count": 4,
     "metadata": {},
     "output_type": "execute_result"
    }
   ],
   "source": [
    "df[['Age', 'MonthlyIncome','Commute', 'YearsInCompany', 'YearsInCurrentRole','YearsSinceLastPromotion']].describe()[1:]"
   ]
  },
  {
   "cell_type": "code",
   "execution_count": 5,
   "metadata": {},
   "outputs": [
    {
     "data": {
      "text/plain": [
       "<AxesSubplot:>"
      ]
     },
     "execution_count": 5,
     "metadata": {},
     "output_type": "execute_result"
    },
    {
     "data": {
      "image/png": "[encoded data removed]",
      "text/plain": [
       "<Figure size 432x288 with 1 Axes>"
      ]
     },
     "metadata": {},
     "output_type": "display_data"
    }
   ],
   "source": [
    "df.Gender.hist()"
   ]
  },
  {
   "cell_type": "code",
   "execution_count": 6,
   "metadata": {},
   "outputs": [
    {
     "data": {
      "text/plain": [
       "<AxesSubplot:>"
      ]
     },
     "execution_count": 6,
     "metadata": {},
     "output_type": "execute_result"
    },
    {
     "data": {
      "image/png": "[encoded data removed]",
      "text/plain": [
       "<Figure size 432x288 with 1 Axes>"
      ]
     },
     "metadata": {},
     "output_type": "display_data"
    }
   ],
   "source": [
    "df[df.Gender=='Female'].Attrition.hist()"
   ]
  },
  {
   "cell_type": "code",
   "execution_count": 7,
   "metadata": {},
   "outputs": [
    {
     "data": {
      "text/plain": [
       "<AxesSubplot:>"
      ]
     },
     "execution_count": 7,
     "metadata": {},
     "output_type": "execute_result"
    },
    {
     "data": {
      "image/png": "[encoded data removed]",
      "text/plain": [
       "<Figure size 432x288 with 1 Axes>"
      ]
     },
     "metadata": {},
     "output_type": "display_data"
    }
   ],
   "source": [
    "df[df.Gender=='Male'].Attrition.hist()"
   ]
  },
  {
   "cell_type": "code",
   "execution_count": 8,
   "metadata": {},
   "outputs": [
    {
     "data": {
      "text/plain": [
       "<AxesSubplot:>"
      ]
     },
     "execution_count": 8,
     "metadata": {},
     "output_type": "execute_result"
    },
    {
     "data": {
      "image/png": "[encoded data removed]",
      "text/plain": [
       "<Figure size 432x288 with 1 Axes>"
      ]
     },
     "metadata": {},
     "output_type": "display_data"
    }
   ],
   "source": [
    "df.Age.hist()"
   ]
  },
  {
   "cell_type": "code",
   "execution_count": 9,
   "metadata": {},
   "outputs": [
    {
     "data": {
      "text/plain": [
       "<AxesSubplot:>"
      ]
     },
     "execution_count": 9,
     "metadata": {},
     "output_type": "execute_result"
    },
    {
     "data": {
      "image/png": "[encoded data removed]",
      "text/plain": [
       "<Figure size 432x288 with 1 Axes>"
      ]
     },
     "metadata": {},
     "output_type": "display_data"
    }
   ],
   "source": [
    "df.MonthlyIncome.hist()"
   ]
  },
  {
   "cell_type": "code",
   "execution_count": 10,
   "metadata": {},
   "outputs": [
    {
     "data": {
      "text/plain": [
       "<AxesSubplot:>"
      ]
     },
     "execution_count": 10,
     "metadata": {},
     "output_type": "execute_result"
    },
    {
     "data": {
      "image/png": "[encoded data removed]",
      "text/plain": [
       "<Figure size 432x288 with 1 Axes>"
      ]
     },
     "metadata": {},
     "output_type": "display_data"
    }
   ],
   "source": [
    "df.DailyRate.hist()"
   ]
  },
  {
   "cell_type": "code",
   "execution_count": 11,
   "metadata": {},
   "outputs": [
    {
     "data": {
      "text/plain": [
       "<AxesSubplot:>"
      ]
     },
     "execution_count": 11,
     "metadata": {},
     "output_type": "execute_result"
    },
    {
     "data": {
      "image/png": "[encoded data removed]",
      "text/plain": [
       "<Figure size 432x288 with 1 Axes>"
      ]
     },
     "metadata": {},
     "output_type": "display_data"
    }
   ],
   "source": [
    "df.Satisfaction.hist()"
   ]
  },
  {
   "cell_type": "code",
   "execution_count": 12,
   "metadata": {},
   "outputs": [
    {
     "data": {
      "text/plain": [
       "Index(['EmployeeID', 'Age', 'Gender', 'MaritalStatus', 'Education_Level',\n",
       "       'EducationField', 'BusinessTravel', 'Department', 'Commute',\n",
       "       'MonthlyIncome', 'MonthlyRate', 'DailyRate', 'HourlyRate', 'Grade',\n",
       "       'Role', 'Satisfaction', 'NumCompaniesWorked', 'OverTime',\n",
       "       'TotalExperienceYears', 'YearsInCompany', 'YearsInCurrentRole',\n",
       "       'YearsSinceLastPromotion', 'YearsWithLineManager', 'Attrition'],\n",
       "      dtype='object')"
      ]
     },
     "execution_count": 12,
     "metadata": {},
     "output_type": "execute_result"
    }
   ],
   "source": [
    "df.columns"
   ]
  },
  {
   "cell_type": "markdown",
   "metadata": {},
   "source": [
    "## Feature Engineering \n",
    "\n",
    "Transform categorical columns to 1-hot representation in order to be used from ML models.\n",
    "\n",
    "We are also dropping `Age` and `Gender` columns to avoid injecting bias to the models \n"
   ]
  },
  {
   "cell_type": "code",
   "execution_count": 13,
   "metadata": {},
   "outputs": [],
   "source": [
    "#df= df.drop( \"Gender\", axis=1)\n",
    "#df= df.drop( \"Age\", axis=1)\n",
    "categorical_cols = [\n",
    "                    \"Gender\", \n",
    "                    \"EducationField\", \n",
    "                    \"MaritalStatus\", \n",
    "                    \"OverTime\", \n",
    "                    \"BusinessTravel\", \n",
    "                    \"Department\", \"Role\",\n",
    "                   ]\n",
    "\n",
    "\n",
    "Uni, Msc , Phd\n",
    "\n",
    "Uni [1, 0, 0 ]\n",
    "Msc [0, 1, 0 ]\n",
    "Phd [0, 0, 1]"
   ]
  },
  {
   "cell_type": "markdown",
   "metadata": {},
   "source": [
    "## 1-hot encoding of the categorical variables"
   ]
  },
  {
   "cell_type": "code",
   "execution_count": 14,
   "metadata": {},
   "outputs": [
    {
     "name": "stdout",
     "output_type": "stream",
     "text": [
      "Gender\n",
      "EducationField\n",
      "MaritalStatus\n",
      "OverTime\n",
      "BusinessTravel\n",
      "Department\n",
      "Role\n"
     ]
    },
    {
     "data": {
      "text/html": [
       "<div>\n",
       "<style scoped>\n",
       "    .dataframe tbody tr th:only-of-type {\n",
       "        vertical-align: middle;\n",
       "    }\n",
       "\n",
       "    .dataframe tbody tr th {\n",
       "        vertical-align: top;\n",
       "    }\n",
       "\n",
       "    .dataframe thead th {\n",
       "        text-align: right;\n",
       "    }\n",
       "</style>\n",
       "<table border=\"1\" class=\"dataframe\">\n",
       "  <thead>\n",
       "    <tr style=\"text-align: right;\">\n",
       "      <th></th>\n",
       "      <th>Gender__Female</th>\n",
       "      <th>Gender__Male</th>\n",
       "      <th>EducationField__Business</th>\n",
       "      <th>EducationField__Engineering</th>\n",
       "      <th>EducationField__Health Science</th>\n",
       "      <th>EducationField__Human Resources</th>\n",
       "      <th>EducationField__Other</th>\n",
       "      <th>EducationField__Social Sciences</th>\n",
       "      <th>MaritalStatus__Divorced</th>\n",
       "      <th>MaritalStatus__Married</th>\n",
       "      <th>...</th>\n",
       "      <th>Department__Sales</th>\n",
       "      <th>Role__Healthcare Representative</th>\n",
       "      <th>Role__Human Resources</th>\n",
       "      <th>Role__Laboratory Technician</th>\n",
       "      <th>Role__Manager</th>\n",
       "      <th>Role__Manufacturing Director</th>\n",
       "      <th>Role__Research Director</th>\n",
       "      <th>Role__Research Scientist</th>\n",
       "      <th>Role__Sales Executive</th>\n",
       "      <th>Role__Sales Representative</th>\n",
       "    </tr>\n",
       "  </thead>\n",
       "  <tbody>\n",
       "    <tr>\n",
       "      <th>0</th>\n",
       "      <td>1</td>\n",
       "      <td>0</td>\n",
       "      <td>0</td>\n",
       "      <td>0</td>\n",
       "      <td>0</td>\n",
       "      <td>0</td>\n",
       "      <td>0</td>\n",
       "      <td>1</td>\n",
       "      <td>0</td>\n",
       "      <td>0</td>\n",
       "      <td>...</td>\n",
       "      <td>1</td>\n",
       "      <td>0</td>\n",
       "      <td>0</td>\n",
       "      <td>0</td>\n",
       "      <td>0</td>\n",
       "      <td>0</td>\n",
       "      <td>0</td>\n",
       "      <td>0</td>\n",
       "      <td>1</td>\n",
       "      <td>0</td>\n",
       "    </tr>\n",
       "    <tr>\n",
       "      <th>1</th>\n",
       "      <td>0</td>\n",
       "      <td>1</td>\n",
       "      <td>0</td>\n",
       "      <td>0</td>\n",
       "      <td>0</td>\n",
       "      <td>0</td>\n",
       "      <td>0</td>\n",
       "      <td>1</td>\n",
       "      <td>0</td>\n",
       "      <td>1</td>\n",
       "      <td>...</td>\n",
       "      <td>0</td>\n",
       "      <td>0</td>\n",
       "      <td>0</td>\n",
       "      <td>0</td>\n",
       "      <td>0</td>\n",
       "      <td>0</td>\n",
       "      <td>0</td>\n",
       "      <td>1</td>\n",
       "      <td>0</td>\n",
       "      <td>0</td>\n",
       "    </tr>\n",
       "    <tr>\n",
       "      <th>2</th>\n",
       "      <td>0</td>\n",
       "      <td>1</td>\n",
       "      <td>0</td>\n",
       "      <td>0</td>\n",
       "      <td>0</td>\n",
       "      <td>0</td>\n",
       "      <td>1</td>\n",
       "      <td>0</td>\n",
       "      <td>0</td>\n",
       "      <td>0</td>\n",
       "      <td>...</td>\n",
       "      <td>0</td>\n",
       "      <td>0</td>\n",
       "      <td>0</td>\n",
       "      <td>1</td>\n",
       "      <td>0</td>\n",
       "      <td>0</td>\n",
       "      <td>0</td>\n",
       "      <td>0</td>\n",
       "      <td>0</td>\n",
       "      <td>0</td>\n",
       "    </tr>\n",
       "    <tr>\n",
       "      <th>3</th>\n",
       "      <td>1</td>\n",
       "      <td>0</td>\n",
       "      <td>0</td>\n",
       "      <td>0</td>\n",
       "      <td>0</td>\n",
       "      <td>0</td>\n",
       "      <td>0</td>\n",
       "      <td>1</td>\n",
       "      <td>0</td>\n",
       "      <td>1</td>\n",
       "      <td>...</td>\n",
       "      <td>0</td>\n",
       "      <td>0</td>\n",
       "      <td>0</td>\n",
       "      <td>0</td>\n",
       "      <td>0</td>\n",
       "      <td>0</td>\n",
       "      <td>0</td>\n",
       "      <td>1</td>\n",
       "      <td>0</td>\n",
       "      <td>0</td>\n",
       "    </tr>\n",
       "    <tr>\n",
       "      <th>4</th>\n",
       "      <td>0</td>\n",
       "      <td>1</td>\n",
       "      <td>0</td>\n",
       "      <td>0</td>\n",
       "      <td>1</td>\n",
       "      <td>0</td>\n",
       "      <td>0</td>\n",
       "      <td>0</td>\n",
       "      <td>0</td>\n",
       "      <td>1</td>\n",
       "      <td>...</td>\n",
       "      <td>0</td>\n",
       "      <td>0</td>\n",
       "      <td>0</td>\n",
       "      <td>1</td>\n",
       "      <td>0</td>\n",
       "      <td>0</td>\n",
       "      <td>0</td>\n",
       "      <td>0</td>\n",
       "      <td>0</td>\n",
       "      <td>0</td>\n",
       "    </tr>\n",
       "  </tbody>\n",
       "</table>\n",
       "<p>5 rows × 28 columns</p>\n",
       "</div>"
      ],
      "text/plain": [
       "   Gender__Female  Gender__Male  EducationField__Business  \\\n",
       "0               1             0                         0   \n",
       "1               0             1                         0   \n",
       "2               0             1                         0   \n",
       "3               1             0                         0   \n",
       "4               0             1                         0   \n",
       "\n",
       "   EducationField__Engineering  EducationField__Health Science  \\\n",
       "0                            0                               0   \n",
       "1                            0                               0   \n",
       "2                            0                               0   \n",
       "3                            0                               0   \n",
       "4                            0                               1   \n",
       "\n",
       "   EducationField__Human Resources  EducationField__Other  \\\n",
       "0                                0                      0   \n",
       "1                                0                      0   \n",
       "2                                0                      1   \n",
       "3                                0                      0   \n",
       "4                                0                      0   \n",
       "\n",
       "   EducationField__Social Sciences  MaritalStatus__Divorced  \\\n",
       "0                                1                        0   \n",
       "1                                1                        0   \n",
       "2                                0                        0   \n",
       "3                                1                        0   \n",
       "4                                0                        0   \n",
       "\n",
       "   MaritalStatus__Married  ...  Department__Sales  \\\n",
       "0                       0  ...                  1   \n",
       "1                       1  ...                  0   \n",
       "2                       0  ...                  0   \n",
       "3                       1  ...                  0   \n",
       "4                       1  ...                  0   \n",
       "\n",
       "   Role__Healthcare Representative  Role__Human Resources  \\\n",
       "0                                0                      0   \n",
       "1                                0                      0   \n",
       "2                                0                      0   \n",
       "3                                0                      0   \n",
       "4                                0                      0   \n",
       "\n",
       "   Role__Laboratory Technician  Role__Manager  Role__Manufacturing Director  \\\n",
       "0                            0              0                             0   \n",
       "1                            0              0                             0   \n",
       "2                            1              0                             0   \n",
       "3                            0              0                             0   \n",
       "4                            1              0                             0   \n",
       "\n",
       "   Role__Research Director  Role__Research Scientist  Role__Sales Executive  \\\n",
       "0                        0                         0                      1   \n",
       "1                        0                         1                      0   \n",
       "2                        0                         0                      0   \n",
       "3                        0                         1                      0   \n",
       "4                        0                         0                      0   \n",
       "\n",
       "   Role__Sales Representative  \n",
       "0                           0  \n",
       "1                           0  \n",
       "2                           0  \n",
       "3                           0  \n",
       "4                           0  \n",
       "\n",
       "[5 rows x 28 columns]"
      ]
     },
     "execution_count": 14,
     "metadata": {},
     "output_type": "execute_result"
    }
   ],
   "source": [
    "dummies = None  \n",
    "for col in categorical_cols:\n",
    "    print(col)\n",
    "    tmp = pd.get_dummies( df[col], prefix=col + \"_\")\n",
    "    if dummies is None:\n",
    "        dummies= tmp\n",
    "    else:\n",
    "        dummies = dummies.merge(tmp, left_index=True, right_index=True)\n",
    "    \n",
    "dummies.head()"
   ]
  },
  {
   "cell_type": "code",
   "execution_count": 15,
   "metadata": {},
   "outputs": [],
   "source": [
    "other_cols = [ c for c in df.columns if c not in categorical_cols]\n",
    "other_cols\n",
    "df_pred = df[other_cols].copy()"
   ]
  },
  {
   "cell_type": "code",
   "execution_count": 16,
   "metadata": {},
   "outputs": [],
   "source": [
    "df_all = df_pred.merge(dummies, left_index=True, right_index=True)"
   ]
  },
  {
   "cell_type": "code",
   "execution_count": 17,
   "metadata": {},
   "outputs": [],
   "source": [
    "target = df_all[['Attrition']].copy()\n",
    "df_all = df_all.drop(labels=[\"EmployeeID\", 'Attrition'], axis=1)"
   ]
  },
  {
   "cell_type": "code",
   "execution_count": 18,
   "metadata": {},
   "outputs": [],
   "source": [
    "target['Attrition'] =  target['Attrition'].map( lambda k: 1 if k =='Yes' else 0)"
   ]
  },
  {
   "cell_type": "code",
   "execution_count": 19,
   "metadata": {},
   "outputs": [],
   "source": [
    "X = df_all.values\n",
    "columns = df_all.columns\n",
    "\n",
    "y = target.Attrition.values"
   ]
  },
  {
   "cell_type": "code",
   "execution_count": 20,
   "metadata": {},
   "outputs": [],
   "source": [
    "X_train, X_test, y_train, y_test = train_test_split(\n",
    "     X, y, test_size=0.25, random_state=42)"
   ]
  },
  {
   "cell_type": "markdown",
   "metadata": {},
   "source": [
    "## Fit a Random Forest to the data\n"
   ]
  },
  {
   "cell_type": "code",
   "execution_count": 21,
   "metadata": {},
   "outputs": [],
   "source": [
    "clf = RandomForestClassifier(random_state=42,  n_estimators=100)"
   ]
  },
  {
   "cell_type": "markdown",
   "metadata": {},
   "source": [
    "## Cross-validate the model with f1-macro score\n",
    "\n",
    "Since the labels are imbalanced, accuracy is not a good metric. Here instead, we are using f1-micro score,\n",
    "which takes into account true positives, false negatives and false positives.\n",
    "\n",
    "$f1  = 2 * \\frac{precision*recall}{precision\\cdot recall} $ \n",
    "\n",
    "where \n",
    "$ precision = \\frac{tp}{tp+tf}$ and \n",
    "\n",
    "$recal = \\frac{tp}{tp+fn}$"
   ]
  },
  {
   "cell_type": "code",
   "execution_count": 22,
   "metadata": {},
   "outputs": [
    {
     "name": "stdout",
     "output_type": "stream",
     "text": [
      "f1-score 0.8544217687074829\n"
     ]
    }
   ],
   "source": [
    "ret = cross_val_score(clf, X,y, cv = 10  , scoring='f1_micro')\n",
    "\n",
    "print( f\"f1-score {np.mean(ret)}\")"
   ]
  },
  {
   "cell_type": "code",
   "execution_count": 23,
   "metadata": {},
   "outputs": [
    {
     "data": {
      "text/plain": [
       "RandomForestClassifier(random_state=42)"
      ]
     },
     "execution_count": 23,
     "metadata": {},
     "output_type": "execute_result"
    }
   ],
   "source": [
    "clf.fit(X, y)"
   ]
  },
  {
   "cell_type": "markdown",
   "metadata": {},
   "source": [
    "## Get the top 10 most important features of the forest\n",
    "\n",
    "Here, we are going to be using the random forest impurity-based feature importance of RandomForestClassifier, followed by the feature-permutation based importance "
   ]
  },
  {
   "cell_type": "code",
   "execution_count": 24,
   "metadata": {},
   "outputs": [
    {
     "name": "stdout",
     "output_type": "stream",
     "text": [
      "Feature ranking:\n",
      "1. Age - [feat 3],  (0.082168)\n",
      "2. Education_Level - [feat 0],  (0.071194)\n",
      "3. Commute - [feat 4],  (0.061447)\n",
      "4. MonthlyIncome - [feat 5],  (0.061369)\n",
      "5. MonthlyRate - [feat 10],  (0.058817)\n",
      "6. DailyRate - [feat 2],  (0.058688)\n",
      "7. HourlyRate - [feat 6],  (0.058280)\n",
      "8. Grade - [feat 11],  (0.046342)\n",
      "9. Satisfaction - [feat 9],  (0.039615)\n",
      "10. NumCompaniesWorked - [feat 14],  (0.038402)\n"
     ]
    },
    {
     "data": {
      "image/png": "[encoded data removed]",
      "text/plain": [
       "<Figure size 432x432 with 1 Axes>"
      ]
     },
     "metadata": {},
     "output_type": "display_data"
    }
   ],
   "source": [
    "NUM_FEATS = 10 \n",
    "importances = clf.feature_importances_\n",
    "std = np.std([tree.feature_importances_ for tree in clf.estimators_],\n",
    "             axis=0)\n",
    "indices = np.argsort(importances)[::-1]\n",
    "\n",
    "# Print the feature ranking\n",
    "print(\"Feature ranking:\")\n",
    "\n",
    "\n",
    "for f in range(NUM_FEATS):\n",
    "    print(\"%d. %s - [feat %d],  (%f)\" % (f + 1, columns[f], indices[f], importances[indices[f]]))\n",
    "\n",
    "# Plot the impurity-based feature importances of the forest\n",
    "plt.figure( figsize= (6,6))\n",
    "plt.title(\"Feature importances\")\n",
    "\n",
    "\n",
    "plt.barh(range(NUM_FEATS), importances[indices[0:NUM_FEATS]],\n",
    "        color=\"#87ceeb\", xerr=std[indices[0:NUM_FEATS]], align=\"center\",  ecolor='darkred', linestyle=':')\n",
    "\n",
    "plt.yticks(range(NUM_FEATS), columns[0:NUM_FEATS], rotation=0)\n",
    "plt.xlim([0, max(importances)+.05])\n",
    "plt.show()"
   ]
  },
  {
   "cell_type": "markdown",
   "metadata": {},
   "source": []
  },
  {
   "cell_type": "markdown",
   "metadata": {},
   "source": [
    "## Feature importance using permutation importance"
   ]
  },
  {
   "cell_type": "code",
   "execution_count": 25,
   "metadata": {},
   "outputs": [
    {
     "data": {
      "image/png": "[encoded data removed]",
      "text/plain": [
       "<Figure size 432x288 with 1 Axes>"
      ]
     },
     "metadata": {},
     "output_type": "display_data"
    }
   ],
   "source": [
    "NUM_FEATS = 10\n",
    "results = permutation_importance(clf, X, y, scoring='f1_macro')\n",
    "# get importance\n",
    "importances = results.importances_mean\n",
    "std = np.std( results.importances, axis =1) \n",
    "\n",
    " \n",
    "# plot feature importance\n",
    "plt.bar([x for x in range(len(importances))], importances)\n",
    "plt.show()"
   ]
  },
  {
   "cell_type": "code",
   "execution_count": 26,
   "metadata": {},
   "outputs": [
    {
     "data": {
      "text/plain": [
       "([26, 0, 3, 27, 9, 25, 2, 14, 8, 7],\n",
       " ['OverTime__No',\n",
       "  'Age',\n",
       "  'MonthlyIncome',\n",
       "  'OverTime__Yes',\n",
       "  'NumCompaniesWorked',\n",
       "  'MaritalStatus__Single',\n",
       "  'Commute',\n",
       "  'YearsWithLineManager',\n",
       "  'Satisfaction',\n",
       "  'Grade'])"
      ]
     },
     "execution_count": 26,
     "metadata": {},
     "output_type": "execute_result"
    }
   ],
   "source": [
    "imp_columns = []\n",
    "feat_inds = []\n",
    "indices = np.argsort(importances)[::-1]\n",
    "\n",
    "for ind in indices[0:NUM_FEATS]:\n",
    "    imp_columns.append( columns[ind])\n",
    "    feat_inds.append( ind )\n",
    "    \n",
    "    \n",
    "feat_inds, imp_columns"
   ]
  },
  {
   "cell_type": "code",
   "execution_count": 27,
   "metadata": {},
   "outputs": [
    {
     "data": {
      "image/png": "[encoded data removed]",
      "text/plain": [
       "<Figure size 432x432 with 1 Axes>"
      ]
     },
     "metadata": {},
     "output_type": "display_data"
    }
   ],
   "source": [
    "# Plot the permutation-based feature importances of the forest\n",
    "plt.figure( figsize= (6,6))\n",
    "plt.title(f\"Top {NUM_FEATS} permutation importances\")\n",
    "\n",
    "\n",
    "plt.barh(range(NUM_FEATS), importances[indices[0:NUM_FEATS]],\n",
    "        color=\"#87ceeb\", xerr=std[indices[0:NUM_FEATS]], align=\"center\",  ecolor='darkred', linestyle=':')\n",
    "\n",
    "plt.yticks(range(NUM_FEATS), columns[0:NUM_FEATS], rotation=0)\n",
    "plt.xlim([0, max(importances)+.05])\n",
    "plt.show()"
   ]
  },
  {
   "cell_type": "markdown",
   "metadata": {},
   "source": [
    "## Logistic Regression model"
   ]
  },
  {
   "cell_type": "markdown",
   "metadata": {},
   "source": [
    "Here, we fit a logistic regression model to the data,\n",
    "eg we model the probability of Attrition given the rest of the features\n",
    "\n",
    "$$ p( Attrition=Yes | x, w )   = \\frac{1}{ 1 + e^{ - w^T x  } }  $$\n",
    "where $x$ is the feature vector and $w$ the model's weights.\n",
    "\n",
    "\n",
    "Note that we are normalising input features to be in the range,  $x_i \\in [0,1]$\n",
    "\n"
   ]
  },
  {
   "cell_type": "code",
   "execution_count": 28,
   "metadata": {},
   "outputs": [
    {
     "data": {
      "text/plain": [
       "(5.386914010062064, -2.072192177156677, 43)"
      ]
     },
     "execution_count": 28,
     "metadata": {},
     "output_type": "execute_result"
    }
   ],
   "source": [
    "scaler = StandardScaler() #Normalizer()\n",
    "\n",
    "\n",
    "other_cols = [c for c in df.columns if c not in categorical_cols + ['Attrition']][1:]\n",
    "other_cols\n",
    "df_pred = df[other_cols].copy()\n",
    "\n",
    "\n",
    "target=  df[['Attrition']].copy()\n",
    "target['Attrition'] =  target['Attrition'].map( lambda k: 1 if k =='Yes' else 0)\n",
    "y = target.Attrition.values\n",
    "\n",
    "\n",
    "x1 =  scaler.fit_transform( df_pred.values )\n",
    "X = np.concatenate( [x1, dummies.values], axis=1)\n",
    "\n",
    "columns = list(dummies.columns) + other_cols\n",
    "\n",
    "X.max(), X.min(), len(columns)"
   ]
  },
  {
   "cell_type": "markdown",
   "metadata": {},
   "source": [
    "## Cross validate the model with 5 fold-cv and f1 scoring"
   ]
  },
  {
   "cell_type": "code",
   "execution_count": 29,
   "metadata": {},
   "outputs": [
    {
     "data": {
      "text/plain": [
       "(array([0.85034014, 0.8707483 , 0.8707483 , 0.84353741, 0.88095238]),\n",
       " 0.863265306122449)"
      ]
     },
     "execution_count": 29,
     "metadata": {},
     "output_type": "execute_result"
    }
   ],
   "source": [
    "model = LogisticRegression( random_state = 0, fit_intercept = False)\n",
    "ret=cross_val_score(model, X,y, cv = 5  , scoring='f1_micro')\n",
    "ret, np.mean(ret)\n"
   ]
  },
  {
   "cell_type": "code",
   "execution_count": 30,
   "metadata": {},
   "outputs": [
    {
     "data": {
      "text/plain": [
       "LogisticRegression(fit_intercept=False, random_state=0)"
      ]
     },
     "execution_count": 30,
     "metadata": {},
     "output_type": "execute_result"
    }
   ],
   "source": [
    "model.fit(X,y)"
   ]
  },
  {
   "cell_type": "markdown",
   "metadata": {},
   "source": [
    "## Plot model weights "
   ]
  },
  {
   "cell_type": "code",
   "execution_count": 31,
   "metadata": {
    "scrolled": false
   },
   "outputs": [
    {
     "data": {
      "image/png": "[encoded data removed]",
      "text/plain": [
       "<Figure size 432x288 with 1 Axes>"
      ]
     },
     "metadata": {},
     "output_type": "display_data"
    }
   ],
   "source": [
    "importances = model.coef_[0]\n",
    "plt.bar([x for x in range(len(importances))], importances)\n",
    "plt.show()"
   ]
  },
  {
   "cell_type": "code",
   "execution_count": null,
   "metadata": {},
   "outputs": [],
   "source": []
  },
  {
   "cell_type": "code",
   "execution_count": 32,
   "metadata": {},
   "outputs": [
    {
     "data": {
      "image/png": "[encoded data removed]",
      "text/plain": [
       "<Figure size 432x432 with 1 Axes>"
      ]
     },
     "metadata": {},
     "output_type": "display_data"
    }
   ],
   "source": [
    "NUM_FEATS = 10\n",
    "\n",
    "indices = np.argsort(importances)[::-1]\n",
    "imp_columns = []\n",
    "feat_inds  = []\n",
    "for ind in indices[0:NUM_FEATS]:\n",
    "    imp_columns.append( columns[ind])\n",
    "    feat_inds.append( ind )\n",
    "    \n",
    "    \n",
    "    \n",
    "# Plot the top-k weights \n",
    "plt.figure( figsize= (6,6))\n",
    "plt.title(f\"Top {NUM_FEATS} weights\")\n",
    "\n",
    "plt.barh(range(NUM_FEATS), importances[indices[0:NUM_FEATS]],\n",
    "        color=\"#87ceeb\", #xerr=std[indices[0:NUM_FEATS]],\n",
    "         align=\"center\",  ecolor='darkred', linestyle=':')\n",
    "\n",
    "plt.yticks(range(NUM_FEATS), imp_columns, rotation=0)\n",
    "plt.xlim([-.1, max(importances)+.05])\n",
    "plt.show()"
   ]
  },
  {
   "cell_type": "markdown",
   "metadata": {},
   "source": [
    "## Pipeline\n",
    "\n",
    "\n",
    "\n"
   ]
  },
  {
   "cell_type": "code",
   "execution_count": 54,
   "metadata": {},
   "outputs": [
    {
     "data": {
      "text/plain": [
       "Pipeline(steps=[('scaler', StandardScaler()), ('pca', PCA(n_components=40)),\n",
       "                ('lr', LogisticRegression())])"
      ]
     },
     "execution_count": 54,
     "metadata": {},
     "output_type": "execute_result"
    }
   ],
   "source": [
    "from sklearn.preprocessing import StandardScaler\n",
    "from sklearn.pipeline import Pipeline\n",
    "from sklearn.metrics import accuracy_score\n",
    "from sklearn.decomposition import PCA\n",
    "\n",
    "pipe = Pipeline([\n",
    "                ('scaler', StandardScaler()), \n",
    "                ('pca', PCA(n_components = 40)), \n",
    "                 ('lr', LogisticRegression())\n",
    "                ])\n",
    "\n",
    "\n",
    "X_train, X_test, y_train, y_test = train_test_split(X, y, random_state=0)\n",
    "\n",
    "pipe.fit(X_train,y_train)"
   ]
  },
  {
   "cell_type": "code",
   "execution_count": 55,
   "metadata": {},
   "outputs": [
    {
     "data": {
      "text/plain": [
       "0.8885869565217391"
      ]
     },
     "execution_count": 55,
     "metadata": {},
     "output_type": "execute_result"
    }
   ],
   "source": [
    "ret = pipe.predict( X_test) \n",
    "accuracy_score( y_test,ret )"
   ]
  },
  {
   "cell_type": "markdown",
   "metadata": {},
   "source": [
    "## Considerations and  Next steps\n",
    "\n",
    "\n",
    "### Gender and age sensitive models \n",
    "\n",
    "Here, in this model we choose not to use gender and age as a predictors, which can potentially cause bias problems and data sensitivity issues. By including these two predictors in the model, the output of the models are comparable. However, in different scenarios special care must be taken to ensure there is no gender, age or any other bias introduced.\n",
    "\n",
    "There are several ways to detect and deal with bias, including parallel models with/without specific predictiors, flipping predictors like age etc.  \n",
    "\n",
    "\n",
    "### Further optimisation\n",
    "\n",
    "\n",
    "The models described in this notebook are not optimised, in the sense that there is no exaustive search for optimal hyper-parameters with respect the problem's metric. \n",
    "\n",
    "\n",
    "We can do that by employing a search method (typically grid search, randomized search or Bayesian Optimisation with Gaussian Processes, to name a few).\n",
    "\n",
    "\n",
    "\n",
    "\n",
    "### Additional data \n",
    "\n",
    "One important class of features that can be added to this model is to include more employee satisfaction features. Currently this is reflected with **Satisfaction** and **YearsSinceLastPromotion** columns in the data.  However other factors maybe very important as well, for example years since last training, per individual preferences on flexible working hours if present, days of annual leave etc.\n",
    "\n",
    "\n",
    "\n",
    "\n"
   ]
  },
  {
   "cell_type": "code",
   "execution_count": null,
   "metadata": {},
   "outputs": [],
   "source": []
  }
 ],
 "metadata": {
  "kernelspec": {
   "display_name": "Python 3",
   "language": "python",
   "name": "python3"
  },
  "language_info": {
   "codemirror_mode": {
    "name": "ipython",
    "version": 3
   },
   "file_extension": ".py",
   "mimetype": "text/x-python",
   "name": "python",
   "nbconvert_exporter": "python",
   "pygments_lexer": "ipython3",
   "version": "3.8.5"
  }
 },
 "nbformat": 4,
 "nbformat_minor": 4
}
