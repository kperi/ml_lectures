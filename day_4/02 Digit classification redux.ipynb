{
 "cells": [
  {
   "cell_type": "code",
   "execution_count": 315,
   "metadata": {},
   "outputs": [],
   "source": [
    "import torch \n",
    "import numpy as np\n",
    "import matplotlib.pyplot as plt"
   ]
  },
  {
   "cell_type": "code",
   "execution_count": 207,
   "metadata": {},
   "outputs": [],
   "source": [
    "from sklearn.datasets import fetch_openml\n",
    "from sklearn.metrics import accuracy_score\n",
    "from sklearn.model_selection import train_test_split"
   ]
  },
  {
   "cell_type": "code",
   "execution_count": 208,
   "metadata": {},
   "outputs": [],
   "source": [
    "X, y = fetch_openml('mnist_784', version=1, return_X_y=True)"
   ]
  },
  {
   "cell_type": "code",
   "execution_count": 219,
   "metadata": {},
   "outputs": [],
   "source": [
    "X = X.astype(np.float32)\n",
    "y = y.astype(np.int64)"
   ]
  },
  {
   "cell_type": "code",
   "execution_count": null,
   "metadata": {},
   "outputs": [],
   "source": []
  },
  {
   "cell_type": "code",
   "execution_count": 155,
   "metadata": {},
   "outputs": [],
   "source": [
    "def label_to_one_hot(l):\n",
    "    ret = np.zeros(10)\n",
    "    ret[l] = 1 \n",
    "    return ret\n",
    "    \n",
    "    \n",
    "#label_to_one_hot(2)\n",
    "#y = np.array( [label_to_one_hot(l) for l in y] )"
   ]
  },
  {
   "cell_type": "code",
   "execution_count": null,
   "metadata": {},
   "outputs": [],
   "source": []
  },
  {
   "cell_type": "code",
   "execution_count": 156,
   "metadata": {},
   "outputs": [],
   "source": [
    "INPUT_SIZE = 784\n",
    "HIDDEN_SIZE = 100\n",
    "OUTPUT_SIZE = 10 \n"
   ]
  },
  {
   "cell_type": "code",
   "execution_count": null,
   "metadata": {},
   "outputs": [],
   "source": []
  },
  {
   "cell_type": "code",
   "execution_count": 506,
   "metadata": {},
   "outputs": [],
   "source": [
    "class NeuralNet( torch.nn.Module ):\n",
    "    \n",
    "    def __init__(self, input_size=784, hidden_size = 50, output_size=10):\n",
    "        \n",
    "        super(NeuralNet, self).__init__()\n",
    "        \n",
    "        self.hidden = torch.nn.Linear( input_size, hidden_size)\n",
    "        self.output = torch.nn.Linear( hidden_size, output_size)\n",
    "        self.drop = torch.nn.Dropout(0.5)\n",
    "    \n",
    "    def forward(self, X):\n",
    "        \n",
    "        out = self.hidden( X)\n",
    "        out = torch.relu(out)\n",
    "        out = self.drop(out)\n",
    "        out = self.output(out)\n",
    "        return out\n",
    "        \n",
    "        "
   ]
  },
  {
   "cell_type": "code",
   "execution_count": 507,
   "metadata": {},
   "outputs": [
    {
     "data": {
      "text/plain": [
       "1.0"
      ]
     },
     "execution_count": 507,
     "metadata": {},
     "output_type": "execute_result"
    }
   ],
   "source": [
    "\n",
    "X = X/X.max()\n",
    "X.max()\n",
    "\n"
   ]
  },
  {
   "cell_type": "code",
   "execution_count": 508,
   "metadata": {},
   "outputs": [],
   "source": [
    "X_train, X_test, y_train, y_test = train_test_split(X, y, test_size=0.33, \n",
    "                                                    random_state=42)"
   ]
  },
  {
   "cell_type": "code",
   "execution_count": 509,
   "metadata": {},
   "outputs": [
    {
     "data": {
      "text/plain": [
       "((46900, 784), (23100, 784))"
      ]
     },
     "execution_count": 509,
     "metadata": {},
     "output_type": "execute_result"
    }
   ],
   "source": [
    "X_train.shape, X_test.shape"
   ]
  },
  {
   "cell_type": "code",
   "execution_count": 510,
   "metadata": {},
   "outputs": [],
   "source": [
    "\n",
    "x_test = torch.from_numpy(X_test)"
   ]
  },
  {
   "cell_type": "code",
   "execution_count": 511,
   "metadata": {},
   "outputs": [],
   "source": [
    "net = NeuralNet(hidden_size=200)\n",
    "\n",
    "loss_fn = torch.nn.CrossEntropyLoss()\n",
    "optimizer = torch.optim.SGD(net.parameters(), lr = 0.1)"
   ]
  },
  {
   "cell_type": "code",
   "execution_count": null,
   "metadata": {},
   "outputs": [],
   "source": []
  },
  {
   "cell_type": "code",
   "execution_count": 512,
   "metadata": {},
   "outputs": [],
   "source": [
    "BATCH_SIZE = 512"
   ]
  },
  {
   "cell_type": "code",
   "execution_count": null,
   "metadata": {},
   "outputs": [],
   "source": [
    "\n",
    "    "
   ]
  },
  {
   "cell_type": "code",
   "execution_count": 513,
   "metadata": {},
   "outputs": [
    {
     "name": "stdout",
     "output_type": "stream",
     "text": [
      "epoch 0, train loss=1.36, validation accuracy = 0.85\n",
      "epoch 5, train loss=0.622, validation accuracy = 0.914\n",
      "epoch 10, train loss=0.487, validation accuracy = 0.932\n",
      "epoch 15, train loss=0.418, validation accuracy = 0.945\n",
      "epoch 20, train loss=0.374, validation accuracy = 0.952\n",
      "epoch 25, train loss=0.342, validation accuracy = 0.958\n"
     ]
    }
   ],
   "source": [
    "NUM_EPOCHS = 30\n",
    "epoch_loss = []\n",
    "accs = []\n",
    "for epoch in range(NUM_EPOCHS):\n",
    "    losses = []\n",
    "    \n",
    "    net.train()\n",
    "    for i in range(0, X_train.shape[0], BATCH_SIZE):\n",
    "\n",
    "        optimizer.zero_grad()\n",
    "        x_in = torch.from_numpy( X[i:i+BATCH_SIZE] )\n",
    "\n",
    "        ret = net(x_in)\n",
    "\n",
    "        targets = torch.from_numpy( y[i:i+BATCH_SIZE] )\n",
    "        loss = loss_fn(ret, targets)\n",
    "\n",
    "        losses.append(loss.item())\n",
    "        loss.backward()\n",
    "        optimizer.step()\n",
    "\n",
    "    epoch_loss.append(np.mean(losses))\n",
    "    \n",
    "    net.eval()\n",
    "    ret = net(x_test)\n",
    "    pred = ret.argmax(dim=1)\n",
    "    acc = accuracy_score(y_test, pred)\n",
    "    accs.append(acc)\n",
    "    \n",
    "    if epoch % 5 == 0 :\n",
    "        print( f\"epoch {epoch}, train loss={np.mean(epoch_loss):.3}, validation accuracy = {acc:.3}\")\n",
    "    "
   ]
  },
  {
   "cell_type": "code",
   "execution_count": 514,
   "metadata": {},
   "outputs": [
    {
     "data": {
      "image/png": "[encoded data removed]",
      "text/plain": [
       "<Figure size 432x288 with 1 Axes>"
      ]
     },
     "metadata": {
      "needs_background": "light"
     },
     "output_type": "display_data"
    }
   ],
   "source": [
    "plt.plot( range(NUM_EPOCHS), epoch_loss, label=\"train loss\")\n",
    "plt.plot( range(NUM_EPOCHS), accs, label=\"accuracy\")\n",
    "plt.legend()\n",
    "plt.show()"
   ]
  },
  {
   "cell_type": "code",
   "execution_count": 481,
   "metadata": {},
   "outputs": [
    {
     "data": {
      "text/plain": [
       "0.9597835497835497"
      ]
     },
     "execution_count": 481,
     "metadata": {},
     "output_type": "execute_result"
    }
   ],
   "source": [
    "net.eval()\n",
    "ret = net(x_test)\n",
    "pred = ret.argmax(dim=1)\n",
    "acc = accuracy_score(y_test, pred)\n",
    "acc"
   ]
  },
  {
   "cell_type": "code",
   "execution_count": null,
   "metadata": {},
   "outputs": [],
   "source": []
  }
 ],
 "metadata": {
  "kernelspec": {
   "display_name": "Python 3",
   "language": "python",
   "name": "python3"
  },
  "language_info": {
   "codemirror_mode": {
    "name": "ipython",
    "version": 3
   },
   "file_extension": ".py",
   "mimetype": "text/x-python",
   "name": "python",
   "nbconvert_exporter": "python",
   "pygments_lexer": "ipython3",
   "version": "3.6.9"
  }
 },
 "nbformat": 4,
 "nbformat_minor": 4
}
