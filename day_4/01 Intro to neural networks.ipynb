{
 "cells": [
  {
   "cell_type": "markdown",
   "metadata": {},
   "source": [
    "## Neural networks\n",
    "\n",
    "\n",
    "\n",
    "Here, we will start discussing a different version of ML models: Neural networks\n",
    "\n",
    "\n",
    "Let's start discussing the building blocks of neural nets. \n",
    "\n",
    "\n",
    "\n",
    "A neural network is essentially a chain (function composition) of matrix multiplications and non linearites, called activation functions.\n",
    "\n",
    "A simple cartoon depicting operation flow in neural networks is the following:\n",
    "\n",
    "<img src=\"./images/nn.jpg\"> \n",
    "\n",
    "\n",
    "\n",
    "The leftmost column, is the input layer, where we pass the training examples.\n",
    "The middle column, is called the hidden layer. It is essentially a matrix multiplication of the input vector with the input-hidden weight matrix $W_1$, followed by a piece-wise nonlinearity called the activation.\n",
    "\n",
    "\n",
    "The rightmost layer is the output layer, which again is the matrix multiplication of the output of the hidden layer with the hidden-output weights $W_2$, again followed usually by a non-linear activation.\n",
    "\n",
    "\n",
    "\n",
    "So, mathematically this looks like this:\n",
    "\n",
    "$$ s_2(  s_1( W_1 x) * W_2 ) $$ \n",
    "\n",
    "where $s_1$ and $s_2$ are non-linear functions, such as sigmoid, tanh, relu or softmax.\n",
    "\n",
    "We will be discussing all these functions soon.\n",
    "\n",
    "\n",
    "Let's see an example in numpy of what this looks like with an input vector of size 784, a hidden layer of size 100 and and output layer of size 1, with a sigmoid activation in both layers.\n",
    "\n",
    "We can think this model as a binary classifier where why classify as 0 if the output of the neural network is <0.5 and 1 if the output is >=0.5.\n"
   ]
  },
  {
   "cell_type": "code",
   "execution_count": 44,
   "metadata": {},
   "outputs": [],
   "source": [
    "### \n",
    "import numpy as np\n",
    "from scipy.special import softmax\n",
    "\n",
    "INPUT_SIZE = 784\n",
    "HIDDEN_SIZE = 100\n",
    "OUTPUT_SIZE = 1\n"
   ]
  },
  {
   "cell_type": "code",
   "execution_count": 54,
   "metadata": {},
   "outputs": [
    {
     "data": {
      "text/plain": [
       "(784, 100)"
      ]
     },
     "execution_count": 54,
     "metadata": {},
     "output_type": "execute_result"
    }
   ],
   "source": [
    "## Input-hidden weights\n",
    "\n",
    "W_1 = np.random.randn( INPUT_SIZE*HIDDEN_SIZE).reshape( INPUT_SIZE, HIDDEN_SIZE ).astype(np.float32)\n",
    "W_1.shape"
   ]
  },
  {
   "cell_type": "code",
   "execution_count": 55,
   "metadata": {},
   "outputs": [
    {
     "data": {
      "text/plain": [
       "(100, 1)"
      ]
     },
     "execution_count": 55,
     "metadata": {},
     "output_type": "execute_result"
    }
   ],
   "source": [
    "## Hidden-out weights\n",
    "W_2 = np.random.randn( HIDDEN_SIZE* OUTPUT_SIZE).reshape(  HIDDEN_SIZE, OUTPUT_SIZE ).astype(np.float32)\n",
    "W_2.shape"
   ]
  },
  {
   "cell_type": "code",
   "execution_count": 56,
   "metadata": {},
   "outputs": [],
   "source": [
    "def sigmoid(x,):\n",
    "    return 1 / (1+np.exp(-x))\n",
    " "
   ]
  },
  {
   "cell_type": "code",
   "execution_count": 60,
   "metadata": {},
   "outputs": [
    {
     "data": {
      "text/plain": [
       "array([0.65770528])"
      ]
     },
     "execution_count": 60,
     "metadata": {},
     "output_type": "execute_result"
    }
   ],
   "source": [
    "x = np.zeros( 784 )\n",
    "\n",
    "ret = sigmoid( sigmoid( x.dot(W_1) ).dot(W_2))\n",
    "ret"
   ]
  },
  {
   "cell_type": "markdown",
   "metadata": {},
   "source": [
    "Now, given a dataset of inputs and labels, as we have seen so many times in this lecture series, the goal would be to find the weights $W_1, W_2$ that are minimizing a loss function which measures the output of the network vs the ground truth label for a specific example.\n",
    "\n",
    "\n",
    "A typical loss function that can be used is the squared error of the input and the output\n",
    "\n",
    "$$ |y - g(x)|^2 $$\n",
    "\n",
    "\n",
    "connecting to the above, this then can be formulated as the following"
   ]
  },
  {
   "cell_type": "code",
   "execution_count": 66,
   "metadata": {},
   "outputs": [
    {
     "data": {
      "text/plain": [
       "(array([0.65770528]), 1, array([0.11716567]))"
      ]
     },
     "execution_count": 66,
     "metadata": {},
     "output_type": "execute_result"
    }
   ],
   "source": [
    "def loss( output, target):\n",
    "    \n",
    "    return  (output - target)**2\n",
    "\n",
    "X = np.random.rand( 786 )\n",
    "target = 1 \n",
    "\n",
    "ret = sigmoid( sigmoid( x.dot(W_1) ).dot(W_2)) \n",
    "ret, target, loss(ret, target)"
   ]
  },
  {
   "cell_type": "markdown",
   "metadata": {},
   "source": [
    "### A better way to define the loss function in classification problems is to use cross entropy:\n",
    "\n",
    "$$ L = y log(\\hat{y})+(1−y)log(1−\\hat{y})$$"
   ]
  },
  {
   "cell_type": "code",
   "execution_count": 74,
   "metadata": {},
   "outputs": [],
   "source": [
    "def ce_loss( output, target):\n",
    "    \n",
    "    return - ( target * np.log( output ) + (1-target)*np.log(1-output))\n"
   ]
  },
  {
   "cell_type": "code",
   "execution_count": 75,
   "metadata": {},
   "outputs": [
    {
     "data": {
      "text/plain": [
       "(array([0.65770528]), 1, array([0.41899835]))"
      ]
     },
     "execution_count": 75,
     "metadata": {},
     "output_type": "execute_result"
    }
   ],
   "source": [
    "ret, target, ce_loss(ret, target)"
   ]
  },
  {
   "cell_type": "markdown",
   "metadata": {},
   "source": [
    "Given a training set, inputs and labels the \n",
    "\n",
    "total loss function of the  would be the average of the loss functions per training example. \n",
    "\n",
    "\n",
    "This function is a function of the weights of the network. So, minimizing the loss function means that we are looking for the weights $W_1[i,j]$ and $W_2[k,l]$ taht are minimizing L. \n",
    "\n",
    "Note that the function L is typically not convex anymore so that means there are no global minima (or if there are it may be very difficult to find them) and there are no closed form solutions in general for these kind of optimisation problems.\n",
    "\n",
    "\n",
    "\n",
    "As we have been discussing, a way to do this optimisation is to use gradient descent, or specifically in the case of neural networks, mini-batch gradient descent.\n",
    "\n",
    "\n",
    "That is, we shuffle the data, we pick a batch size k, we calculate the loss in this batch, we calculate the derivatives and we update w with small steps to the negative direction of the gradient.\n",
    "\n",
    "\n",
    "$ w_{n+1} \\leftarrow w_{n} - \\gamma \\nabla{L(w_{n}) } $ \n",
    "\n",
    "where $\\gamma$ is the step size, commonly known as learning rate. \n",
    "\n",
    "\n",
    "Luckily, we don't have to calculate derivates and do the calculations by \"hand\". \n",
    "Torch (and all the popular frameworks such as Tensorflow, and MXNet) are doing this automatically for us with a functionallity called *Automatic Differentiation*\n"
   ]
  },
  {
   "cell_type": "markdown",
   "metadata": {},
   "source": [
    "## Non linearities"
   ]
  },
  {
   "cell_type": "markdown",
   "metadata": {},
   "source": [
    "Non linearities in activations are using to model complex, non-linear relations in the data. \n",
    "\n",
    "We have seen so far softmax, which is used to squash any real number in the range $(0,1)$. Other nonlinearities used in practice are tanh, which squashes real numbers in the range $(-1,1)$ and more recently the `relu` family.\n",
    "\n",
    "\n",
    "In the past, sigmoids were heavily used in intermmediate layers as activation functions. It has been proven that this was not a good practice due to the nature of the function and what is called \"vanishing gradient\", eg that for large positive or negative input values, the function has almost zero slope, which is the main cause for slow training. \n",
    "\n",
    "\n",
    "In recent state-of-the-art Neural Net architectures, all middle layer non-linearities have been replaced with Rectified Linear Units (`relu`)\n",
    "\n"
   ]
  },
  {
   "cell_type": "code",
   "execution_count": 90,
   "metadata": {},
   "outputs": [
    {
     "data": {
      "image/png": "[encoded data removed]",
      "text/plain": [
       "<Figure size 720x720 with 1 Axes>"
      ]
     },
     "metadata": {
      "needs_background": "light"
     },
     "output_type": "display_data"
    }
   ],
   "source": [
    "## relu\n",
    "import matplotlib.pyplot as plt\n",
    "\n",
    "\n",
    "def relu(x):\n",
    "    x = x.copy()\n",
    "    x[x<0] = 0 \n",
    "    return x\n",
    "\n",
    "\n",
    "    \n",
    "\n",
    "\n",
    "\n",
    "X = np.linspace( -2.5, 2.5 )\n",
    "\n",
    "\n",
    "plt.figure( figsize=(10,10))\n",
    "\n",
    "plt.plot( X, relu(X) , label=\"relu\")\n",
    "plt.plot( X, sigmoid(X) , label=\"sigmoid\")\n",
    "plt.plot( X, np.tanh(X) , label=\"tanh\")\n",
    "\n",
    "plt.legend()\n",
    "plt.show()\n"
   ]
  },
  {
   "cell_type": "code",
   "execution_count": null,
   "metadata": {},
   "outputs": [],
   "source": []
  },
  {
   "cell_type": "markdown",
   "metadata": {},
   "source": [
    "## Neural nets for regression and classification\n",
    "\n",
    "\n",
    "As we have seen so far, the main components of a neural network are architecture, the output shape and activation function and the loss function.\n",
    "\n",
    "For binary classification, as we have seen, we can use 1 output with a sigmoid activation and treat the resulting value as probability of the class and attach a cross entropy loss to this architecture.\n",
    "\n",
    "\n",
    "For regression we can use 1 output and we can skip the linearity as some times it makes no sense to restrict values to the range (0,1) or (-1,1).\n",
    "\n",
    "In other cases, we may want to transfor the target variables to this range and use tanh or sigmoid.\n",
    "\n",
    "\n",
    "### Loss functions\n",
    "\n",
    "For classification problems with more than 2 classes, we are using the 1-hot encoding for target representation and as output activation function the softmax function, defined as :\n",
    "\n",
    "$ softmax(x_i) = \\frac{ e^{x_i} }{  \\sum_j{e^{x_j}}  }$ \n",
    "\n"
   ]
  },
  {
   "cell_type": "code",
   "execution_count": 94,
   "metadata": {},
   "outputs": [
    {
     "data": {
      "text/plain": [
       "(array([0.09003057, 0.24472847, 0.66524096]), 1.0)"
      ]
     },
     "execution_count": 94,
     "metadata": {},
     "output_type": "execute_result"
    }
   ],
   "source": [
    "def softmax(x):\n",
    "    return np.exp(x)/sum(np.exp(x))\n",
    "\n",
    "\n",
    "a = [1,2,3]\n",
    "s = softmax(a)\n",
    "s, sum(s)"
   ]
  },
  {
   "cell_type": "markdown",
   "metadata": {},
   "source": [
    "For regression problem, we typically use mean squared error. \n"
   ]
  },
  {
   "cell_type": "markdown",
   "metadata": {},
   "source": [
    "## Learning rate\n",
    "\n",
    "The learning rate parameter plays a very important role in the training of neural networks: \n",
    "\n",
    "A large value may cuase the training to diverge. \n",
    "\n",
    "A very small learning rate can result in very slow training "
   ]
  },
  {
   "cell_type": "markdown",
   "metadata": {},
   "source": [
    "## Dropout\n",
    "\n",
    "\n",
    "Neural nets are powerfull function aproximators and very prone to overfiting.\n",
    "\n",
    "One way to prevent the network to memorize training examples is Dropout\n",
    "In dropout, we are dropping random activations in inner layers, forcing the network to learn \"alternative\" pathways.\n",
    "\n"
   ]
  },
  {
   "cell_type": "code",
   "execution_count": null,
   "metadata": {},
   "outputs": [],
   "source": []
  }
 ],
 "metadata": {
  "kernelspec": {
   "display_name": "Python 3",
   "language": "python",
   "name": "python3"
  },
  "language_info": {
   "codemirror_mode": {
    "name": "ipython",
    "version": 3
   },
   "file_extension": ".py",
   "mimetype": "text/x-python",
   "name": "python",
   "nbconvert_exporter": "python",
   "pygments_lexer": "ipython3",
   "version": "3.6.9"
  }
 },
 "nbformat": 4,
 "nbformat_minor": 4
}
