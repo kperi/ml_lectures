{
 "cells": [
  {
   "cell_type": "markdown",
   "metadata": {},
   "source": [
    "# Representation learning : Autoencoders\n",
    "\n",
    "\n",
    "\n",
    "Autoencoders are an unsupervised learning technique in which we leverage neural networks for the task of representation learning. Specifically, we'll design a neural network architecture such that we impose a bottleneck in the network which forces a compressed knowledge representation of the original input. If the input features were each independent of one another, this compression and subsequent reconstruction would be a very difficult task. However, if some sort of structure exists in the data (ie. correlations between input features), this structure can be learned and consequently leveraged when forcing the input through the network's bottleneck.\n",
    "\n",
    "We can take an unlabeled dataset and frame it as a supervised learning problem tasked with outputting $\\hat(X)$, a reconstruction of the original input $X$. This network can be trained by minimizing the reconstruction error, $L(X,\\hat(X)$, which measures the differences between our original input and the consequent reconstruction. The bottleneck is a key attribute of our network design; without the presence of an information bottleneck, our network could easily learn to simply memorize the input values by passing these values along through the network.\n",
    "\n",
    "\n",
    "\n",
    "A bottleneck constrains the amount of information that can traverse the full network, forcing a learned compression of the input data.\n",
    "\n",
    "In fact, if we were to construct a linear network (ie. without the use of nonlinear activation functions at each layer) we would observe a similar dimensionality reduction as observed in PCA. \n",
    "\n",
    "The ideal autoencoder model balances the following:\n",
    "\n",
    "- Sensitive to the inputs enough to accurately build a reconstruction.\n",
    "- Insensitive enough to the inputs that the model doesn't simply memorize or overfit the training data.\n",
    "\n",
    "\n",
    "The simplest architecture for constructing an autoencoder is to constrain the number of nodes present in the hidden layer(s) of the network, limiting the amount of information that can flow through the network. By penalizing the network according to the reconstruction error, our model can learn the most important attributes of the input data and how to best reconstruct the original input from an \"encoded\" state. Ideally, this encoding will learn and describe latent attributes of the input data.\n",
    "\n",
    "\n",
    "Because neural networks are capable of learning nonlinear relationships, this can be thought of as a more powerful nonlinear generalization of PCA. Whereas PCA attempts to discover a lower dimensional hyperplane which describes the original data, autoencoders are capable of learning nonlinear manifolds (a manifold is defined in simple terms as a continuous, non-intersecting surface)"
   ]
  },
  {
   "cell_type": "code",
   "execution_count": 85,
   "metadata": {},
   "outputs": [],
   "source": [
    "import torch\n",
    "import torch.nn as nn\n",
    " \n",
    "import torchvision.datasets as datasets\n",
    "import torch.optim as optim\n",
    "\n",
    "import torchvision.transforms as transforms\n",
    "from torch.utils.data import DataLoader\n",
    "import time\n",
    "\n",
    "from sklearn.metrics import accuracy_score\n",
    "\n",
    "import matplotlib.pyplot as plt\n",
    "import numpy as np"
   ]
  },
  {
   "cell_type": "code",
   "execution_count": 86,
   "metadata": {},
   "outputs": [],
   "source": [
    "from sklearn.datasets import fetch_openml\n",
    "from sklearn.metrics import accuracy_score\n",
    "from sklearn.model_selection import train_test_split"
   ]
  },
  {
   "cell_type": "code",
   "execution_count": 87,
   "metadata": {},
   "outputs": [],
   "source": [
    "X, y = fetch_openml('mnist_784', version=1, return_X_y=True)"
   ]
  },
  {
   "cell_type": "code",
   "execution_count": 88,
   "metadata": {},
   "outputs": [],
   "source": [
    "X = X/X.max()\n",
    "X = X.astype(np.float32)"
   ]
  },
  {
   "cell_type": "code",
   "execution_count": 95,
   "metadata": {},
   "outputs": [],
   "source": [
    "class NeuralNet( torch.nn.Module ):\n",
    "    \n",
    "    def __init__(self, input_size=784, hidden_size = 50, output_size=10):\n",
    "        \n",
    "        super(NeuralNet, self).__init__()\n",
    "        \n",
    "        self.encoder = nn.Sequential(\n",
    "                torch.nn.Linear( input_size, hidden_size),\n",
    "                torch.nn.Sigmoid()\n",
    "            )\n",
    "        \n",
    "        self.decoder = nn.Sequential(\n",
    "                torch.nn.Dropout(0.5),\n",
    "                torch.nn.Linear( hidden_size, input_size)\n",
    "            )\n",
    "    \n",
    "    def forward(self, x):\n",
    "        \n",
    "        out = self.encoder(x)\n",
    "        out = self.decoder(out)\n",
    "            \n",
    "        return out\n",
    "        \n",
    "        "
   ]
  },
  {
   "cell_type": "code",
   "execution_count": 96,
   "metadata": {},
   "outputs": [],
   "source": [
    "X_train, X_test, y_train, y_test = train_test_split(X, y, test_size=0.33, \n",
    "                                                    random_state=42)"
   ]
  },
  {
   "cell_type": "code",
   "execution_count": 97,
   "metadata": {},
   "outputs": [],
   "source": [
    "x_in = torch.rand( 784 ).unsqueeze(0)\n",
    "net = NeuralNet()\n",
    "\n"
   ]
  },
  {
   "cell_type": "code",
   "execution_count": 98,
   "metadata": {},
   "outputs": [],
   "source": [
    "net = NeuralNet(hidden_size=200)\n",
    "\n",
    "loss_fn = torch.nn.MSELoss()\n",
    "optimizer = torch.optim.SGD(net.parameters(), lr = 0.1)"
   ]
  },
  {
   "cell_type": "code",
   "execution_count": 99,
   "metadata": {},
   "outputs": [],
   "source": [
    "BATCH_SIZE = 16"
   ]
  },
  {
   "cell_type": "code",
   "execution_count": 100,
   "metadata": {},
   "outputs": [
    {
     "name": "stdout",
     "output_type": "stream",
     "text": [
      "epoch 0, train loss=0.102\n",
      "epoch 5, train loss=0.0777\n"
     ]
    }
   ],
   "source": [
    "NUM_EPOCHS = 10\n",
    "epoch_loss = []\n",
    "accs = []\n",
    "for epoch in range(NUM_EPOCHS):\n",
    "    losses = []\n",
    "    \n",
    "    net.train()\n",
    "    for i in range(0, X_train.shape[0], BATCH_SIZE):\n",
    "\n",
    "        optimizer.zero_grad()\n",
    "        x_in = torch.from_numpy( X[i:i+BATCH_SIZE] )\n",
    "\n",
    "        ret = net(x_in)\n",
    "        loss = loss_fn(ret, x_in)\n",
    "\n",
    "        losses.append(loss.item())\n",
    "        loss.backward()\n",
    "        optimizer.step()\n",
    "\n",
    "    epoch_loss.append(np.mean(losses))\n",
    "    \n",
    "    \n",
    "    if epoch % 5 == 0 :\n",
    "        print( f\"epoch {epoch}, train loss={np.mean(epoch_loss):.3}\")\n",
    "    "
   ]
  },
  {
   "cell_type": "code",
   "execution_count": 101,
   "metadata": {},
   "outputs": [
    {
     "data": {
      "text/plain": [
       "[<matplotlib.lines.Line2D at 0x7ff02c949240>]"
      ]
     },
     "execution_count": 101,
     "metadata": {},
     "output_type": "execute_result"
    },
    {
     "data": {
      "image/png": "[encoded data removed]",
      "text/plain": [
       "<Figure size 432x288 with 1 Axes>"
      ]
     },
     "metadata": {
      "needs_background": "light"
     },
     "output_type": "display_data"
    }
   ],
   "source": [
    "plt.plot( range(NUM_EPOCHS), epoch_loss)"
   ]
  },
  {
   "cell_type": "code",
   "execution_count": 104,
   "metadata": {},
   "outputs": [],
   "source": [
    "representation = net.encoder(x_in)"
   ]
  },
  {
   "cell_type": "code",
   "execution_count": 105,
   "metadata": {},
   "outputs": [
    {
     "data": {
      "text/plain": [
       "torch.Size([16, 200])"
      ]
     },
     "execution_count": 105,
     "metadata": {},
     "output_type": "execute_result"
    }
   ],
   "source": [
    "representation.shape"
   ]
  },
  {
   "cell_type": "code",
   "execution_count": null,
   "metadata": {},
   "outputs": [],
   "source": []
  }
 ],
 "metadata": {
  "kernelspec": {
   "display_name": "Python 3",
   "language": "python",
   "name": "python3"
  },
  "language_info": {
   "codemirror_mode": {
    "name": "ipython",
    "version": 3
   },
   "file_extension": ".py",
   "mimetype": "text/x-python",
   "name": "python",
   "nbconvert_exporter": "python",
   "pygments_lexer": "ipython3",
   "version": "3.6.9"
  }
 },
 "nbformat": 4,
 "nbformat_minor": 4
}
