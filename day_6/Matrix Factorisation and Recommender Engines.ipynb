{
 "cells": [
  {
   "cell_type": "markdown",
   "metadata": {},
   "source": [
    "## User item collaborating filtering\n"
   ]
  },
  {
   "cell_type": "markdown",
   "metadata": {},
   "source": [
    "Here we will be discussing an approach to implement collaborative filtering for movie recommendations.\n",
    "\n",
    "\n",
    "In a movie rating scenario, we are given users and their movie preferences.\n",
    "The preferences are ratings between 1-5 where 1 means \"I didn't like this movie\" and 5 \"This movie is awesome\". \n",
    "\n",
    "The goal is to predict ratings (and recommend) movies to users, based on their preferences, eg predict the rating for a given movie, for a given user.\n",
    "\n",
    "\n",
    "The collaborative filtering approach makes the basic assumption that there are groups of users with similar preferences and that there are factors or categories of movies, so that similar users will tend to like similar movies.\n",
    "\n",
    "If we have $U$ users and $M$ movies, \n",
    "we can formulate a representation of this problem with a matrix $A$ with dimensions $UxM$ where $A_{ij}$ will hold the rating of user $j$ for movie $j$  \n",
    "\n",
    "\n",
    "This matrix looks like this:\n",
    "\n",
    "\n",
    "<img src=\"images/recs.jpg\"/>\n",
    "\n",
    "\n",
    "We would like to predict the empty elements in the matrix and recommend movies to users accordingly.\n",
    "\n",
    "\n",
    "### Latent factors and movie factorization\n",
    "\n",
    "If we assume that there are $K << M$ unknown factors or movie categories, based on the above, we can assume that each movie has certan weights for each of these factors and similarily, each user has weight preferences for these factors as well. These factors can be thought as a combination of known or unknown properties of the movies, eg genre, director, actors etc.  \n",
    "\n",
    "\n",
    "So, we can think movie factors as a matrix $W_m$ with dimensions $KxM$ and the users as a matrix $W_u$ with dimensions $UxK$\n",
    "\n",
    "Then, we can say that the ratings are a linear combination of user preferences and movie categories, so that \n",
    "$$ A \\approx W_u * W_m$$\n",
    "\n",
    "This implies a linear relationship (dot product) between user preferences and movie factors, and since K is typically much smaller than M, this is essentially low rank matrix factorisation.\n",
    "\n",
    "\n",
    "We formulate the matrix factorisation problem as an optimisation problem,\n",
    "were we seek to minimise the distance between known ratings and predicted ratings in the factorisation problem.\n",
    "\n",
    "$$  argmin_{W_u, W_m} L = \\sum_{i,j} (R - W_u * W_m)^2 $$ \n",
    "\n",
    "\n",
    "we can also enforce regularization to prevent weights on $W_m, W_u$ to grow too large:\n",
    "\n",
    "\n",
    "$$  argmin_{W_u, W_m} L = \\sum_{i,j} (R - W_u * W_m)^2  + \\lambda_1 ||W_m||_2 + \\lambda_2 || W_u ||_2 $$ \n",
    "\n",
    "\n",
    "\n",
    "<img src=\"images/factorized_ratings.jpg\"/>\n",
    "\n",
    "\n",
    "Let's see how we can implement this with pytorch\n",
    "\n",
    "\n",
    "\n"
   ]
  },
  {
   "cell_type": "code",
   "execution_count": 2,
   "metadata": {},
   "outputs": [],
   "source": [
    "import pandas as pd\n",
    "import numpy as np\n",
    "import implicit\n",
    "import matplotlib.pyplot as plt\n",
    "import torch\n",
    "from torch.optim import SGD, Adam, LBFGS"
   ]
  },
  {
   "cell_type": "code",
   "execution_count": 100,
   "metadata": {},
   "outputs": [],
   "source": [
    "C = torch.randint( low=1, high=5, size = (200,300), dtype=torch.float32)\n",
    "\n",
    "K = 100"
   ]
  },
  {
   "cell_type": "code",
   "execution_count": 109,
   "metadata": {
    "scrolled": false
   },
   "outputs": [
    {
     "name": "stdout",
     "output_type": "stream",
     "text": [
      "torch.Size([200, 300])\n",
      "epoch 0, loss=450306.3125\n",
      "epoch 50, loss=46860.91796875\n",
      "epoch 100, loss=21616.853515625\n",
      "epoch 150, loss=14814.2421875\n",
      "epoch 200, loss=13273.451171875\n",
      "epoch 250, loss=12952.697265625\n",
      "epoch 300, loss=12823.48046875\n",
      "epoch 350, loss=12764.9609375\n",
      "epoch 400, loss=12734.455078125\n",
      "epoch 450, loss=12716.2880859375\n",
      "epoch 500, loss=12704.46875\n",
      "epoch 550, loss=12696.671875\n",
      "epoch 600, loss=12691.6298828125\n",
      "epoch 650, loss=12688.34765625\n",
      "epoch 700, loss=12686.08203125\n",
      "epoch 750, loss=12684.380859375\n",
      "epoch 800, loss=12683.00390625\n",
      "epoch 850, loss=12681.8447265625\n",
      "epoch 900, loss=12680.857421875\n",
      "epoch 950, loss=12680.029296875\n",
      "epoch 1000, loss=12679.3466796875\n",
      "epoch 1050, loss=12678.798828125\n",
      "epoch 1100, loss=12678.369140625\n",
      "epoch 1150, loss=12678.03515625\n",
      "epoch 1200, loss=12677.77734375\n",
      "epoch 1250, loss=12677.57421875\n",
      "epoch 1300, loss=12677.4111328125\n",
      "epoch 1350, loss=12677.271484375\n",
      "epoch 1400, loss=12677.146484375\n",
      "optimisation converged: loss=12677.119140625\n"
     ]
    },
    {
     "data": {
      "image/png": "[encoded data removed]",
      "text/plain": [
       "<Figure size 432x288 with 1 Axes>"
      ]
     },
     "metadata": {
      "needs_background": "light"
     },
     "output_type": "display_data"
    }
   ],
   "source": [
    "print(C.shape)\n",
    "U, M = C.shape\n",
    "\n",
    "## Start with random weights of zero mean and 0.01 variance\n",
    "W1 = torch.randn( (U,K))*0.01\n",
    "W2 = torch.randn( (K,M))*0.01\n",
    "\n",
    "W1.requires_grad = True\n",
    "W2.requires_grad = True\n",
    "epochs = 1501 \n",
    "optimizer = Adam( params = [W1,W2], lr=0.05)\n",
    "items = [] \n",
    "prev_loss = 1e10\n",
    "\n",
    "for epoch in range(epochs):\n",
    "    optimizer.zero_grad()\n",
    "    b = W1.matmul(W2) \n",
    "    loss = ((C-b)**2).sum()\n",
    "    if epoch % 50 == 0:\n",
    "        print( f\"epoch {epoch}, loss={loss.item()}\")\n",
    "\n",
    "    loss.backward()\n",
    "    optimizer.step()\n",
    "    l = loss.item()\n",
    "    \n",
    "    items.append(l)\n",
    "    if np.abs(l-prev_loss)<1e-5:\n",
    "        print(f\"optimisation converged: loss={l}\")\n",
    "        break\n",
    "    \n",
    "    prev_loss = l\n",
    "\n",
    "plt.plot( range(epoch+1), items)\n",
    "plt.show()"
   ]
  },
  {
   "cell_type": "markdown",
   "metadata": {},
   "source": [
    "Q: How do we apply this in a ratings matrix where we are missing values (ratings)?\n",
    "\n",
    "A: The solution is to use only the available ratings for the training/loss function minimisation step.\n",
    "\n"
   ]
  },
  {
   "cell_type": "markdown",
   "metadata": {},
   "source": [
    "## MovieLens data set and matrix factorisation\n"
   ]
  },
  {
   "cell_type": "code",
   "execution_count": 9,
   "metadata": {},
   "outputs": [],
   "source": [
    "ratings = pd.read_csv(\"./data/ml-latest-small/ratings.csv\")\n",
    "movies = pd.read_csv(\"./data/ml-latest-small/movies.csv\")"
   ]
  },
  {
   "cell_type": "code",
   "execution_count": null,
   "metadata": {},
   "outputs": [],
   "source": []
  },
  {
   "cell_type": "code",
   "execution_count": 10,
   "metadata": {},
   "outputs": [
    {
     "data": {
      "text/html": [
       "<div>\n",
       "<style scoped>\n",
       "    .dataframe tbody tr th:only-of-type {\n",
       "        vertical-align: middle;\n",
       "    }\n",
       "\n",
       "    .dataframe tbody tr th {\n",
       "        vertical-align: top;\n",
       "    }\n",
       "\n",
       "    .dataframe thead th {\n",
       "        text-align: right;\n",
       "    }\n",
       "</style>\n",
       "<table border=\"1\" class=\"dataframe\">\n",
       "  <thead>\n",
       "    <tr style=\"text-align: right;\">\n",
       "      <th></th>\n",
       "      <th>userId</th>\n",
       "      <th>movieId</th>\n",
       "      <th>rating</th>\n",
       "      <th>timestamp</th>\n",
       "    </tr>\n",
       "  </thead>\n",
       "  <tbody>\n",
       "    <tr>\n",
       "      <th>0</th>\n",
       "      <td>1</td>\n",
       "      <td>1</td>\n",
       "      <td>4.0</td>\n",
       "      <td>964982703</td>\n",
       "    </tr>\n",
       "    <tr>\n",
       "      <th>1</th>\n",
       "      <td>1</td>\n",
       "      <td>3</td>\n",
       "      <td>4.0</td>\n",
       "      <td>964981247</td>\n",
       "    </tr>\n",
       "    <tr>\n",
       "      <th>2</th>\n",
       "      <td>1</td>\n",
       "      <td>6</td>\n",
       "      <td>4.0</td>\n",
       "      <td>964982224</td>\n",
       "    </tr>\n",
       "    <tr>\n",
       "      <th>3</th>\n",
       "      <td>1</td>\n",
       "      <td>47</td>\n",
       "      <td>5.0</td>\n",
       "      <td>964983815</td>\n",
       "    </tr>\n",
       "    <tr>\n",
       "      <th>4</th>\n",
       "      <td>1</td>\n",
       "      <td>50</td>\n",
       "      <td>5.0</td>\n",
       "      <td>964982931</td>\n",
       "    </tr>\n",
       "  </tbody>\n",
       "</table>\n",
       "</div>"
      ],
      "text/plain": [
       "   userId  movieId  rating  timestamp\n",
       "0       1        1     4.0  964982703\n",
       "1       1        3     4.0  964981247\n",
       "2       1        6     4.0  964982224\n",
       "3       1       47     5.0  964983815\n",
       "4       1       50     5.0  964982931"
      ]
     },
     "execution_count": 10,
     "metadata": {},
     "output_type": "execute_result"
    }
   ],
   "source": [
    "ratings.head()"
   ]
  },
  {
   "cell_type": "code",
   "execution_count": 11,
   "metadata": {},
   "outputs": [
    {
     "data": {
      "text/html": [
       "<div>\n",
       "<style scoped>\n",
       "    .dataframe tbody tr th:only-of-type {\n",
       "        vertical-align: middle;\n",
       "    }\n",
       "\n",
       "    .dataframe tbody tr th {\n",
       "        vertical-align: top;\n",
       "    }\n",
       "\n",
       "    .dataframe thead th {\n",
       "        text-align: right;\n",
       "    }\n",
       "</style>\n",
       "<table border=\"1\" class=\"dataframe\">\n",
       "  <thead>\n",
       "    <tr style=\"text-align: right;\">\n",
       "      <th></th>\n",
       "      <th>movieId</th>\n",
       "      <th>title</th>\n",
       "      <th>genres</th>\n",
       "    </tr>\n",
       "  </thead>\n",
       "  <tbody>\n",
       "    <tr>\n",
       "      <th>0</th>\n",
       "      <td>1</td>\n",
       "      <td>Toy Story (1995)</td>\n",
       "      <td>Adventure|Animation|Children|Comedy|Fantasy</td>\n",
       "    </tr>\n",
       "    <tr>\n",
       "      <th>1</th>\n",
       "      <td>2</td>\n",
       "      <td>Jumanji (1995)</td>\n",
       "      <td>Adventure|Children|Fantasy</td>\n",
       "    </tr>\n",
       "    <tr>\n",
       "      <th>2</th>\n",
       "      <td>3</td>\n",
       "      <td>Grumpier Old Men (1995)</td>\n",
       "      <td>Comedy|Romance</td>\n",
       "    </tr>\n",
       "    <tr>\n",
       "      <th>3</th>\n",
       "      <td>4</td>\n",
       "      <td>Waiting to Exhale (1995)</td>\n",
       "      <td>Comedy|Drama|Romance</td>\n",
       "    </tr>\n",
       "    <tr>\n",
       "      <th>4</th>\n",
       "      <td>5</td>\n",
       "      <td>Father of the Bride Part II (1995)</td>\n",
       "      <td>Comedy</td>\n",
       "    </tr>\n",
       "  </tbody>\n",
       "</table>\n",
       "</div>"
      ],
      "text/plain": [
       "   movieId                               title  \\\n",
       "0        1                    Toy Story (1995)   \n",
       "1        2                      Jumanji (1995)   \n",
       "2        3             Grumpier Old Men (1995)   \n",
       "3        4            Waiting to Exhale (1995)   \n",
       "4        5  Father of the Bride Part II (1995)   \n",
       "\n",
       "                                        genres  \n",
       "0  Adventure|Animation|Children|Comedy|Fantasy  \n",
       "1                   Adventure|Children|Fantasy  \n",
       "2                               Comedy|Romance  \n",
       "3                         Comedy|Drama|Romance  \n",
       "4                                       Comedy  "
      ]
     },
     "execution_count": 11,
     "metadata": {},
     "output_type": "execute_result"
    }
   ],
   "source": [
    "movies.head()"
   ]
  },
  {
   "cell_type": "code",
   "execution_count": 12,
   "metadata": {},
   "outputs": [
    {
     "data": {
      "text/plain": [
       "userId         int64\n",
       "movieId        int64\n",
       "rating       float64\n",
       "timestamp      int64\n",
       "dtype: object"
      ]
     },
     "execution_count": 12,
     "metadata": {},
     "output_type": "execute_result"
    }
   ],
   "source": [
    "ratings.dtypes"
   ]
  },
  {
   "cell_type": "code",
   "execution_count": null,
   "metadata": {},
   "outputs": [],
   "source": []
  },
  {
   "cell_type": "code",
   "execution_count": 13,
   "metadata": {},
   "outputs": [
    {
     "data": {
      "text/plain": [
       "(610, 9742)"
      ]
     },
     "execution_count": 13,
     "metadata": {},
     "output_type": "execute_result"
    }
   ],
   "source": [
    "M = movies.shape[0]\n",
    "U = ratings.userId.unique().shape[0]\n",
    "U, M\n"
   ]
  },
  {
   "cell_type": "code",
   "execution_count": 14,
   "metadata": {},
   "outputs": [],
   "source": [
    "id_to_movie = movies[[\"movieId\"]].to_dict()['movieId']\n",
    "movie_to_idx = { m:i   for i,m in id_to_movie.items() }\n"
   ]
  },
  {
   "cell_type": "code",
   "execution_count": null,
   "metadata": {},
   "outputs": [],
   "source": [
    " "
   ]
  },
  {
   "cell_type": "markdown",
   "metadata": {},
   "source": [
    "## Build the matrix A of user movie ratings"
   ]
  },
  {
   "cell_type": "code",
   "execution_count": 15,
   "metadata": {},
   "outputs": [
    {
     "data": {
      "text/plain": [
       "dtype('float32')"
      ]
     },
     "execution_count": 15,
     "metadata": {},
     "output_type": "execute_result"
    }
   ],
   "source": [
    "A = np.zeros((U,M), dtype=np.float32)\n",
    "A.dtype\n",
    "\n",
    "#from scipy.sparse import csc_matrix\n",
    "#A = csc_matrix((M, U), dtype=np.float32) #.toarray()"
   ]
  },
  {
   "cell_type": "code",
   "execution_count": 16,
   "metadata": {},
   "outputs": [],
   "source": [
    "for idx, rec in ratings.iterrows():\n",
    "    \n",
    "    uid = rec.userId.astype(np.int32)-1\n",
    "    mid =  movie_to_idx[rec.movieId.astype(np.int32)]\n",
    "    A[uid][mid] = rec.rating.astype(np.float32) \n",
    "    "
   ]
  },
  {
   "cell_type": "code",
   "execution_count": null,
   "metadata": {},
   "outputs": [],
   "source": []
  },
  {
   "cell_type": "code",
   "execution_count": 17,
   "metadata": {},
   "outputs": [],
   "source": [
    "np.save(  \"./data/ml-latest-small/A.npy\", A)"
   ]
  },
  {
   "cell_type": "code",
   "execution_count": 18,
   "metadata": {},
   "outputs": [],
   "source": [
    "A=  np.load( \"./data/ml-latest-small/A.npy\" )"
   ]
  },
  {
   "cell_type": "markdown",
   "metadata": {},
   "source": [
    "### Convert rating matrix to torch object"
   ]
  },
  {
   "cell_type": "code",
   "execution_count": 19,
   "metadata": {},
   "outputs": [
    {
     "data": {
      "text/plain": [
       "(610, 9742, torch.float32)"
      ]
     },
     "execution_count": 19,
     "metadata": {},
     "output_type": "execute_result"
    }
   ],
   "source": [
    "R = torch.from_numpy(A)\n",
    "U, M = R.shape\n",
    "U, M, R.dtype"
   ]
  },
  {
   "cell_type": "code",
   "execution_count": 20,
   "metadata": {},
   "outputs": [],
   "source": [
    "## Number of latent factors"
   ]
  },
  {
   "cell_type": "code",
   "execution_count": 21,
   "metadata": {},
   "outputs": [],
   "source": [
    "K = 100"
   ]
  },
  {
   "cell_type": "code",
   "execution_count": 43,
   "metadata": {},
   "outputs": [],
   "source": [
    "\n",
    "\n",
    "\n",
    "## Start with random weights of zero mean and 0.01 variance\n",
    "W1 = torch.randn( (U,K))*0.01\n",
    "W2 = torch.randn( (K,M))*0.01\n",
    "\n",
    "W1.requires_grad = True\n",
    "W2.requires_grad = True\n",
    "\n",
    "optimizer = Adam(params = [W1,W2],lr=0.1)#, lr = 0.001 )\n",
    "#optimizer = SGD(params = [W1,W2], lr=0.1)"
   ]
  },
  {
   "cell_type": "code",
   "execution_count": 44,
   "metadata": {},
   "outputs": [
    {
     "data": {
      "text/plain": [
       "(9742,\n",
       " 610,\n",
       " 100,\n",
       " torch.Size([610, 9742]),\n",
       " torch.Size([610, 100]),\n",
       " torch.Size([100, 9742]))"
      ]
     },
     "execution_count": 44,
     "metadata": {},
     "output_type": "execute_result"
    }
   ],
   "source": [
    "M, U, K, R.shape, W1.shape, W2.shape\n"
   ]
  },
  {
   "cell_type": "code",
   "execution_count": 45,
   "metadata": {},
   "outputs": [
    {
     "name": "stdout",
     "output_type": "stream",
     "text": [
      "epoch 0, loss=1345941.5\n",
      "epoch 20, loss=66754.984375\n",
      "epoch 40, loss=11103.546875\n",
      "epoch 60, loss=3759.48486328125\n",
      "epoch 80, loss=1961.4681396484375\n",
      "epoch 100, loss=1349.326171875\n",
      "epoch 120, loss=1040.6688232421875\n",
      "epoch 140, loss=861.18994140625\n",
      "epoch 160, loss=746.2448120117188\n",
      "epoch 180, loss=667.667724609375\n",
      "epoch 200, loss=611.0267944335938\n",
      "epoch 220, loss=568.57421875\n",
      "epoch 240, loss=535.2847900390625\n",
      "epoch 260, loss=508.5990905761719\n",
      "epoch 280, loss=486.48681640625\n",
      "epoch 300, loss=467.7751770019531\n",
      "epoch 320, loss=452.0036315917969\n",
      "epoch 340, loss=437.97113037109375\n",
      "epoch 360, loss=425.3898010253906\n",
      "epoch 380, loss=414.31134033203125\n",
      "epoch 400, loss=403.6337585449219\n",
      "epoch 420, loss=394.267822265625\n",
      "epoch 440, loss=385.9349670410156\n",
      "epoch 460, loss=378.1769104003906\n",
      "epoch 480, loss=370.8154296875\n",
      "epoch 500, loss=363.63336181640625\n",
      "epoch 520, loss=357.6796569824219\n",
      "epoch 540, loss=351.03424072265625\n",
      "epoch 560, loss=345.88446044921875\n",
      "epoch 580, loss=342.833251953125\n",
      "epoch 600, loss=336.3153991699219\n",
      "epoch 620, loss=331.1062316894531\n",
      "epoch 640, loss=327.75421142578125\n",
      "epoch 660, loss=322.01507568359375\n",
      "epoch 680, loss=318.5302734375\n",
      "epoch 700, loss=313.67449951171875\n",
      "epoch 720, loss=311.6914978027344\n",
      "epoch 740, loss=310.3243408203125\n",
      "epoch 760, loss=330.79486083984375\n",
      "epoch 780, loss=305.1499328613281\n",
      "epoch 800, loss=300.4825439453125\n",
      "epoch 820, loss=298.1472473144531\n",
      "epoch 840, loss=295.16033935546875\n",
      "epoch 860, loss=295.152587890625\n",
      "epoch 880, loss=292.7591552734375\n",
      "epoch 900, loss=317.9809875488281\n",
      "epoch 920, loss=306.01068115234375\n",
      "epoch 940, loss=293.6368103027344\n",
      "epoch 960, loss=296.753173828125\n",
      "epoch 980, loss=309.085693359375\n",
      "epoch 1000, loss=299.1670837402344\n"
     ]
    }
   ],
   "source": [
    "## use these parameters to regularize the learned weights\n",
    "l1 = 0.01\n",
    "l2 = 0.01\n",
    "\n",
    "epochs = 1001\n",
    "epoch_plot = []\n",
    "for epoch in range(epochs):\n",
    "    \n",
    "    optimizer.zero_grad()\n",
    "    b = W1.matmul(W2) # #b = 4*torch.sigmoid(W1.matmul(W2))+1\n",
    "   \n",
    "    \n",
    "    #b[b<1] = 1\n",
    "    #b[b>5] = 5\n",
    "    \n",
    "    loss = ((R[R!=0] - b[R!=0])**2).sum()  + l1*(W1**2).sum() + l2*(W2**2).sum()\n",
    "\n",
    "    loss.backward()\n",
    "    \n",
    "    optimizer.step()\n",
    "    \n",
    "    l = loss.item()\n",
    "    \n",
    "    epoch_plot.append( l )\n",
    "    if epoch % 20 == 0 :\n",
    "        print( f\"epoch {epoch}, loss={l}\")"
   ]
  },
  {
   "cell_type": "markdown",
   "metadata": {},
   "source": [
    "### plot the loss function"
   ]
  },
  {
   "cell_type": "code",
   "execution_count": 46,
   "metadata": {},
   "outputs": [
    {
     "data": {
      "text/plain": [
       "[<matplotlib.lines.Line2D at 0x130f55040>]"
      ]
     },
     "execution_count": 46,
     "metadata": {},
     "output_type": "execute_result"
    },
    {
     "data": {
      "image/png": "[encoded data removed]",
      "text/plain": [
       "<Figure size 432x288 with 1 Axes>"
      ]
     },
     "metadata": {
      "needs_background": "light"
     },
     "output_type": "display_data"
    }
   ],
   "source": [
    "plt.plot( range(epochs), epoch_plot)"
   ]
  },
  {
   "cell_type": "code",
   "execution_count": 47,
   "metadata": {},
   "outputs": [
    {
     "data": {
      "text/plain": [
       "torch.Size([610, 100])"
      ]
     },
     "execution_count": 47,
     "metadata": {},
     "output_type": "execute_result"
    }
   ],
   "source": [
    "W1.shape"
   ]
  },
  {
   "cell_type": "markdown",
   "metadata": {},
   "source": [
    "### Generate recommendations for a given user"
   ]
  },
  {
   "cell_type": "markdown",
   "metadata": {},
   "source": [
    "#### Movies rated by this user"
   ]
  },
  {
   "cell_type": "code",
   "execution_count": 48,
   "metadata": {},
   "outputs": [
    {
     "data": {
      "text/html": [
       "<div>\n",
       "<style scoped>\n",
       "    .dataframe tbody tr th:only-of-type {\n",
       "        vertical-align: middle;\n",
       "    }\n",
       "\n",
       "    .dataframe tbody tr th {\n",
       "        vertical-align: top;\n",
       "    }\n",
       "\n",
       "    .dataframe thead th {\n",
       "        text-align: right;\n",
       "    }\n",
       "</style>\n",
       "<table border=\"1\" class=\"dataframe\">\n",
       "  <thead>\n",
       "    <tr style=\"text-align: right;\">\n",
       "      <th></th>\n",
       "      <th>movieId</th>\n",
       "      <th>title</th>\n",
       "      <th>genres</th>\n",
       "      <th>rating</th>\n",
       "    </tr>\n",
       "  </thead>\n",
       "  <tbody>\n",
       "    <tr>\n",
       "      <th>1</th>\n",
       "      <td>1093</td>\n",
       "      <td>Doors, The (1991)</td>\n",
       "      <td>Drama</td>\n",
       "      <td>5.0</td>\n",
       "    </tr>\n",
       "    <tr>\n",
       "      <th>2</th>\n",
       "      <td>1719</td>\n",
       "      <td>Sweet Hereafter, The (1997)</td>\n",
       "      <td>Drama</td>\n",
       "      <td>5.0</td>\n",
       "    </tr>\n",
       "    <tr>\n",
       "      <th>3</th>\n",
       "      <td>2318</td>\n",
       "      <td>Happiness (1998)</td>\n",
       "      <td>Comedy|Drama</td>\n",
       "      <td>5.0</td>\n",
       "    </tr>\n",
       "    <tr>\n",
       "      <th>4</th>\n",
       "      <td>2395</td>\n",
       "      <td>Rushmore (1998)</td>\n",
       "      <td>Comedy|Drama</td>\n",
       "      <td>5.0</td>\n",
       "    </tr>\n",
       "    <tr>\n",
       "      <th>5</th>\n",
       "      <td>2599</td>\n",
       "      <td>Election (1999)</td>\n",
       "      <td>Comedy</td>\n",
       "      <td>5.0</td>\n",
       "    </tr>\n",
       "    <tr>\n",
       "      <th>6</th>\n",
       "      <td>2712</td>\n",
       "      <td>Eyes Wide Shut (1999)</td>\n",
       "      <td>Drama|Mystery|Thriller</td>\n",
       "      <td>5.0</td>\n",
       "    </tr>\n",
       "    <tr>\n",
       "      <th>11</th>\n",
       "      <td>2959</td>\n",
       "      <td>Fight Club (1999)</td>\n",
       "      <td>Action|Crime|Drama|Thriller</td>\n",
       "      <td>5.0</td>\n",
       "    </tr>\n",
       "    <tr>\n",
       "      <th>12</th>\n",
       "      <td>2997</td>\n",
       "      <td>Being John Malkovich (1999)</td>\n",
       "      <td>Comedy|Drama|Fantasy</td>\n",
       "      <td>5.0</td>\n",
       "    </tr>\n",
       "    <tr>\n",
       "      <th>14</th>\n",
       "      <td>3174</td>\n",
       "      <td>Man on the Moon (1999)</td>\n",
       "      <td>Comedy|Drama</td>\n",
       "      <td>5.0</td>\n",
       "    </tr>\n",
       "    <tr>\n",
       "      <th>0</th>\n",
       "      <td>223</td>\n",
       "      <td>Clerks (1994)</td>\n",
       "      <td>Comedy</td>\n",
       "      <td>4.0</td>\n",
       "    </tr>\n",
       "    <tr>\n",
       "      <th>7</th>\n",
       "      <td>2716</td>\n",
       "      <td>Ghostbusters (a.k.a. Ghost Busters) (1984)</td>\n",
       "      <td>Action|Comedy|Sci-Fi</td>\n",
       "      <td>4.0</td>\n",
       "    </tr>\n",
       "    <tr>\n",
       "      <th>8</th>\n",
       "      <td>2762</td>\n",
       "      <td>Sixth Sense, The (1999)</td>\n",
       "      <td>Drama|Horror|Mystery</td>\n",
       "      <td>4.0</td>\n",
       "    </tr>\n",
       "    <tr>\n",
       "      <th>9</th>\n",
       "      <td>2858</td>\n",
       "      <td>American Beauty (1999)</td>\n",
       "      <td>Drama|Romance</td>\n",
       "      <td>4.0</td>\n",
       "    </tr>\n",
       "    <tr>\n",
       "      <th>10</th>\n",
       "      <td>2908</td>\n",
       "      <td>Boys Don't Cry (1999)</td>\n",
       "      <td>Drama</td>\n",
       "      <td>4.0</td>\n",
       "    </tr>\n",
       "    <tr>\n",
       "      <th>13</th>\n",
       "      <td>3159</td>\n",
       "      <td>Fantasia 2000 (1999)</td>\n",
       "      <td>Animation|Children|Musical|IMAX</td>\n",
       "      <td>4.0</td>\n",
       "    </tr>\n",
       "  </tbody>\n",
       "</table>\n",
       "</div>"
      ],
      "text/plain": [
       "    movieId                                       title  \\\n",
       "1      1093                           Doors, The (1991)   \n",
       "2      1719                 Sweet Hereafter, The (1997)   \n",
       "3      2318                            Happiness (1998)   \n",
       "4      2395                             Rushmore (1998)   \n",
       "5      2599                             Election (1999)   \n",
       "6      2712                       Eyes Wide Shut (1999)   \n",
       "11     2959                           Fight Club (1999)   \n",
       "12     2997                 Being John Malkovich (1999)   \n",
       "14     3174                      Man on the Moon (1999)   \n",
       "0       223                               Clerks (1994)   \n",
       "7      2716  Ghostbusters (a.k.a. Ghost Busters) (1984)   \n",
       "8      2762                     Sixth Sense, The (1999)   \n",
       "9      2858                      American Beauty (1999)   \n",
       "10     2908                       Boys Don't Cry (1999)   \n",
       "13     3159                        Fantasia 2000 (1999)   \n",
       "\n",
       "                             genres  rating  \n",
       "1                             Drama     5.0  \n",
       "2                             Drama     5.0  \n",
       "3                      Comedy|Drama     5.0  \n",
       "4                      Comedy|Drama     5.0  \n",
       "5                            Comedy     5.0  \n",
       "6            Drama|Mystery|Thriller     5.0  \n",
       "11      Action|Crime|Drama|Thriller     5.0  \n",
       "12             Comedy|Drama|Fantasy     5.0  \n",
       "14                     Comedy|Drama     5.0  \n",
       "0                            Comedy     4.0  \n",
       "7              Action|Comedy|Sci-Fi     4.0  \n",
       "8              Drama|Horror|Mystery     4.0  \n",
       "9                     Drama|Romance     4.0  \n",
       "10                            Drama     4.0  \n",
       "13  Animation|Children|Musical|IMAX     4.0  "
      ]
     },
     "execution_count": 48,
     "metadata": {},
     "output_type": "execute_result"
    }
   ],
   "source": [
    "usr = 100\n",
    "\n",
    "user1 = W1[usr,:]\n",
    "\n",
    "m_ids = ratings[ratings.userId ==usr+1][[\"movieId\", \"rating\"]].sort_values(by=\"rating\", ascending=False).head(15)\n",
    "movies.merge( m_ids, on=[\"movieId\"]).sort_values(by=\"rating\", ascending=False)"
   ]
  },
  {
   "cell_type": "markdown",
   "metadata": {},
   "source": [
    "#### Generate recommendations, rank by estimated rating and filter out already rated movies and movies with estimated rating < 3\n"
   ]
  },
  {
   "cell_type": "code",
   "execution_count": 49,
   "metadata": {},
   "outputs": [
    {
     "data": {
      "text/html": [
       "<div>\n",
       "<style scoped>\n",
       "    .dataframe tbody tr th:only-of-type {\n",
       "        vertical-align: middle;\n",
       "    }\n",
       "\n",
       "    .dataframe tbody tr th {\n",
       "        vertical-align: top;\n",
       "    }\n",
       "\n",
       "    .dataframe thead th {\n",
       "        text-align: right;\n",
       "    }\n",
       "</style>\n",
       "<table border=\"1\" class=\"dataframe\">\n",
       "  <thead>\n",
       "    <tr style=\"text-align: right;\">\n",
       "      <th></th>\n",
       "      <th>movieId</th>\n",
       "      <th>title</th>\n",
       "      <th>genres</th>\n",
       "      <th>ratings</th>\n",
       "    </tr>\n",
       "  </thead>\n",
       "  <tbody>\n",
       "    <tr>\n",
       "      <th>257</th>\n",
       "      <td>296</td>\n",
       "      <td>Pulp Fiction (1994)</td>\n",
       "      <td>Comedy|Crime|Drama|Thriller</td>\n",
       "      <td>5.673756</td>\n",
       "    </tr>\n",
       "    <tr>\n",
       "      <th>277</th>\n",
       "      <td>318</td>\n",
       "      <td>Shawshank Redemption, The (1994)</td>\n",
       "      <td>Crime|Drama</td>\n",
       "      <td>5.402719</td>\n",
       "    </tr>\n",
       "    <tr>\n",
       "      <th>315</th>\n",
       "      <td>357</td>\n",
       "      <td>Four Weddings and a Funeral (1994)</td>\n",
       "      <td>Comedy|Romance</td>\n",
       "      <td>5.397323</td>\n",
       "    </tr>\n",
       "    <tr>\n",
       "      <th>461</th>\n",
       "      <td>527</td>\n",
       "      <td>Schindler's List (1993)</td>\n",
       "      <td>Drama|War</td>\n",
       "      <td>5.179787</td>\n",
       "    </tr>\n",
       "    <tr>\n",
       "      <th>474</th>\n",
       "      <td>541</td>\n",
       "      <td>Blade Runner (1982)</td>\n",
       "      <td>Action|Sci-Fi|Thriller</td>\n",
       "      <td>5.115816</td>\n",
       "    </tr>\n",
       "    <tr>\n",
       "      <th>602</th>\n",
       "      <td>750</td>\n",
       "      <td>Dr. Strangelove or: How I Learned to Stop Worr...</td>\n",
       "      <td>Comedy|War</td>\n",
       "      <td>5.107656</td>\n",
       "    </tr>\n",
       "    <tr>\n",
       "      <th>659</th>\n",
       "      <td>858</td>\n",
       "      <td>Godfather, The (1972)</td>\n",
       "      <td>Crime|Drama</td>\n",
       "      <td>5.044997</td>\n",
       "    </tr>\n",
       "    <tr>\n",
       "      <th>681</th>\n",
       "      <td>899</td>\n",
       "      <td>Singin' in the Rain (1952)</td>\n",
       "      <td>Comedy|Musical|Romance</td>\n",
       "      <td>5.041433</td>\n",
       "    </tr>\n",
       "    <tr>\n",
       "      <th>686</th>\n",
       "      <td>904</td>\n",
       "      <td>Rear Window (1954)</td>\n",
       "      <td>Mystery|Thriller</td>\n",
       "      <td>5.036303</td>\n",
       "    </tr>\n",
       "    <tr>\n",
       "      <th>690</th>\n",
       "      <td>908</td>\n",
       "      <td>North by Northwest (1959)</td>\n",
       "      <td>Action|Adventure|Mystery|Romance|Thriller</td>\n",
       "      <td>5.036211</td>\n",
       "    </tr>\n",
       "  </tbody>\n",
       "</table>\n",
       "</div>"
      ],
      "text/plain": [
       "     movieId                                              title  \\\n",
       "257      296                                Pulp Fiction (1994)   \n",
       "277      318                   Shawshank Redemption, The (1994)   \n",
       "315      357                 Four Weddings and a Funeral (1994)   \n",
       "461      527                            Schindler's List (1993)   \n",
       "474      541                                Blade Runner (1982)   \n",
       "602      750  Dr. Strangelove or: How I Learned to Stop Worr...   \n",
       "659      858                              Godfather, The (1972)   \n",
       "681      899                         Singin' in the Rain (1952)   \n",
       "686      904                                 Rear Window (1954)   \n",
       "690      908                          North by Northwest (1959)   \n",
       "\n",
       "                                        genres   ratings  \n",
       "257                Comedy|Crime|Drama|Thriller  5.673756  \n",
       "277                                Crime|Drama  5.402719  \n",
       "315                             Comedy|Romance  5.397323  \n",
       "461                                  Drama|War  5.179787  \n",
       "474                     Action|Sci-Fi|Thriller  5.115816  \n",
       "602                                 Comedy|War  5.107656  \n",
       "659                                Crime|Drama  5.044997  \n",
       "681                     Comedy|Musical|Romance  5.041433  \n",
       "686                           Mystery|Thriller  5.036303  \n",
       "690  Action|Adventure|Mystery|Romance|Thriller  5.036211  "
      ]
     },
     "execution_count": 49,
     "metadata": {},
     "output_type": "execute_result"
    }
   ],
   "source": [
    "ret = user1.matmul(W2)\n",
    "r, idx = ret.topk(100)\n",
    "vals = idx.numpy()\n",
    "vals = [id_to_movie[val] for val in vals]\n",
    "recs = movies[movies.movieId.isin(vals)].copy()\n",
    "recs[\"ratings\"] = r.detach().numpy()\n",
    "recs = recs[recs.ratings>=3]\n",
    "recs[~recs.movieId.isin(m_ids.movieId.values)].head(n=10)"
   ]
  },
  {
   "cell_type": "markdown",
   "metadata": {},
   "source": [
    "#### Bonus: Movie Similarity \n",
    "\n",
    "\n",
    "If we multiply a movie specific row with the entire matrix, we can think the resulting vector as similarity weights of this movie with all other movies. "
   ]
  },
  {
   "cell_type": "code",
   "execution_count": 55,
   "metadata": {},
   "outputs": [
    {
     "data": {
      "text/html": [
       "<div>\n",
       "<style scoped>\n",
       "    .dataframe tbody tr th:only-of-type {\n",
       "        vertical-align: middle;\n",
       "    }\n",
       "\n",
       "    .dataframe tbody tr th {\n",
       "        vertical-align: top;\n",
       "    }\n",
       "\n",
       "    .dataframe thead th {\n",
       "        text-align: right;\n",
       "    }\n",
       "</style>\n",
       "<table border=\"1\" class=\"dataframe\">\n",
       "  <thead>\n",
       "    <tr style=\"text-align: right;\">\n",
       "      <th></th>\n",
       "      <th>title</th>\n",
       "    </tr>\n",
       "  </thead>\n",
       "  <tbody>\n",
       "    <tr>\n",
       "      <th>898</th>\n",
       "      <td>Star Wars: Episode V - The Empire Strikes Back...</td>\n",
       "    </tr>\n",
       "  </tbody>\n",
       "</table>\n",
       "</div>"
      ],
      "text/plain": [
       "                                                 title\n",
       "898  Star Wars: Episode V - The Empire Strikes Back..."
      ]
     },
     "execution_count": 55,
     "metadata": {},
     "output_type": "execute_result"
    }
   ],
   "source": [
    "test_movie_id = 1196\n",
    "movies[movies.movieId==test_movie_id][[\"title\"]]"
   ]
  },
  {
   "cell_type": "code",
   "execution_count": 56,
   "metadata": {},
   "outputs": [
    {
     "data": {
      "text/html": [
       "<div>\n",
       "<style scoped>\n",
       "    .dataframe tbody tr th:only-of-type {\n",
       "        vertical-align: middle;\n",
       "    }\n",
       "\n",
       "    .dataframe tbody tr th {\n",
       "        vertical-align: top;\n",
       "    }\n",
       "\n",
       "    .dataframe thead th {\n",
       "        text-align: right;\n",
       "    }\n",
       "</style>\n",
       "<table border=\"1\" class=\"dataframe\">\n",
       "  <thead>\n",
       "    <tr style=\"text-align: right;\">\n",
       "      <th></th>\n",
       "      <th>movieId</th>\n",
       "      <th>title</th>\n",
       "      <th>genres</th>\n",
       "    </tr>\n",
       "  </thead>\n",
       "  <tbody>\n",
       "    <tr>\n",
       "      <th>224</th>\n",
       "      <td>260</td>\n",
       "      <td>Star Wars: Episode IV - A New Hope (1977)</td>\n",
       "      <td>Action|Adventure|Sci-Fi</td>\n",
       "    </tr>\n",
       "    <tr>\n",
       "      <th>277</th>\n",
       "      <td>318</td>\n",
       "      <td>Shawshank Redemption, The (1994)</td>\n",
       "      <td>Crime|Drama</td>\n",
       "    </tr>\n",
       "    <tr>\n",
       "      <th>507</th>\n",
       "      <td>589</td>\n",
       "      <td>Terminator 2: Judgment Day (1991)</td>\n",
       "      <td>Action|Sci-Fi</td>\n",
       "    </tr>\n",
       "    <tr>\n",
       "      <th>706</th>\n",
       "      <td>924</td>\n",
       "      <td>2001: A Space Odyssey (1968)</td>\n",
       "      <td>Adventure|Drama|Sci-Fi</td>\n",
       "    </tr>\n",
       "    <tr>\n",
       "      <th>898</th>\n",
       "      <td>1196</td>\n",
       "      <td>Star Wars: Episode V - The Empire Strikes Back...</td>\n",
       "      <td>Action|Adventure|Sci-Fi</td>\n",
       "    </tr>\n",
       "    <tr>\n",
       "      <th>899</th>\n",
       "      <td>1197</td>\n",
       "      <td>Princess Bride, The (1987)</td>\n",
       "      <td>Action|Adventure|Comedy|Fantasy|Romance</td>\n",
       "    </tr>\n",
       "    <tr>\n",
       "      <th>900</th>\n",
       "      <td>1198</td>\n",
       "      <td>Raiders of the Lost Ark (Indiana Jones and the...</td>\n",
       "      <td>Action|Adventure</td>\n",
       "    </tr>\n",
       "    <tr>\n",
       "      <th>911</th>\n",
       "      <td>1210</td>\n",
       "      <td>Star Wars: Episode VI - Return of the Jedi (1983)</td>\n",
       "      <td>Action|Adventure|Sci-Fi</td>\n",
       "    </tr>\n",
       "    <tr>\n",
       "      <th>990</th>\n",
       "      <td>1291</td>\n",
       "      <td>Indiana Jones and the Last Crusade (1989)</td>\n",
       "      <td>Action|Adventure</td>\n",
       "    </tr>\n",
       "    <tr>\n",
       "      <th>2372</th>\n",
       "      <td>3147</td>\n",
       "      <td>Green Mile, The (1999)</td>\n",
       "      <td>Crime|Drama</td>\n",
       "    </tr>\n",
       "  </tbody>\n",
       "</table>\n",
       "</div>"
      ],
      "text/plain": [
       "      movieId                                              title  \\\n",
       "224       260          Star Wars: Episode IV - A New Hope (1977)   \n",
       "277       318                   Shawshank Redemption, The (1994)   \n",
       "507       589                  Terminator 2: Judgment Day (1991)   \n",
       "706       924                       2001: A Space Odyssey (1968)   \n",
       "898      1196  Star Wars: Episode V - The Empire Strikes Back...   \n",
       "899      1197                         Princess Bride, The (1987)   \n",
       "900      1198  Raiders of the Lost Ark (Indiana Jones and the...   \n",
       "911      1210  Star Wars: Episode VI - Return of the Jedi (1983)   \n",
       "990      1291          Indiana Jones and the Last Crusade (1989)   \n",
       "2372     3147                             Green Mile, The (1999)   \n",
       "\n",
       "                                       genres  \n",
       "224                   Action|Adventure|Sci-Fi  \n",
       "277                               Crime|Drama  \n",
       "507                             Action|Sci-Fi  \n",
       "706                    Adventure|Drama|Sci-Fi  \n",
       "898                   Action|Adventure|Sci-Fi  \n",
       "899   Action|Adventure|Comedy|Fantasy|Romance  \n",
       "900                          Action|Adventure  \n",
       "911                   Action|Adventure|Sci-Fi  \n",
       "990                          Action|Adventure  \n",
       "2372                              Crime|Drama  "
      ]
     },
     "execution_count": 56,
     "metadata": {},
     "output_type": "execute_result"
    }
   ],
   "source": [
    "m = W2[:, movie_to_idx[test_movie_id]]\n",
    "vals, indexes = torch.topk( m.matmul(W2), k=10)\n",
    "similar_ids = [ id_to_movie[v] for v in indexes.numpy() if v!=test_movie_id]\n",
    "\n",
    "movies[movies.movieId.isin(similar_ids)]"
   ]
  },
  {
   "cell_type": "code",
   "execution_count": 58,
   "metadata": {},
   "outputs": [],
   "source": []
  },
  {
   "cell_type": "markdown",
   "metadata": {},
   "source": [
    "# Alternating Least Squares algorithm"
   ]
  },
  {
   "cell_type": "code",
   "execution_count": 90,
   "metadata": {},
   "outputs": [],
   "source": [
    "import implicit\n",
    "from scipy import sparse\n",
    "\n"
   ]
  },
  {
   "cell_type": "code",
   "execution_count": null,
   "metadata": {},
   "outputs": [],
   "source": [
    "model = implicit.als.AlternatingLeastSquares(factors=100, iterations=10)\n"
   ]
  },
  {
   "cell_type": "code",
   "execution_count": 91,
   "metadata": {},
   "outputs": [],
   "source": [
    "B=sparse.csr_matrix(A)"
   ]
  },
  {
   "cell_type": "code",
   "execution_count": 92,
   "metadata": {},
   "outputs": [
    {
     "data": {
      "application/vnd.jupyter.widget-view+json": {
       "model_id": "8ed304291d1e4ba98932aaa5a3840de2",
       "version_major": 2,
       "version_minor": 0
      },
      "text/plain": [
       "HBox(children=(HTML(value=''), FloatProgress(value=0.0, max=10.0), HTML(value='')))"
      ]
     },
     "metadata": {},
     "output_type": "display_data"
    },
    {
     "name": "stdout",
     "output_type": "stream",
     "text": [
      "\n"
     ]
    }
   ],
   "source": [
    "model.fit(B, show_progress=True)"
   ]
  },
  {
   "cell_type": "code",
   "execution_count": 93,
   "metadata": {},
   "outputs": [],
   "source": [
    "user_items = B.T.tocsr()"
   ]
  },
  {
   "cell_type": "code",
   "execution_count": 94,
   "metadata": {},
   "outputs": [
    {
     "data": {
      "text/html": [
       "<div>\n",
       "<style scoped>\n",
       "    .dataframe tbody tr th:only-of-type {\n",
       "        vertical-align: middle;\n",
       "    }\n",
       "\n",
       "    .dataframe tbody tr th {\n",
       "        vertical-align: top;\n",
       "    }\n",
       "\n",
       "    .dataframe thead th {\n",
       "        text-align: right;\n",
       "    }\n",
       "</style>\n",
       "<table border=\"1\" class=\"dataframe\">\n",
       "  <thead>\n",
       "    <tr style=\"text-align: right;\">\n",
       "      <th></th>\n",
       "      <th>userId</th>\n",
       "      <th>movieId</th>\n",
       "      <th>rating</th>\n",
       "      <th>timestamp</th>\n",
       "    </tr>\n",
       "  </thead>\n",
       "  <tbody>\n",
       "    <tr>\n",
       "      <th>0</th>\n",
       "      <td>1</td>\n",
       "      <td>232</td>\n",
       "      <td>232</td>\n",
       "      <td>232</td>\n",
       "    </tr>\n",
       "    <tr>\n",
       "      <th>1</th>\n",
       "      <td>2</td>\n",
       "      <td>29</td>\n",
       "      <td>29</td>\n",
       "      <td>29</td>\n",
       "    </tr>\n",
       "    <tr>\n",
       "      <th>2</th>\n",
       "      <td>3</td>\n",
       "      <td>39</td>\n",
       "      <td>39</td>\n",
       "      <td>39</td>\n",
       "    </tr>\n",
       "    <tr>\n",
       "      <th>3</th>\n",
       "      <td>4</td>\n",
       "      <td>216</td>\n",
       "      <td>216</td>\n",
       "      <td>216</td>\n",
       "    </tr>\n",
       "    <tr>\n",
       "      <th>4</th>\n",
       "      <td>5</td>\n",
       "      <td>44</td>\n",
       "      <td>44</td>\n",
       "      <td>44</td>\n",
       "    </tr>\n",
       "    <tr>\n",
       "      <th>...</th>\n",
       "      <td>...</td>\n",
       "      <td>...</td>\n",
       "      <td>...</td>\n",
       "      <td>...</td>\n",
       "    </tr>\n",
       "    <tr>\n",
       "      <th>605</th>\n",
       "      <td>606</td>\n",
       "      <td>1115</td>\n",
       "      <td>1115</td>\n",
       "      <td>1115</td>\n",
       "    </tr>\n",
       "    <tr>\n",
       "      <th>606</th>\n",
       "      <td>607</td>\n",
       "      <td>187</td>\n",
       "      <td>187</td>\n",
       "      <td>187</td>\n",
       "    </tr>\n",
       "    <tr>\n",
       "      <th>607</th>\n",
       "      <td>608</td>\n",
       "      <td>831</td>\n",
       "      <td>831</td>\n",
       "      <td>831</td>\n",
       "    </tr>\n",
       "    <tr>\n",
       "      <th>608</th>\n",
       "      <td>609</td>\n",
       "      <td>37</td>\n",
       "      <td>37</td>\n",
       "      <td>37</td>\n",
       "    </tr>\n",
       "    <tr>\n",
       "      <th>609</th>\n",
       "      <td>610</td>\n",
       "      <td>1302</td>\n",
       "      <td>1302</td>\n",
       "      <td>1302</td>\n",
       "    </tr>\n",
       "  </tbody>\n",
       "</table>\n",
       "<p>610 rows × 4 columns</p>\n",
       "</div>"
      ],
      "text/plain": [
       "     userId  movieId  rating  timestamp\n",
       "0         1      232     232        232\n",
       "1         2       29      29         29\n",
       "2         3       39      39         39\n",
       "3         4      216     216        216\n",
       "4         5       44      44         44\n",
       "..      ...      ...     ...        ...\n",
       "605     606     1115    1115       1115\n",
       "606     607      187     187        187\n",
       "607     608      831     831        831\n",
       "608     609       37      37         37\n",
       "609     610     1302    1302       1302\n",
       "\n",
       "[610 rows x 4 columns]"
      ]
     },
     "execution_count": 94,
     "metadata": {},
     "output_type": "execute_result"
    }
   ],
   "source": [
    "ratings.groupby(by=\"userId\").count().reset_index()"
   ]
  },
  {
   "cell_type": "code",
   "execution_count": 95,
   "metadata": {},
   "outputs": [
    {
     "data": {
      "text/html": [
       "<div>\n",
       "<style scoped>\n",
       "    .dataframe tbody tr th:only-of-type {\n",
       "        vertical-align: middle;\n",
       "    }\n",
       "\n",
       "    .dataframe tbody tr th {\n",
       "        vertical-align: top;\n",
       "    }\n",
       "\n",
       "    .dataframe thead th {\n",
       "        text-align: right;\n",
       "    }\n",
       "</style>\n",
       "<table border=\"1\" class=\"dataframe\">\n",
       "  <thead>\n",
       "    <tr style=\"text-align: right;\">\n",
       "      <th></th>\n",
       "      <th>movieId</th>\n",
       "      <th>title</th>\n",
       "      <th>genres</th>\n",
       "    </tr>\n",
       "  </thead>\n",
       "  <tbody>\n",
       "    <tr>\n",
       "      <th>10</th>\n",
       "      <td>11</td>\n",
       "      <td>American President, The (1995)</td>\n",
       "      <td>Comedy|Drama|Romance</td>\n",
       "    </tr>\n",
       "    <tr>\n",
       "      <th>15</th>\n",
       "      <td>16</td>\n",
       "      <td>Casino (1995)</td>\n",
       "      <td>Crime|Drama</td>\n",
       "    </tr>\n",
       "    <tr>\n",
       "      <th>16</th>\n",
       "      <td>17</td>\n",
       "      <td>Sense and Sensibility (1995)</td>\n",
       "      <td>Drama|Romance</td>\n",
       "    </tr>\n",
       "    <tr>\n",
       "      <th>27</th>\n",
       "      <td>28</td>\n",
       "      <td>Persuasion (1995)</td>\n",
       "      <td>Drama|Romance</td>\n",
       "    </tr>\n",
       "    <tr>\n",
       "      <th>55</th>\n",
       "      <td>62</td>\n",
       "      <td>Mr. Holland's Opus (1995)</td>\n",
       "      <td>Drama</td>\n",
       "    </tr>\n",
       "  </tbody>\n",
       "</table>\n",
       "</div>"
      ],
      "text/plain": [
       "    movieId                           title                genres\n",
       "10       11  American President, The (1995)  Comedy|Drama|Romance\n",
       "15       16                   Casino (1995)           Crime|Drama\n",
       "16       17    Sense and Sensibility (1995)         Drama|Romance\n",
       "27       28               Persuasion (1995)         Drama|Romance\n",
       "55       62       Mr. Holland's Opus (1995)                 Drama"
      ]
     },
     "execution_count": 95,
     "metadata": {},
     "output_type": "execute_result"
    }
   ],
   "source": [
    "userId = 99\n",
    "ids = ratings[(ratings.userId==userId+1) & (ratings.rating>=4)].movieId.values\n",
    "\n",
    "movies[movies.movieId.isin(ids)].head()\n"
   ]
  },
  {
   "cell_type": "code",
   "execution_count": 96,
   "metadata": {},
   "outputs": [
    {
     "data": {
      "text/plain": [
       "[(455, 0.7284911),\n",
       " (239, 0.66431355),\n",
       " (268, 0.6642281),\n",
       " (313, 0.66291064),\n",
       " (116, 0.6429459),\n",
       " (150, 0.632777),\n",
       " (265, 0.6039506),\n",
       " (149, 0.60115194),\n",
       " (31, 0.58684206),\n",
       " (70, 0.5799792)]"
      ]
     },
     "execution_count": 96,
     "metadata": {},
     "output_type": "execute_result"
    }
   ],
   "source": [
    "recommendations = model.recommend(userId, user_items)\n",
    "recommendations"
   ]
  },
  {
   "cell_type": "code",
   "execution_count": 97,
   "metadata": {},
   "outputs": [
    {
     "data": {
      "text/html": [
       "<div>\n",
       "<style scoped>\n",
       "    .dataframe tbody tr th:only-of-type {\n",
       "        vertical-align: middle;\n",
       "    }\n",
       "\n",
       "    .dataframe tbody tr th {\n",
       "        vertical-align: top;\n",
       "    }\n",
       "\n",
       "    .dataframe thead th {\n",
       "        text-align: right;\n",
       "    }\n",
       "</style>\n",
       "<table border=\"1\" class=\"dataframe\">\n",
       "  <thead>\n",
       "    <tr style=\"text-align: right;\">\n",
       "      <th></th>\n",
       "      <th>movieId</th>\n",
       "      <th>title</th>\n",
       "      <th>genres</th>\n",
       "    </tr>\n",
       "  </thead>\n",
       "  <tbody>\n",
       "    <tr>\n",
       "      <th>31</th>\n",
       "      <td>32</td>\n",
       "      <td>Twelve Monkeys (a.k.a. 12 Monkeys) (1995)</td>\n",
       "      <td>Mystery|Sci-Fi|Thriller</td>\n",
       "    </tr>\n",
       "    <tr>\n",
       "      <th>70</th>\n",
       "      <td>78</td>\n",
       "      <td>Crossing Guard, The (1995)</td>\n",
       "      <td>Action|Crime|Drama|Thriller</td>\n",
       "    </tr>\n",
       "    <tr>\n",
       "      <th>116</th>\n",
       "      <td>141</td>\n",
       "      <td>Birdcage, The (1996)</td>\n",
       "      <td>Comedy</td>\n",
       "    </tr>\n",
       "    <tr>\n",
       "      <th>149</th>\n",
       "      <td>177</td>\n",
       "      <td>Lord of Illusions (1995)</td>\n",
       "      <td>Horror</td>\n",
       "    </tr>\n",
       "    <tr>\n",
       "      <th>150</th>\n",
       "      <td>178</td>\n",
       "      <td>Love &amp; Human Remains (1993)</td>\n",
       "      <td>Comedy|Drama</td>\n",
       "    </tr>\n",
       "    <tr>\n",
       "      <th>239</th>\n",
       "      <td>277</td>\n",
       "      <td>Miracle on 34th Street (1994)</td>\n",
       "      <td>Drama</td>\n",
       "    </tr>\n",
       "    <tr>\n",
       "      <th>265</th>\n",
       "      <td>305</td>\n",
       "      <td>Ready to Wear (Pret-A-Porter) (1994)</td>\n",
       "      <td>Comedy</td>\n",
       "    </tr>\n",
       "    <tr>\n",
       "      <th>268</th>\n",
       "      <td>308</td>\n",
       "      <td>Three Colors: White (Trzy kolory: Bialy) (1994)</td>\n",
       "      <td>Comedy|Drama</td>\n",
       "    </tr>\n",
       "    <tr>\n",
       "      <th>313</th>\n",
       "      <td>355</td>\n",
       "      <td>Flintstones, The (1994)</td>\n",
       "      <td>Children|Comedy|Fantasy</td>\n",
       "    </tr>\n",
       "    <tr>\n",
       "      <th>455</th>\n",
       "      <td>520</td>\n",
       "      <td>Robin Hood: Men in Tights (1993)</td>\n",
       "      <td>Comedy</td>\n",
       "    </tr>\n",
       "  </tbody>\n",
       "</table>\n",
       "</div>"
      ],
      "text/plain": [
       "     movieId                                            title  \\\n",
       "31        32        Twelve Monkeys (a.k.a. 12 Monkeys) (1995)   \n",
       "70        78                       Crossing Guard, The (1995)   \n",
       "116      141                             Birdcage, The (1996)   \n",
       "149      177                         Lord of Illusions (1995)   \n",
       "150      178                      Love & Human Remains (1993)   \n",
       "239      277                    Miracle on 34th Street (1994)   \n",
       "265      305             Ready to Wear (Pret-A-Porter) (1994)   \n",
       "268      308  Three Colors: White (Trzy kolory: Bialy) (1994)   \n",
       "313      355                          Flintstones, The (1994)   \n",
       "455      520                 Robin Hood: Men in Tights (1993)   \n",
       "\n",
       "                          genres  \n",
       "31       Mystery|Sci-Fi|Thriller  \n",
       "70   Action|Crime|Drama|Thriller  \n",
       "116                       Comedy  \n",
       "149                       Horror  \n",
       "150                 Comedy|Drama  \n",
       "239                        Drama  \n",
       "265                       Comedy  \n",
       "268                 Comedy|Drama  \n",
       "313      Children|Comedy|Fantasy  \n",
       "455                       Comedy  "
      ]
     },
     "execution_count": 97,
     "metadata": {},
     "output_type": "execute_result"
    }
   ],
   "source": [
    "recs = [r for r,_ in recommendations]\n",
    "movies[movies.index.isin(recs)]"
   ]
  },
  {
   "cell_type": "code",
   "execution_count": 98,
   "metadata": {},
   "outputs": [
    {
     "data": {
      "text/plain": [
       "[(1196, 1.0000002),\n",
       " (2774, 0.7209943),\n",
       " (2533, 0.7193007),\n",
       " (3337, 0.7131566),\n",
       " (3055, 0.6933945),\n",
       " (5084, 0.6596235),\n",
       " (1844, 0.6570356),\n",
       " (4709, 0.6324284),\n",
       " (3429, 0.6322276),\n",
       " (3297, 0.632178)]"
      ]
     },
     "execution_count": 98,
     "metadata": {},
     "output_type": "execute_result"
    }
   ],
   "source": [
    "test_movie_id = 1196\n",
    "# find related items\n",
    "related = model.similar_users( test_movie_id )\n",
    "rel = [ r for r,_ in related]\n",
    "sorted(rel)\n",
    "related"
   ]
  },
  {
   "cell_type": "code",
   "execution_count": 99,
   "metadata": {},
   "outputs": [
    {
     "data": {
      "text/html": [
       "<div>\n",
       "<style scoped>\n",
       "    .dataframe tbody tr th:only-of-type {\n",
       "        vertical-align: middle;\n",
       "    }\n",
       "\n",
       "    .dataframe tbody tr th {\n",
       "        vertical-align: top;\n",
       "    }\n",
       "\n",
       "    .dataframe thead th {\n",
       "        text-align: right;\n",
       "    }\n",
       "</style>\n",
       "<table border=\"1\" class=\"dataframe\">\n",
       "  <thead>\n",
       "    <tr style=\"text-align: right;\">\n",
       "      <th></th>\n",
       "      <th>movieId</th>\n",
       "      <th>title</th>\n",
       "      <th>genres</th>\n",
       "    </tr>\n",
       "  </thead>\n",
       "  <tbody>\n",
       "    <tr>\n",
       "      <th>1196</th>\n",
       "      <td>1593</td>\n",
       "      <td>Picture Perfect (1997)</td>\n",
       "      <td>Comedy|Romance</td>\n",
       "    </tr>\n",
       "    <tr>\n",
       "      <th>1844</th>\n",
       "      <td>2453</td>\n",
       "      <td>Boy Who Could Fly, The (1986)</td>\n",
       "      <td>Drama|Fantasy</td>\n",
       "    </tr>\n",
       "    <tr>\n",
       "      <th>2533</th>\n",
       "      <td>3393</td>\n",
       "      <td>Date with an Angel (1987)</td>\n",
       "      <td>Comedy|Fantasy|Romance</td>\n",
       "    </tr>\n",
       "    <tr>\n",
       "      <th>2774</th>\n",
       "      <td>3712</td>\n",
       "      <td>Soapdish (1991)</td>\n",
       "      <td>Comedy</td>\n",
       "    </tr>\n",
       "    <tr>\n",
       "      <th>3055</th>\n",
       "      <td>4091</td>\n",
       "      <td>Can't Buy Me Love (1987)</td>\n",
       "      <td>Comedy|Romance</td>\n",
       "    </tr>\n",
       "    <tr>\n",
       "      <th>3297</th>\n",
       "      <td>4462</td>\n",
       "      <td>18 Again! (1988)</td>\n",
       "      <td>Comedy|Fantasy</td>\n",
       "    </tr>\n",
       "    <tr>\n",
       "      <th>3337</th>\n",
       "      <td>4520</td>\n",
       "      <td>License to Drive (1988)</td>\n",
       "      <td>Comedy</td>\n",
       "    </tr>\n",
       "    <tr>\n",
       "      <th>3429</th>\n",
       "      <td>4672</td>\n",
       "      <td>Tall Guy, The (1989)</td>\n",
       "      <td>Comedy|Romance</td>\n",
       "    </tr>\n",
       "    <tr>\n",
       "      <th>4709</th>\n",
       "      <td>7026</td>\n",
       "      <td>Summer School (1987)</td>\n",
       "      <td>Comedy</td>\n",
       "    </tr>\n",
       "    <tr>\n",
       "      <th>5084</th>\n",
       "      <td>8011</td>\n",
       "      <td>Weather Underground, The (2002)</td>\n",
       "      <td>Documentary</td>\n",
       "    </tr>\n",
       "  </tbody>\n",
       "</table>\n",
       "</div>"
      ],
      "text/plain": [
       "      movieId                            title                  genres\n",
       "1196     1593           Picture Perfect (1997)          Comedy|Romance\n",
       "1844     2453    Boy Who Could Fly, The (1986)           Drama|Fantasy\n",
       "2533     3393        Date with an Angel (1987)  Comedy|Fantasy|Romance\n",
       "2774     3712                  Soapdish (1991)                  Comedy\n",
       "3055     4091         Can't Buy Me Love (1987)          Comedy|Romance\n",
       "3297     4462                 18 Again! (1988)          Comedy|Fantasy\n",
       "3337     4520          License to Drive (1988)                  Comedy\n",
       "3429     4672             Tall Guy, The (1989)          Comedy|Romance\n",
       "4709     7026             Summer School (1987)                  Comedy\n",
       "5084     8011  Weather Underground, The (2002)             Documentary"
      ]
     },
     "execution_count": 99,
     "metadata": {},
     "output_type": "execute_result"
    }
   ],
   "source": [
    "movies[movies.index.isin(rel)]"
   ]
  },
  {
   "cell_type": "code",
   "execution_count": null,
   "metadata": {},
   "outputs": [],
   "source": []
  }
 ],
 "metadata": {
  "kernelspec": {
   "display_name": "Python 3",
   "language": "python",
   "name": "python3"
  },
  "language_info": {
   "codemirror_mode": {
    "name": "ipython",
    "version": 3
   },
   "file_extension": ".py",
   "mimetype": "text/x-python",
   "name": "python",
   "nbconvert_exporter": "python",
   "pygments_lexer": "ipython3",
   "version": "3.8.5"
  }
 },
 "nbformat": 4,
 "nbformat_minor": 4
}
