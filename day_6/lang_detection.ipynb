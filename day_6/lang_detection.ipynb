{
 "cells": [
  {
   "cell_type": "code",
   "execution_count": 1,
   "metadata": {
    "colab": {
     "base_uri": "https://localhost:8080/",
     "height": 34
    },
    "id": "TkD8iY0wLMaM",
    "outputId": "2fcdc49e-3697-480e-cb7d-27313b4ea477"
   },
   "outputs": [
    {
     "ename": "ModuleNotFoundError",
     "evalue": "No module named 'keras'",
     "output_type": "error",
     "traceback": [
      "\u001b[0;31m---------------------------------------------------------------------------\u001b[0m",
      "\u001b[0;31mModuleNotFoundError\u001b[0m                       Traceback (most recent call last)",
      "\u001b[0;32m<ipython-input-1-d89df32bad96>\u001b[0m in \u001b[0;36m<module>\u001b[0;34m\u001b[0m\n\u001b[1;32m      2\u001b[0m \u001b[0;32mimport\u001b[0m \u001b[0mmatplotlib\u001b[0m\u001b[0;34m.\u001b[0m\u001b[0mpyplot\u001b[0m \u001b[0;32mas\u001b[0m \u001b[0mplt\u001b[0m\u001b[0;34m\u001b[0m\u001b[0;34m\u001b[0m\u001b[0m\n\u001b[1;32m      3\u001b[0m \u001b[0;32mimport\u001b[0m \u001b[0mnumpy\u001b[0m \u001b[0;32mas\u001b[0m \u001b[0mnp\u001b[0m\u001b[0;34m\u001b[0m\u001b[0;34m\u001b[0m\u001b[0m\n\u001b[0;32m----> 4\u001b[0;31m \u001b[0;32mimport\u001b[0m \u001b[0mkeras\u001b[0m\u001b[0;34m\u001b[0m\u001b[0;34m\u001b[0m\u001b[0m\n\u001b[0m\u001b[1;32m      5\u001b[0m \u001b[0;32mimport\u001b[0m \u001b[0mglob\u001b[0m\u001b[0;34m\u001b[0m\u001b[0;34m\u001b[0m\u001b[0m\n",
      "\u001b[0;31mModuleNotFoundError\u001b[0m: No module named 'keras'"
     ]
    }
   ],
   "source": [
    "%matplotlib inline\n",
    "import matplotlib.pyplot as plt\n",
    "import numpy as np\n",
    "import keras\n",
    "import glob"
   ]
  },
  {
   "cell_type": "code",
   "execution_count": null,
   "metadata": {
    "colab": {
     "base_uri": "https://localhost:8080/",
     "height": 122
    },
    "id": "FNrgydbOMRhZ",
    "outputId": "126ac593-38e7-46da-8dec-add843833fbb"
   },
   "outputs": [
    {
     "name": "stdout",
     "output_type": "stream",
     "text": [
      "Go to this URL in a browser: https://accounts.google.com/o/oauth2/auth?client_id=947318989803-6bn6qk8qdgf4n4g3pfee6491hc0brc4i.apps.googleusercontent.com&redirect_uri=urn%3Aietf%3Awg%3Aoauth%3A2.0%3Aoob&scope=email%20https%3A%2F%2Fwww.googleapis.com%2Fauth%2Fdocs.test%20https%3A%2F%2Fwww.googleapis.com%2Fauth%2Fdrive%20https%3A%2F%2Fwww.googleapis.com%2Fauth%2Fdrive.photos.readonly%20https%3A%2F%2Fwww.googleapis.com%2Fauth%2Fpeopleapi.readonly&response_type=code\n",
      "\n",
      "Enter your authorization code:\n",
      "··········\n",
      "Mounted at /docs\n"
     ]
    }
   ],
   "source": [
    "\n",
    "from google.colab import drive\n",
    "drive.mount('/docs')"
   ]
  },
  {
   "cell_type": "code",
   "execution_count": null,
   "metadata": {
    "colab": {
     "base_uri": "https://localhost:8080/",
     "height": 34
    },
    "id": "jv4mI9HCLQUz",
    "outputId": "a6f75714-15c2-4ad7-e6b5-f6768c7531ea"
   },
   "outputs": [
    {
     "name": "stdout",
     "output_type": "stream",
     "text": [
      "934\n"
     ]
    }
   ],
   "source": [
    "\n",
    "lang = {\n",
    "    0: \"EN\",\n",
    "    1: \"DE\",\n",
    "    2: \"IT\"\n",
    "}\n",
    "\n",
    "\n",
    "from PIL import Image # used for loading images\n",
    "import numpy as np\n",
    "import os # used for navigating to image path\n",
    "import imageio # used for writing images\n",
    "\n",
    " \n",
    "\n",
    "def get_lang(path):\n",
    "    lang = path.split('_')[0].split(\"/\")[-1] \n",
    "    return lang.upper()\n",
    "    \n",
    "  \n",
    "\n",
    "data_dir = '/docs/My Drive/docs/images'\n",
    "\n",
    "\n",
    "files = glob.glob(data_dir + \"/*.jpg\")\n",
    "\n",
    "\n",
    "dataset = []\n",
    "\n",
    "for file in files: \n",
    "    cls = get_lang(file) \n",
    "    dataset.append( (file, cls) )\n",
    "  \n",
    "print(len(dataset))"
   ]
  },
  {
   "cell_type": "code",
   "execution_count": null,
   "metadata": {
    "colab": {
     "base_uri": "https://localhost:8080/",
     "height": 35
    },
    "id": "lW_KnqVIhUtp",
    "outputId": "95a4e199-5cf1-42b3-e309-1acf36f7954a"
   },
   "outputs": [
    {
     "name": "stdout",
     "output_type": "stream",
     "text": [
      "IT\n"
     ]
    }
   ],
   "source": [
    "ret = get_lang( files[0] )\n",
    "print(ret)"
   ]
  },
  {
   "cell_type": "code",
   "execution_count": null,
   "metadata": {
    "colab": {
     "base_uri": "https://localhost:8080/",
     "height": 215
    },
    "id": "ZQcKj51BLl16",
    "outputId": "24d402ce-93a5-45b0-c92e-1426889eedd8"
   },
   "outputs": [
    {
     "name": "stdout",
     "output_type": "stream",
     "text": [
      "0\n",
      "100\n",
      "200\n",
      "300\n",
      "400\n",
      "500\n",
      "600\n",
      "700\n",
      "800\n",
      "900\n"
     ]
    },
    {
     "data": {
      "text/plain": [
       "(5608, 3)"
      ]
     },
     "execution_count": 71,
     "metadata": {
      "tags": []
     },
     "output_type": "execute_result"
    }
   ],
   "source": [
    "def lang_to_vec(lang):\n",
    "    if lang == 'EN':\n",
    "        return [1,0,0]\n",
    "    if lang=='DE':\n",
    "        return [0,1,0]\n",
    "    if lang == 'IT':\n",
    "        return [0,0,1]\n",
    "\n",
    "      \n",
    "      \n",
    "features = []\n",
    "labels = []\n",
    "for idx, (path, label) in enumerate(dataset):\n",
    "  \n",
    "  \n",
    "    img = Image.open(path)\n",
    "    img = img.convert('L')\n",
    "    \n",
    "    \n",
    "    area = (100, 100, 250,250)\n",
    "    cropped_img = img.crop(area)\n",
    "    \n",
    "    features.append( np.array(cropped_img))\n",
    "    labels.append( lang_to_vec(label))\n",
    "\n",
    "    \n",
    "    area = (200, 200, 350,350)\n",
    "    cropped_img = img.crop(area)\n",
    "    \n",
    "    features.append( np.array(cropped_img))\n",
    "    labels.append( lang_to_vec(label))\n",
    "    \n",
    "    \n",
    "    area = (50, 50, 200,200)\n",
    "    cropped_img = img.crop(area)\n",
    "    \n",
    "    features.append( np.array(cropped_img))\n",
    "    labels.append( lang_to_vec(label))\n",
    "\n",
    "    \n",
    "    area = (150, 150, 300,300)\n",
    "    cropped_img = img.crop(area)\n",
    "    \n",
    "    features.append( np.array(cropped_img))\n",
    "    labels.append( lang_to_vec(label))\n",
    "\n",
    "    \n",
    "    \n",
    "    area = (80, 80, 80+150,80+150)\n",
    "    cropped_img = img.crop(area)\n",
    "    \n",
    "    features.append( np.array(cropped_img))\n",
    "    labels.append( lang_to_vec(label))\n",
    "\n",
    "    \n",
    "    if label == 'IT':\n",
    "        area = (30, 30, 30+150,30+150)\n",
    "        cropped_img = img.crop(area)\n",
    "\n",
    "        features.append( np.array(cropped_img))\n",
    "        labels.append( lang_to_vec(label))\n",
    "        \n",
    "        \n",
    "        area = (40, 70, 40+150,70+150)\n",
    "        cropped_img = img.crop(area)\n",
    "\n",
    "        features.append( np.array(cropped_img))\n",
    "        labels.append( lang_to_vec(label))\n",
    "        \n",
    "        \n",
    "        area = (130, 250, 130+150, 250+150)\n",
    "        cropped_img = img.crop(area)\n",
    "\n",
    "        features.append( np.array(cropped_img))\n",
    "        labels.append( lang_to_vec(label))\n",
    "        \n",
    "        \n",
    "           \n",
    "        area = (250, 130, 250+150, 130+150)\n",
    "        cropped_img = img.crop(area)\n",
    "\n",
    "        features.append( np.array(cropped_img))\n",
    "        labels.append( lang_to_vec(label))\n",
    "        \n",
    "        \n",
    "              \n",
    "        area = (200, 200, 200+150, 200+150)\n",
    "        cropped_img = img.crop(area)\n",
    "\n",
    "        features.append( np.array(cropped_img))\n",
    "        labels.append( lang_to_vec(label))\n",
    "        \n",
    "        \n",
    "                 \n",
    "        area = (350, 350, 350+150, 350+150)\n",
    "        cropped_img = img.crop(area)\n",
    "\n",
    "        features.append( np.array(cropped_img))\n",
    "        labels.append( lang_to_vec(label))\n",
    "        \n",
    "        \n",
    "                     \n",
    "        \n",
    "        area = (360, 120, 360+150, 120+150)\n",
    "        cropped_img = img.crop(area)\n",
    "\n",
    "        features.append( np.array(cropped_img))\n",
    "        labels.append( lang_to_vec(label))\n",
    "        \n",
    "        \n",
    "        \n",
    "        \n",
    "\n",
    "    if idx % 100 == 0:\n",
    "      print(idx)\n",
    "    \n",
    "    \n",
    "features = np.array(features)\n",
    "labels = np.array(labels)\n",
    " \n",
    "\n",
    "labels.shape\n",
    "\n"
   ]
  },
  {
   "cell_type": "code",
   "execution_count": null,
   "metadata": {
    "colab": {
     "base_uri": "https://localhost:8080/",
     "height": 35
    },
    "id": "7cn6WWpvxYG4",
    "outputId": "8c542567-0ca7-42d3-980c-d9a02f6a27fa"
   },
   "outputs": [
    {
     "data": {
      "text/plain": [
       "((4486, 150, 150, 1), (4486, 3), (1122, 150, 150, 1), (1122, 3))"
      ]
     },
     "execution_count": 72,
     "metadata": {
      "tags": []
     },
     "output_type": "execute_result"
    }
   ],
   "source": [
    "IMG_SIZE_X, IMG_SIZE_Y = features[0].shape\n",
    "IMG_SIZE_X, IMG_SIZE_Y, labels.shape\n",
    "\n",
    "scaled_features = features/255\n",
    "  \n",
    "mean_image = (scaled_features.sum(axis=0)/scaled_features.shape[0])\n",
    "scaled_features = (scaled_features -  mean_image)\n",
    " \n",
    "\n",
    "\n",
    "from sklearn.model_selection import  train_test_split \n",
    "trainImages = scaled_features.reshape(-1, IMG_SIZE_X, IMG_SIZE_Y, 1)\n",
    "\n",
    "\n",
    "\n",
    " \n",
    "\n",
    "\n",
    "train_x, test_x, train_y, test_y = train_test_split( trainImages, labels, test_size=.2, random_state = 1231)\n",
    "\n",
    "train_x.shape, train_y.shape, test_x.shape, test_y.shape"
   ]
  },
  {
   "cell_type": "code",
   "execution_count": null,
   "metadata": {
    "colab": {
     "base_uri": "https://localhost:8080/",
     "height": 35
    },
    "id": "11KUpYRSa7MI",
    "outputId": "29d4c446-e051-4c70-c6cb-a9a2ba666f64"
   },
   "outputs": [
    {
     "data": {
      "text/plain": [
       "(5608, 150, 150)"
      ]
     },
     "execution_count": 73,
     "metadata": {
      "tags": []
     },
     "output_type": "execute_result"
    }
   ],
   "source": [
    "features.shape"
   ]
  },
  {
   "cell_type": "code",
   "execution_count": null,
   "metadata": {
    "colab": {
     "base_uri": "https://localhost:8080/",
     "height": 35
    },
    "id": "H5XU9KkYZMeF",
    "outputId": "d919eab9-d385-4692-b42b-2556f09a434e"
   },
   "outputs": [
    {
     "data": {
      "text/plain": [
       "(-0.9118220469357501, 0.3662876562893346)"
      ]
     },
     "execution_count": 74,
     "metadata": {
      "tags": []
     },
     "output_type": "execute_result"
    }
   ],
   "source": [
    "np.min(trainImages), np.max(trainImages)"
   ]
  },
  {
   "cell_type": "code",
   "execution_count": null,
   "metadata": {
    "id": "7YzBdWYs48Nr"
   },
   "outputs": [],
   "source": [
    "from keras.models import Sequential\n",
    "from keras.layers import Conv2D,MaxPooling2D,BatchNormalization, Flatten, Dense, Dropout,LeakyReLU, ReLU\n",
    "from keras.callbacks import EarlyStopping"
   ]
  },
  {
   "cell_type": "code",
   "execution_count": null,
   "metadata": {
    "id": "viBXyNFLMJPh"
   },
   "outputs": [],
   "source": [
    "def get_model():\n",
    "  model = Sequential()\n",
    "  \n",
    "  model.add(Conv2D(16, kernel_size = (3, 3),input_shape=(IMG_SIZE_X, IMG_SIZE_Y, 1)))\n",
    "  model.add( ReLU() )\n",
    "  \n",
    "  model.add(MaxPooling2D(pool_size=(2,2)))\n",
    "  model.add(BatchNormalization())\n",
    "\n",
    "\n",
    "  model.add(Conv2D(32, kernel_size=(3,3)))\n",
    "  model.add( ReLU() )\n",
    "  model.add(MaxPooling2D(pool_size=(2,2)))\n",
    "  model.add(BatchNormalization())\n",
    "\n",
    "\n",
    "  model.add(Conv2D(64, kernel_size=(3,3)))\n",
    "  model.add( ReLU() )\n",
    "  model.add(MaxPooling2D(pool_size=(2,2)))\n",
    "  model.add(BatchNormalization())\n",
    "\n",
    "  model.add(Conv2D(96, kernel_size=(3,3)))\n",
    "  model.add( ReLU() )\n",
    "  model.add(MaxPooling2D(pool_size=(2,2)))\n",
    "  model.add(BatchNormalization())\n",
    "\n",
    "  \n",
    "  model.add(Conv2D(32, kernel_size=(3,3) ))\n",
    "  model.add( ReLU() )\n",
    "  model.add(MaxPooling2D(pool_size=(2,2)))\n",
    "  model.add(BatchNormalization()) \n",
    "\n",
    "  model.add(Dropout(0.7))\n",
    "  model.add(Flatten())\n",
    "  model.add(Dense(128))\n",
    "  model.add( ReLU() )\n",
    "  model.add(Dropout(0.7))\n",
    "\n",
    "  model.add(Dense(3, activation = 'softmax'))\n",
    "  return model"
   ]
  },
  {
   "cell_type": "code",
   "execution_count": null,
   "metadata": {
    "id": "Rlb5SsTpq0Fz"
   },
   "outputs": [],
   "source": [
    "model = get_model()"
   ]
  },
  {
   "cell_type": "markdown",
   "metadata": {
    "id": "TBGkY1rsEZv9"
   },
   "source": []
  },
  {
   "cell_type": "code",
   "execution_count": null,
   "metadata": {
    "id": "1cCgu57jrLfp"
   },
   "outputs": [],
   "source": [
    "\n",
    "optimizer=  keras.optimizers.Adam(lr=0.0003, beta_1=0.9, beta_2=0.999, epsilon=None, decay=0.0, amsgrad=False)\n",
    "from keras.metrics import categorical_accuracy\n",
    "model.compile(loss='kullback_leibler_divergence', optimizer=optimizer, metrics = [\"accuracy\"]) "
   ]
  },
  {
   "cell_type": "code",
   "execution_count": null,
   "metadata": {
    "colab": {
     "base_uri": "https://localhost:8080/",
     "height": 937
    },
    "id": "OQ-aDoCqq_TF",
    "outputId": "3edd2857-ec93-4a29-ab25-92d73e822798"
   },
   "outputs": [
    {
     "name": "stdout",
     "output_type": "stream",
     "text": [
      "Train on 4486 samples, validate on 1122 samples\n",
      "Epoch 1/100\n",
      "4486/4486 [==============================] - 4s 980us/step - loss: 2.3699 - acc: 0.3611 - val_loss: 1.0894 - val_acc: 0.5160\n",
      "Epoch 2/100\n",
      "4486/4486 [==============================] - 3s 595us/step - loss: 1.9476 - acc: 0.4041 - val_loss: 1.0078 - val_acc: 0.5330\n",
      "Epoch 3/100\n",
      "4486/4486 [==============================] - 3s 596us/step - loss: 1.7586 - acc: 0.4262 - val_loss: 0.8904 - val_acc: 0.5838\n",
      "Epoch 4/100\n",
      "4486/4486 [==============================] - 3s 598us/step - loss: 1.4357 - acc: 0.4860 - val_loss: 0.8552 - val_acc: 0.5900\n",
      "Epoch 5/100\n",
      "4486/4486 [==============================] - 3s 604us/step - loss: 1.2789 - acc: 0.5214 - val_loss: 0.8095 - val_acc: 0.6185\n",
      "Epoch 6/100\n",
      "4486/4486 [==============================] - 3s 601us/step - loss: 1.1135 - acc: 0.5767 - val_loss: 0.7881 - val_acc: 0.6453\n",
      "Epoch 7/100\n",
      "4486/4486 [==============================] - 3s 614us/step - loss: 0.9459 - acc: 0.6277 - val_loss: 0.5945 - val_acc: 0.7406\n",
      "Epoch 8/100\n",
      "4486/4486 [==============================] - 3s 619us/step - loss: 0.7856 - acc: 0.6828 - val_loss: 0.6371 - val_acc: 0.7228\n",
      "Epoch 9/100\n",
      "4486/4486 [==============================] - 3s 618us/step - loss: 0.6629 - acc: 0.7272 - val_loss: 0.3815 - val_acc: 0.8529\n",
      "Epoch 10/100\n",
      "4486/4486 [==============================] - 3s 617us/step - loss: 0.5659 - acc: 0.7782 - val_loss: 0.3237 - val_acc: 0.8779\n",
      "Epoch 11/100\n",
      "4486/4486 [==============================] - 3s 621us/step - loss: 0.4646 - acc: 0.8163 - val_loss: 0.2411 - val_acc: 0.9171\n",
      "Epoch 12/100\n",
      "4486/4486 [==============================] - 3s 625us/step - loss: 0.4254 - acc: 0.8384 - val_loss: 0.2246 - val_acc: 0.9153\n",
      "Epoch 13/100\n",
      "4486/4486 [==============================] - 3s 602us/step - loss: 0.3418 - acc: 0.8718 - val_loss: 0.1975 - val_acc: 0.9323\n",
      "Epoch 14/100\n",
      "4486/4486 [==============================] - 3s 604us/step - loss: 0.3000 - acc: 0.8930 - val_loss: 0.1994 - val_acc: 0.9287\n",
      "Epoch 15/100\n",
      "4486/4486 [==============================] - 3s 604us/step - loss: 0.2653 - acc: 0.9066 - val_loss: 0.1697 - val_acc: 0.9412\n",
      "Epoch 16/100\n",
      "4486/4486 [==============================] - 3s 616us/step - loss: 0.2685 - acc: 0.9055 - val_loss: 0.1658 - val_acc: 0.9385\n",
      "Epoch 17/100\n",
      "4486/4486 [==============================] - 3s 631us/step - loss: 0.2195 - acc: 0.9222 - val_loss: 0.1346 - val_acc: 0.9510\n",
      "Epoch 18/100\n",
      "4486/4486 [==============================] - 3s 610us/step - loss: 0.1876 - acc: 0.9351 - val_loss: 0.1425 - val_acc: 0.9474\n",
      "Epoch 19/100\n",
      "4486/4486 [==============================] - 3s 601us/step - loss: 0.1787 - acc: 0.9385 - val_loss: 0.1209 - val_acc: 0.9608\n",
      "Epoch 20/100\n",
      "4486/4486 [==============================] - 3s 606us/step - loss: 0.1707 - acc: 0.9440 - val_loss: 0.1176 - val_acc: 0.9590\n",
      "Epoch 21/100\n",
      "4486/4486 [==============================] - 3s 605us/step - loss: 0.1748 - acc: 0.9412 - val_loss: 0.1897 - val_acc: 0.9323\n",
      "Epoch 22/100\n",
      "4486/4486 [==============================] - 3s 602us/step - loss: 0.1472 - acc: 0.9490 - val_loss: 0.1527 - val_acc: 0.9447\n",
      "Epoch 23/100\n",
      "4486/4486 [==============================] - 3s 607us/step - loss: 0.1373 - acc: 0.9519 - val_loss: 0.1296 - val_acc: 0.9483\n",
      "Epoch 24/100\n",
      "4486/4486 [==============================] - 3s 619us/step - loss: 0.1181 - acc: 0.9583 - val_loss: 0.3558 - val_acc: 0.8815\n"
     ]
    },
    {
     "data": {
      "text/plain": [
       "<keras.callbacks.History at 0x7f850c0f73c8>"
      ]
     },
     "execution_count": 86,
     "metadata": {
      "tags": []
     },
     "output_type": "execute_result"
    }
   ],
   "source": [
    "callbacks = [EarlyStopping(monitor='val_loss', patience=4)]\n",
    "model.fit(train_x, train_y,epochs=100, validation_data=(test_x,test_y), callbacks=callbacks, batch_size = 64, shuffle=False) "
   ]
  },
  {
   "cell_type": "code",
   "execution_count": null,
   "metadata": {
    "colab": {
     "base_uri": "https://localhost:8080/",
     "height": 35
    },
    "id": "jE5d_GzbloHg",
    "outputId": "2c6a432a-0d63-49bd-b088-4efbd6e6b949"
   },
   "outputs": [
    {
     "data": {
      "text/plain": [
       "0.9705882352941176"
      ]
     },
     "execution_count": 83,
     "metadata": {
      "tags": []
     },
     "output_type": "execute_result"
    }
   ],
   "source": [
    "from sklearn.metrics import accuracy_score\n",
    "preds = np.argmax( model.predict( test_x ), axis = 1)\n",
    "\n",
    "\n",
    "accuracy_score( preds, np.argmax(test_y, axis=1))\n"
   ]
  },
  {
   "cell_type": "code",
   "execution_count": null,
   "metadata": {
    "colab": {
     "base_uri": "https://localhost:8080/",
     "height": 232
    },
    "id": "FuoZXwD5r-b1",
    "outputId": "933c8f3f-9eca-4f0f-b0ed-5d771009b895"
   },
   "outputs": [
    {
     "name": "stdout",
     "output_type": "stream",
     "text": [
      "predicted language in text: IT\n"
     ]
    },
    {
     "data": {
      "image/png": "[encoded data removed]",
      "text/plain": [
       "<Figure size 216x216 with 1 Axes>"
      ]
     },
     "metadata": {
      "tags": []
     },
     "output_type": "display_data"
    }
   ],
   "source": [
    "idx = 6\n",
    "\n",
    "im = test_x[idx].reshape(150,150)\n",
    "plt.figure( figsize = (3,3))\n",
    "plt.imshow(im, cmap=\"gray\")\n",
    "\n",
    " \n",
    "ret = model.predict( test_x[idx].reshape(1,150,150,1))\n",
    "print( 'predicted language in text:', lang[ np.argmax(ret, axis = 1)[0] ] ) "
   ]
  },
  {
   "cell_type": "code",
   "execution_count": null,
   "metadata": {
    "colab": {
     "base_uri": "https://localhost:8080/",
     "height": 232
    },
    "id": "N_5xDPuurByQ",
    "outputId": "a443084c-f5cc-4c31-ab9d-3e86120f0f07"
   },
   "outputs": [
    {
     "name": "stdout",
     "output_type": "stream",
     "text": [
      "predicted language in text: EN\n"
     ]
    },
    {
     "data": {
      "image/png": "[encoded data removed]",
      "text/plain": [
       "<Figure size 216x216 with 1 Axes>"
      ]
     },
     "metadata": {
      "tags": []
     },
     "output_type": "display_data"
    }
   ],
   "source": [
    "\n",
    "idx = 134\n",
    "im = test_x[idx].reshape(150,150)\n",
    "plt.figure( figsize = (3,3))\n",
    "plt.imshow(im, cmap=\"gray\")\n",
    "\n",
    "ret = model.predict( test_x[idx].reshape(1,150,150,1))\n",
    "print( 'predicted language in text:', lang[ np.argmax(ret, axis = 1)[0] ] )\n",
    "\n",
    "\n"
   ]
  },
  {
   "cell_type": "code",
   "execution_count": null,
   "metadata": {
    "colab": {
     "base_uri": "https://localhost:8080/",
     "height": 232
    },
    "id": "pswG15dXwS7V",
    "outputId": "33af35fe-0ba8-43ea-a71a-47e134f52d7f"
   },
   "outputs": [
    {
     "name": "stdout",
     "output_type": "stream",
     "text": [
      "predicted language in text: DE\n"
     ]
    },
    {
     "data": {
      "image/png": "[encoded data removed]",
      "text/plain": [
       "<Figure size 216x216 with 1 Axes>"
      ]
     },
     "metadata": {
      "tags": []
     },
     "output_type": "display_data"
    }
   ],
   "source": [
    "\n",
    "idx = 10\n",
    "im = test_x[idx].reshape(150,150)\n",
    "plt.figure( figsize=(3,3))\n",
    "plt.imshow(im, cmap=\"gray\")\n",
    "ret = model.predict( test_x[idx].reshape(1,150,150,1))\n",
    "print( 'predicted language in text:', lang[ np.argmax(ret, axis = 1)[0] ] )\n"
   ]
  },
  {
   "cell_type": "code",
   "execution_count": null,
   "metadata": {
    "id": "XZkUMM6rwf4E"
   },
   "outputs": [],
   "source": []
  },
  {
   "cell_type": "code",
   "execution_count": null,
   "metadata": {
    "id": "B2acAWuO5DxF"
   },
   "outputs": [],
   "source": [
    "from keras.utils import plot_model\n",
    "plot_model(model, to_file='/docs/My Drive/docs/images/model/model.png', show_layer_names=False)"
   ]
  },
  {
   "cell_type": "code",
   "execution_count": null,
   "metadata": {
    "id": "iFohqyJ9tY4E"
   },
   "outputs": [],
   "source": [
    "d"
   ]
  },
  {
   "cell_type": "code",
   "execution_count": null,
   "metadata": {
    "id": "RnAx7cAB6eeE"
   },
   "outputs": [],
   "source": [
    "import torch\n",
    "import torchvision\n",
    "import torchvision.transforms as transforms"
   ]
  },
  {
   "cell_type": "code",
   "execution_count": null,
   "metadata": {
    "colab": {
     "base_uri": "https://localhost:8080/",
     "height": 35
    },
    "id": "ZafbeVJHXf5S",
    "outputId": "adbbbf9f-d3ba-47ed-bb61-9a5bc8433a22"
   },
   "outputs": [
    {
     "data": {
      "text/plain": [
       "'1.1.0'"
      ]
     },
     "execution_count": 13,
     "metadata": {
      "tags": []
     },
     "output_type": "execute_result"
    }
   ],
   "source": [
    "torch.__version__"
   ]
  },
  {
   "cell_type": "code",
   "execution_count": null,
   "metadata": {
    "id": "rLBaSVoGXhi-"
   },
   "outputs": [],
   "source": [
    "import torch.nn as nn\n",
    "import torch.nn.functional as F\n",
    "\n",
    "\n",
    "class LangDetector(nn.Module):\n",
    "    def __init__(self):\n",
    "        super(LangDetector, self).__init__()\n",
    "        self.conv1 = nn.Conv2d(in_channels=1, out_channels=32, kernel_size=3)\n",
    "        self.pool = nn.MaxPool2d(2, 2)\n",
    "        self.conv2 = nn.Conv2d(in_channels=32, out_channels=64, kernel_size=3)\n",
    "        self.conv3 = nn.Conv2d(in_channels=64, out_channels=128, kernel_size=3)\n",
    "        \n",
    "        self.fc1 = nn.Linear(128* 17*17, 128)\n",
    "        self.fc2 = nn.Linear(128, 3)\n",
    "        self.softmax =  nn.Softmax()\n",
    "        #self.fc3 = nn.Linear(84, 10)\n",
    "\n",
    "    def forward(self, x):\n",
    "        x = self.pool(F.relu(self.conv1(x)))\n",
    "        x = self.pool(F.relu(self.conv2(x)))\n",
    "        x = self.pool(F.relu(self.conv3(x)))\n",
    "        x = x.view(-1, 128* 17*17)\n",
    "        x = F.relu(self.fc1(x))\n",
    "        x = F.relu(self.fc2(x))\n",
    "        #x = self.fc3(x)\n",
    "        return self.softmax(x)\n",
    "      \n",
    "\n",
    "net = LangDetector()"
   ]
  },
  {
   "cell_type": "code",
   "execution_count": null,
   "metadata": {
    "colab": {
     "base_uri": "https://localhost:8080/",
     "height": 73
    },
    "id": "4UMKC5RZqxdD",
    "outputId": "1581ac57-b365-44f3-ceef-57cbbce8c692"
   },
   "outputs": [
    {
     "name": "stderr",
     "output_type": "stream",
     "text": [
      "/usr/local/lib/python3.6/dist-packages/ipykernel_launcher.py:26: UserWarning: Implicit dimension choice for softmax has been deprecated. Change the call to include dim=X as an argument.\n"
     ]
    },
    {
     "data": {
      "text/plain": [
       "torch.Size([16, 3])"
      ]
     },
     "execution_count": 62,
     "metadata": {
      "tags": []
     },
     "output_type": "execute_result"
    }
   ],
   "source": [
    "BATCH_SIZE = 16\n",
    "i =0\n",
    "inputs =  torch.from_numpy( train_x[ i:(i+BATCH_SIZE), :].reshape(16,1,150,150).astype(np.float32)) \n",
    "\n",
    "labels = torch.from_numpy(train_y[ i:(i+BATCH_SIZE), :] )\n",
    "ret= net.forward( inputs )\n",
    "ret.shape"
   ]
  },
  {
   "cell_type": "code",
   "execution_count": null,
   "metadata": {
    "id": "8rFzVdAzX1vH"
   },
   "outputs": [],
   "source": [
    "import torch.optim as optim\n",
    "\n",
    "criterion = nn.CrossEntropyLoss()\n",
    "optimizer = optim.SGD(net.parameters(), lr=0.001, momentum=0.9)\n",
    "torch.set_default_dtype(torch.float32)\n",
    "\n",
    "train_x = train_x.astype(np.float32)"
   ]
  },
  {
   "cell_type": "code",
   "execution_count": null,
   "metadata": {
    "colab": {
     "base_uri": "https://localhost:8080/",
     "height": 35
    },
    "id": "of-M0yoy3tFf",
    "outputId": "3e40c8b9-03bf-4dda-be82-48f027089414"
   },
   "outputs": [
    {
     "data": {
      "text/plain": [
       "(torch.Size([3736, 1, 150, 150]), torch.Size([3736]))"
      ]
     },
     "execution_count": 101,
     "metadata": {
      "tags": []
     },
     "output_type": "execute_result"
    }
   ],
   "source": [
    "tensor_train_x = torch.from_numpy( train_x.reshape( -1, 1, 150, 150) )\n",
    "\n",
    "tensor_train_y=  torch.from_numpy( train_y.argmax(axis=1) )\n",
    "\n",
    "tensor_train_x.shape,tensor_train_y.shape"
   ]
  },
  {
   "cell_type": "markdown",
   "metadata": {
    "id": "Shn-WNCC5c98"
   },
   "source": []
  },
  {
   "cell_type": "code",
   "execution_count": null,
   "metadata": {
    "colab": {
     "base_uri": "https://localhost:8080/",
     "height": 35
    },
    "id": "KgqN8MFJ4Ic9",
    "outputId": "b6e49009-6c11-4c19-cc2d-076e5429ce28"
   },
   "outputs": [
    {
     "data": {
      "text/plain": [
       "(torch.Size([32, 1, 150, 150]), torch.Size([32]))"
      ]
     },
     "execution_count": 103,
     "metadata": {
      "tags": []
     },
     "output_type": "execute_result"
    }
   ],
   "source": [
    "i = 2\n",
    "BATCH_SIZE=32\n",
    "tensor_train_x[ i:(i+BATCH_SIZE), :].shape, tensor_train_y[ i:(i+BATCH_SIZE)]"
   ]
  },
  {
   "cell_type": "code",
   "execution_count": null,
   "metadata": {
    "id": "fCaz-AxhX7zP"
   },
   "outputs": [],
   "source": [
    "for epoch in range(5):  # loop over the dataset multiple times\n",
    "\n",
    "    running_loss = 0.0\n",
    "    BATCH_SIZE =128\n",
    "    for i in range(0, train_x.shape[0], BATCH_SIZE):\n",
    "       \n",
    "        try:\n",
    "          inputs =   tensor_train_x[ i:(i+BATCH_SIZE), :]\n",
    "          labels =   tensor_train_y[ i:(i+BATCH_SIZE)]\n",
    "        except:\n",
    "          print(\"err in reshape\")\n",
    "    \n",
    "        #print(inputs.shape, labels.shape)\n",
    "        \n",
    "\n",
    "        # zero the parameter gradients\n",
    "        optimizer.zero_grad()\n",
    "\n",
    "        # forward + backward + optimize\n",
    "        outputs = net(inputs)\n",
    "        \n",
    "        \n",
    "        loss = criterion(outputs,  labels)\n",
    "        loss.backward()\n",
    "        optimizer.step()\n",
    "\n",
    "        # print statistics\n",
    "        running_loss += loss.item()\n",
    "        #if i % 100 == 0:    # print every 2000 mini-batches\n",
    "        #    print('[%d, %5d] loss: %.3f' %\n",
    "        #          (epoch + 1, i + 1, running_loss / 100))\n",
    "        #    running_loss = 0.0\n",
    "            \n",
    "    print( \"epoch loss=%s\" % running_loss)\n",
    "\n",
    "print('Finished Training')"
   ]
  },
  {
   "cell_type": "code",
   "execution_count": null,
   "metadata": {
    "colab": {
     "base_uri": "https://localhost:8080/",
     "height": 172
    },
    "id": "O9WiDHnLYKZe",
    "outputId": "88e699f8-9e4c-4ce9-d99f-88825b53f78a"
   },
   "outputs": [
    {
     "ename": "NameError",
     "evalue": "ignored",
     "output_type": "error",
     "traceback": [
      "\u001b[0;31m---------------------------------------------------------------------------\u001b[0m",
      "\u001b[0;31mNameError\u001b[0m                                 Traceback (most recent call last)",
      "\u001b[0;32m<ipython-input-1-29dfdac339c7>\u001b[0m in \u001b[0;36m<module>\u001b[0;34m()\u001b[0m\n\u001b[0;32m----> 1\u001b[0;31m \u001b[0mtrain_y\u001b[0m\u001b[0;34m[\u001b[0m \u001b[0mi\u001b[0m\u001b[0;34m:\u001b[0m\u001b[0;34m(\u001b[0m\u001b[0mi\u001b[0m\u001b[0;34m+\u001b[0m\u001b[0mBATCH_SIZE\u001b[0m\u001b[0;34m)\u001b[0m\u001b[0;34m,\u001b[0m \u001b[0;34m:\u001b[0m\u001b[0;34m]\u001b[0m\u001b[0;34m.\u001b[0m\u001b[0margmax\u001b[0m\u001b[0;34m(\u001b[0m\u001b[0maxis\u001b[0m\u001b[0;34m=\u001b[0m\u001b[0;36m1\u001b[0m\u001b[0;34m)\u001b[0m\u001b[0;34m\u001b[0m\u001b[0;34m\u001b[0m\u001b[0m\n\u001b[0m",
      "\u001b[0;31mNameError\u001b[0m: name 'train_y' is not defined"
     ]
    }
   ],
   "source": [
    "train_y[ i:(i+BATCH_SIZE), :].argmax(axis=1)"
   ]
  },
  {
   "cell_type": "code",
   "execution_count": null,
   "metadata": {
    "colab": {
     "base_uri": "https://localhost:8080/",
     "height": 1000
    },
    "id": "BuOHqwT0ZqoJ",
    "outputId": "af8c1893-3cd4-44c0-9531-34310c5467c1"
   },
   "outputs": [
    {
     "name": "stdout",
     "output_type": "stream",
     "text": [
      "_________________________________________________________________\n",
      "Layer (type)                 Output Shape              Param #   \n",
      "=================================================================\n",
      "conv2d_6 (Conv2D)            (None, 148, 148, 16)      160       \n",
      "_________________________________________________________________\n",
      "re_lu_7 (ReLU)               (None, 148, 148, 16)      0         \n",
      "_________________________________________________________________\n",
      "max_pooling2d_6 (MaxPooling2 (None, 74, 74, 16)        0         \n",
      "_________________________________________________________________\n",
      "batch_normalization_1 (Batch (None, 74, 74, 16)        64        \n",
      "_________________________________________________________________\n",
      "conv2d_7 (Conv2D)            (None, 72, 72, 32)        4640      \n",
      "_________________________________________________________________\n",
      "re_lu_8 (ReLU)               (None, 72, 72, 32)        0         \n",
      "_________________________________________________________________\n",
      "max_pooling2d_7 (MaxPooling2 (None, 36, 36, 32)        0         \n",
      "_________________________________________________________________\n",
      "batch_normalization_2 (Batch (None, 36, 36, 32)        128       \n",
      "_________________________________________________________________\n",
      "conv2d_8 (Conv2D)            (None, 34, 34, 64)        18496     \n",
      "_________________________________________________________________\n",
      "re_lu_9 (ReLU)               (None, 34, 34, 64)        0         \n",
      "_________________________________________________________________\n",
      "max_pooling2d_8 (MaxPooling2 (None, 17, 17, 64)        0         \n",
      "_________________________________________________________________\n",
      "batch_normalization_3 (Batch (None, 17, 17, 64)        256       \n",
      "_________________________________________________________________\n",
      "conv2d_9 (Conv2D)            (None, 15, 15, 96)        55392     \n",
      "_________________________________________________________________\n",
      "re_lu_10 (ReLU)              (None, 15, 15, 96)        0         \n",
      "_________________________________________________________________\n",
      "max_pooling2d_9 (MaxPooling2 (None, 7, 7, 96)          0         \n",
      "_________________________________________________________________\n",
      "batch_normalization_4 (Batch (None, 7, 7, 96)          384       \n",
      "_________________________________________________________________\n",
      "conv2d_10 (Conv2D)           (None, 5, 5, 32)          27680     \n",
      "_________________________________________________________________\n",
      "re_lu_11 (ReLU)              (None, 5, 5, 32)          0         \n",
      "_________________________________________________________________\n",
      "max_pooling2d_10 (MaxPooling (None, 2, 2, 32)          0         \n",
      "_________________________________________________________________\n",
      "batch_normalization_5 (Batch (None, 2, 2, 32)          128       \n",
      "_________________________________________________________________\n",
      "dropout_3 (Dropout)          (None, 2, 2, 32)          0         \n",
      "_________________________________________________________________\n",
      "flatten_2 (Flatten)          (None, 128)               0         \n",
      "_________________________________________________________________\n",
      "dense_3 (Dense)              (None, 128)               16512     \n",
      "_________________________________________________________________\n",
      "re_lu_12 (ReLU)              (None, 128)               0         \n",
      "_________________________________________________________________\n",
      "dropout_4 (Dropout)          (None, 128)               0         \n",
      "_________________________________________________________________\n",
      "dense_4 (Dense)              (None, 3)                 387       \n",
      "=================================================================\n",
      "Total params: 124,227\n",
      "Trainable params: 123,747\n",
      "Non-trainable params: 480\n",
      "_________________________________________________________________\n",
      "None\n"
     ]
    }
   ],
   "source": [
    "print(model.summary())"
   ]
  },
  {
   "cell_type": "code",
   "execution_count": null,
   "metadata": {
    "colab": {
     "base_uri": "https://localhost:8080/",
     "height": 143
    },
    "id": "KuTI8fRgZI48",
    "outputId": "9e1f0f9f-c096-4792-cd50-b05bb46b6b0b"
   },
   "outputs": [
    {
     "data": {
      "text/plain": [
       "array([[0, 0, 1],\n",
       "       [0, 0, 1],\n",
       "       [0, 0, 1],\n",
       "       ...,\n",
       "       [0, 0, 1],\n",
       "       [0, 0, 1],\n",
       "       [0, 0, 1]])"
      ]
     },
     "execution_count": 38,
     "metadata": {
      "tags": []
     },
     "output_type": "execute_result"
    }
   ],
   "source": [
    "labels"
   ]
  },
  {
   "cell_type": "code",
   "execution_count": null,
   "metadata": {
    "colab": {
     "base_uri": "https://localhost:8080/",
     "height": 35
    },
    "id": "scl0OY5LeIrh",
    "outputId": "89c4cba3-1c03-4c51-b23b-f82fc83d97b7"
   },
   "outputs": [
    {
     "data": {
      "text/plain": [
       "((2090,), (1910,), (1608,))"
      ]
     },
     "execution_count": 81,
     "metadata": {
      "tags": []
     },
     "output_type": "execute_result"
    }
   ],
   "source": [
    "langs= np.argmax(labels, axis=1)\n",
    "langs[langs==0].shape, langs[langs==1].shape, langs[langs==2].shape, "
   ]
  },
  {
   "cell_type": "code",
   "execution_count": null,
   "metadata": {
    "colab": {
     "base_uri": "https://localhost:8080/",
     "height": 35
    },
    "id": "fNYVpZDKeRwY",
    "outputId": "041107bc-2a7c-4bbe-a1d0-9f666acd5940"
   },
   "outputs": [
    {
     "data": {
      "text/plain": [
       "(5608,)"
      ]
     },
     "execution_count": 82,
     "metadata": {
      "tags": []
     },
     "output_type": "execute_result"
    }
   ],
   "source": [
    "langs.shape"
   ]
  },
  {
   "cell_type": "code",
   "execution_count": null,
   "metadata": {
    "id": "0OQ5JPiOjKVu"
   },
   "outputs": [],
   "source": []
  }
 ],
 "metadata": {
  "accelerator": "GPU",
  "colab": {
   "collapsed_sections": [],
   "name": "lang-detection.ipynb",
   "provenance": []
  },
  "kernelspec": {
   "display_name": "Python 3",
   "language": "python",
   "name": "python3"
  },
  "language_info": {
   "codemirror_mode": {
    "name": "ipython",
    "version": 3
   },
   "file_extension": ".py",
   "mimetype": "text/x-python",
   "name": "python",
   "nbconvert_exporter": "python",
   "pygments_lexer": "ipython3",
   "version": "3.8.5"
  }
 },
 "nbformat": 4,
 "nbformat_minor": 1
}
