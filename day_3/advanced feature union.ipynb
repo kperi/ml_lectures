{
 "cells": [
  {
   "cell_type": "code",
   "execution_count": 28,
   "metadata": {},
   "outputs": [],
   "source": [
    "import numpy as np\n",
    "\n",
    "from sklearn.compose import ColumnTransformer\n",
    "from sklearn.pipeline import Pipeline\n",
    "from sklearn.impute import SimpleImputer\n",
    "from sklearn.preprocessing import StandardScaler, OneHotEncoder\n",
    "from sklearn.linear_model import LogisticRegression\n",
    "from sklearn.feature_extraction.text import TfidfVectorizer, CountVectorizer \n",
    "from sklearn.metrics import classification_report\n",
    "import pandas as pd\n",
    "np.random.seed(0)"
   ]
  },
  {
   "cell_type": "markdown",
   "metadata": {},
   "source": [
    "## some made and dummy data"
   ]
  },
  {
   "cell_type": "code",
   "execution_count": 29,
   "metadata": {},
   "outputs": [],
   "source": [
    "data = [\n",
    "        [\"macbook pro\", \"Apple Macbook Pro 13 με Touch Bar MWP52GR/A (2020) Space Grey Laptop (Core i5/16 GB/1 TB/Iris Plus Graphics). 2.749,00\", 2749, 100, 1, 0 ],\n",
    "        [\"Apple iPhone 11 (64GB) Black\",\"Διπλή κάμερα 12MP προσφέρουν πληθώρα δυνατοτήτων άκομα και σε συνθήκες χαμηλού φωτισμού, ενώ η selfie 12MP υποστήριζει βίντεο 4Κ και slow motion.\", 1000, 123, None, 1],\n",
    "        [\"Huawei P40 Lite (128GB) Midnight Black\",  \"Οθόνη: IPS 6.4, RAM: 6GB, Κάμερα: 48MP + 8MP + 2MP, Μπαταρία: 4200mAh\", 193, 45,1, 0],\n",
    "        [\"Huawei P40 Lite (128GB) Crush Green\", \"Χωρίς Google Mobile Services. SuperCharge 40W για επαναφόρτιση της μπαταρίας μέχρι το 70% σε 30 μόλις λεπτά αλλά και τετραπλή κάμερα ΑΙ 48M\", 200, 23, 3, 1],\n",
    "        [\"Samsung Galaxy A71 (128GB) Prism Crush Black Samsung Galaxy A71 (128GB) Prism Crush Black\",\" Τετραπλή κάμερα 64MP με ευρυγώνιο, macro και βάθους φακό. Game Booster για mobile gaming. Βίντεο 4K με λειτουργίες και φίλτρα.\", None, 250,1, 1]\n",
    "]"
   ]
  },
  {
   "cell_type": "code",
   "execution_count": 30,
   "metadata": {},
   "outputs": [
    {
     "data": {
      "text/html": [
       "<div>\n",
       "<style scoped>\n",
       "    .dataframe tbody tr th:only-of-type {\n",
       "        vertical-align: middle;\n",
       "    }\n",
       "\n",
       "    .dataframe tbody tr th {\n",
       "        vertical-align: top;\n",
       "    }\n",
       "\n",
       "    .dataframe thead th {\n",
       "        text-align: right;\n",
       "    }\n",
       "</style>\n",
       "<table border=\"1\" class=\"dataframe\">\n",
       "  <thead>\n",
       "    <tr style=\"text-align: right;\">\n",
       "      <th></th>\n",
       "      <th>product_name</th>\n",
       "      <th>descr</th>\n",
       "      <th>price</th>\n",
       "      <th>distance</th>\n",
       "      <th>cat</th>\n",
       "      <th>label</th>\n",
       "    </tr>\n",
       "  </thead>\n",
       "  <tbody>\n",
       "    <tr>\n",
       "      <th>0</th>\n",
       "      <td>macbook pro</td>\n",
       "      <td>Apple Macbook Pro 13 με Touch Bar MWP52GR/A (2...</td>\n",
       "      <td>2749.0</td>\n",
       "      <td>100</td>\n",
       "      <td>1.0</td>\n",
       "      <td>0</td>\n",
       "    </tr>\n",
       "    <tr>\n",
       "      <th>1</th>\n",
       "      <td>Apple iPhone 11 (64GB) Black</td>\n",
       "      <td>Διπλή κάμερα 12MP προσφέρουν πληθώρα δυνατοτήτ...</td>\n",
       "      <td>1000.0</td>\n",
       "      <td>123</td>\n",
       "      <td>NaN</td>\n",
       "      <td>1</td>\n",
       "    </tr>\n",
       "    <tr>\n",
       "      <th>2</th>\n",
       "      <td>Huawei P40 Lite (128GB) Midnight Black</td>\n",
       "      <td>Οθόνη: IPS 6.4, RAM: 6GB, Κάμερα: 48MP + 8MP +...</td>\n",
       "      <td>193.0</td>\n",
       "      <td>45</td>\n",
       "      <td>1.0</td>\n",
       "      <td>0</td>\n",
       "    </tr>\n",
       "    <tr>\n",
       "      <th>3</th>\n",
       "      <td>Huawei P40 Lite (128GB) Crush Green</td>\n",
       "      <td>Χωρίς Google Mobile Services. SuperCharge 40W ...</td>\n",
       "      <td>200.0</td>\n",
       "      <td>23</td>\n",
       "      <td>3.0</td>\n",
       "      <td>1</td>\n",
       "    </tr>\n",
       "    <tr>\n",
       "      <th>4</th>\n",
       "      <td>Samsung Galaxy A71 (128GB) Prism Crush Black S...</td>\n",
       "      <td>Τετραπλή κάμερα 64MP με ευρυγώνιο, macro και ...</td>\n",
       "      <td>NaN</td>\n",
       "      <td>250</td>\n",
       "      <td>1.0</td>\n",
       "      <td>1</td>\n",
       "    </tr>\n",
       "  </tbody>\n",
       "</table>\n",
       "</div>"
      ],
      "text/plain": [
       "                                        product_name  \\\n",
       "0                                        macbook pro   \n",
       "1                       Apple iPhone 11 (64GB) Black   \n",
       "2             Huawei P40 Lite (128GB) Midnight Black   \n",
       "3                Huawei P40 Lite (128GB) Crush Green   \n",
       "4  Samsung Galaxy A71 (128GB) Prism Crush Black S...   \n",
       "\n",
       "                                               descr   price  distance  cat  \\\n",
       "0  Apple Macbook Pro 13 με Touch Bar MWP52GR/A (2...  2749.0       100  1.0   \n",
       "1  Διπλή κάμερα 12MP προσφέρουν πληθώρα δυνατοτήτ...  1000.0       123  NaN   \n",
       "2  Οθόνη: IPS 6.4, RAM: 6GB, Κάμερα: 48MP + 8MP +...   193.0        45  1.0   \n",
       "3  Χωρίς Google Mobile Services. SuperCharge 40W ...   200.0        23  3.0   \n",
       "4   Τετραπλή κάμερα 64MP με ευρυγώνιο, macro και ...     NaN       250  1.0   \n",
       "\n",
       "   label  \n",
       "0      0  \n",
       "1      1  \n",
       "2      0  \n",
       "3      1  \n",
       "4      1  "
      ]
     },
     "execution_count": 30,
     "metadata": {},
     "output_type": "execute_result"
    }
   ],
   "source": [
    "df = pd.DataFrame( data = data, columns = [\"product_name\", \"descr\", \"price\", \"distance\", \"cat\", \"label\"])\n",
    "df.head()"
   ]
  },
  {
   "cell_type": "code",
   "execution_count": 31,
   "metadata": {},
   "outputs": [
    {
     "data": {
      "text/html": [
       "<div>\n",
       "<style scoped>\n",
       "    .dataframe tbody tr th:only-of-type {\n",
       "        vertical-align: middle;\n",
       "    }\n",
       "\n",
       "    .dataframe tbody tr th {\n",
       "        vertical-align: top;\n",
       "    }\n",
       "\n",
       "    .dataframe thead th {\n",
       "        text-align: right;\n",
       "    }\n",
       "</style>\n",
       "<table border=\"1\" class=\"dataframe\">\n",
       "  <thead>\n",
       "    <tr style=\"text-align: right;\">\n",
       "      <th></th>\n",
       "      <th>product_name</th>\n",
       "      <th>descr</th>\n",
       "      <th>price</th>\n",
       "      <th>distance</th>\n",
       "      <th>cat</th>\n",
       "    </tr>\n",
       "  </thead>\n",
       "  <tbody>\n",
       "    <tr>\n",
       "      <th>0</th>\n",
       "      <td>macbook pro</td>\n",
       "      <td>Apple Macbook Pro 13 με Touch Bar MWP52GR/A (2...</td>\n",
       "      <td>2749.0</td>\n",
       "      <td>100</td>\n",
       "      <td>1.0</td>\n",
       "    </tr>\n",
       "    <tr>\n",
       "      <th>1</th>\n",
       "      <td>Apple iPhone 11 (64GB) Black</td>\n",
       "      <td>Διπλή κάμερα 12MP προσφέρουν πληθώρα δυνατοτήτ...</td>\n",
       "      <td>1000.0</td>\n",
       "      <td>123</td>\n",
       "      <td>NaN</td>\n",
       "    </tr>\n",
       "    <tr>\n",
       "      <th>2</th>\n",
       "      <td>Huawei P40 Lite (128GB) Midnight Black</td>\n",
       "      <td>Οθόνη: IPS 6.4, RAM: 6GB, Κάμερα: 48MP + 8MP +...</td>\n",
       "      <td>193.0</td>\n",
       "      <td>45</td>\n",
       "      <td>1.0</td>\n",
       "    </tr>\n",
       "    <tr>\n",
       "      <th>3</th>\n",
       "      <td>Huawei P40 Lite (128GB) Crush Green</td>\n",
       "      <td>Χωρίς Google Mobile Services. SuperCharge 40W ...</td>\n",
       "      <td>200.0</td>\n",
       "      <td>23</td>\n",
       "      <td>3.0</td>\n",
       "    </tr>\n",
       "    <tr>\n",
       "      <th>4</th>\n",
       "      <td>Samsung Galaxy A71 (128GB) Prism Crush Black S...</td>\n",
       "      <td>Τετραπλή κάμερα 64MP με ευρυγώνιο, macro και ...</td>\n",
       "      <td>NaN</td>\n",
       "      <td>250</td>\n",
       "      <td>1.0</td>\n",
       "    </tr>\n",
       "  </tbody>\n",
       "</table>\n",
       "</div>"
      ],
      "text/plain": [
       "                                        product_name  \\\n",
       "0                                        macbook pro   \n",
       "1                       Apple iPhone 11 (64GB) Black   \n",
       "2             Huawei P40 Lite (128GB) Midnight Black   \n",
       "3                Huawei P40 Lite (128GB) Crush Green   \n",
       "4  Samsung Galaxy A71 (128GB) Prism Crush Black S...   \n",
       "\n",
       "                                               descr   price  distance  cat  \n",
       "0  Apple Macbook Pro 13 με Touch Bar MWP52GR/A (2...  2749.0       100  1.0  \n",
       "1  Διπλή κάμερα 12MP προσφέρουν πληθώρα δυνατοτήτ...  1000.0       123  NaN  \n",
       "2  Οθόνη: IPS 6.4, RAM: 6GB, Κάμερα: 48MP + 8MP +...   193.0        45  1.0  \n",
       "3  Χωρίς Google Mobile Services. SuperCharge 40W ...   200.0        23  3.0  \n",
       "4   Τετραπλή κάμερα 64MP με ευρυγώνιο, macro και ...     NaN       250  1.0  "
      ]
     },
     "execution_count": 31,
     "metadata": {},
     "output_type": "execute_result"
    }
   ],
   "source": [
    "labels = df.label.copy()\n",
    "\n",
    "df.drop( axis=1, columns=[\"label\"],inplace=True)\n",
    "\n",
    "df.head()"
   ]
  },
  {
   "cell_type": "code",
   "execution_count": 19,
   "metadata": {},
   "outputs": [],
   "source": [
    "numeric_features = ['price', 'distance']\n",
    "numeric_transformer = Pipeline(steps=[\n",
    "    ('imputer', SimpleImputer(strategy='median')),\n",
    "    ('scaler', StandardScaler())\n",
    "])\n",
    "\n",
    "\n",
    "\n",
    "categorical_features = ['cat']  \n",
    "categorical_transformer = Pipeline(steps=[\n",
    "    ('imputer', SimpleImputer(strategy='constant', fill_value=-1)),\n",
    "    ('onehot', OneHotEncoder(handle_unknown='ignore'))\n",
    "])\n",
    "\n",
    "\n",
    "text_transformer_1 = Pipeline( steps=[\n",
    "    ('pcountvectorizer', CountVectorizer()),\n",
    "])\n",
    "\n",
    "\n",
    "text_transformer_2 = Pipeline( steps=[\n",
    "                    \n",
    "    ('desctfidf', TfidfVectorizer()),\n",
    "])\n",
    "\n",
    "preprocessor = ColumnTransformer(\n",
    "    transformers=[\n",
    "        ('num', numeric_transformer, numeric_features),\n",
    "        ('cat', categorical_transformer, categorical_features),\n",
    "        ('textvec1', text_transformer_1, \"product_name\"),\n",
    "        ('textvec2', text_transformer_2, \"descr\")\n",
    "    ])\n"
   ]
  },
  {
   "cell_type": "code",
   "execution_count": 20,
   "metadata": {},
   "outputs": [],
   "source": [
    "## this is the feature transformation pipeline"
   ]
  },
  {
   "cell_type": "code",
   "execution_count": 21,
   "metadata": {},
   "outputs": [
    {
     "data": {
      "text/plain": [
       "{'num': Pipeline(steps=[('imputer', SimpleImputer(strategy='median')),\n",
       "                 ('scaler', StandardScaler())]),\n",
       " 'cat': Pipeline(steps=[('imputer', SimpleImputer(fill_value=-1, strategy='constant')),\n",
       "                 ('onehot', OneHotEncoder(handle_unknown='ignore'))]),\n",
       " 'textvec1': Pipeline(steps=[('pcountvectorizer', CountVectorizer())]),\n",
       " 'textvec2': Pipeline(steps=[('desctfidf', TfidfVectorizer())])}"
      ]
     },
     "execution_count": 21,
     "metadata": {},
     "output_type": "execute_result"
    }
   ],
   "source": [
    "ret = preprocessor.fit_transform(df)\n",
    "preprocessor.named_transformers_"
   ]
  },
  {
   "cell_type": "code",
   "execution_count": 22,
   "metadata": {},
   "outputs": [
    {
     "data": {
      "text/plain": [
       "(5, 104)"
      ]
     },
     "execution_count": 22,
     "metadata": {},
     "output_type": "execute_result"
    }
   ],
   "source": [
    "ret = preprocessor.fit_transform(df)\n",
    "mat = ret.todense()\n",
    "mat.shape"
   ]
  },
  {
   "cell_type": "code",
   "execution_count": 24,
   "metadata": {},
   "outputs": [],
   "source": [
    "# combine the feature engineering pipeline with a classifier"
   ]
  },
  {
   "cell_type": "code",
   "execution_count": 25,
   "metadata": {},
   "outputs": [
    {
     "name": "stdout",
     "output_type": "stream",
     "text": [
      "model score: 1.000\n"
     ]
    }
   ],
   "source": [
    "clf = Pipeline(steps=[('preprocessor', preprocessor),\n",
    "                      ('classifier', LogisticRegression())])\n",
    "\n",
    "clf.fit(df, labels)\n",
    "print(\"model score: %.3f\" % clf.score(df, labels))"
   ]
  },
  {
   "cell_type": "code",
   "execution_count": 26,
   "metadata": {},
   "outputs": [
    {
     "name": "stdout",
     "output_type": "stream",
     "text": [
      "Classification report:\n",
      "\n",
      "              precision    recall  f1-score   support\n",
      "\n",
      "           0       1.00      1.00      1.00         2\n",
      "           1       1.00      1.00      1.00         3\n",
      "\n",
      "    accuracy                           1.00         5\n",
      "   macro avg       1.00      1.00      1.00         5\n",
      "weighted avg       1.00      1.00      1.00         5\n",
      "\n"
     ]
    }
   ],
   "source": [
    "y_pred = clf.predict(df)\n",
    "print('Classification report:\\n\\n{}'.format(\n",
    "    classification_report(y_pred, labels))\n",
    ")"
   ]
  },
  {
   "cell_type": "code",
   "execution_count": null,
   "metadata": {},
   "outputs": [],
   "source": []
  },
  {
   "cell_type": "code",
   "execution_count": null,
   "metadata": {},
   "outputs": [],
   "source": []
  },
  {
   "cell_type": "code",
   "execution_count": null,
   "metadata": {},
   "outputs": [],
   "source": []
  }
 ],
 "metadata": {
  "kernelspec": {
   "display_name": "Python 3",
   "language": "python",
   "name": "python3"
  },
  "language_info": {
   "codemirror_mode": {
    "name": "ipython",
    "version": 3
   },
   "file_extension": ".py",
   "mimetype": "text/x-python",
   "name": "python",
   "nbconvert_exporter": "python",
   "pygments_lexer": "ipython3",
   "version": "3.8.5"
  }
 },
 "nbformat": 4,
 "nbformat_minor": 4
}
