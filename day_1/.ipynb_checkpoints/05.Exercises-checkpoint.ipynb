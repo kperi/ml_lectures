{
 "cells": [
  {
   "cell_type": "markdown",
   "metadata": {},
   "source": [
    "# Exercises\n"
   ]
  },
  {
   "cell_type": "markdown",
   "metadata": {},
   "source": [
    "## Python"
   ]
  },
  {
   "cell_type": "markdown",
   "metadata": {},
   "source": [
    "### Write a recursive function to calculate Fibonacci numbers\n",
    "    \n",
    " \n",
    "eg write a function that will calculate $f(n) = f(n-1) + f(n-2), f(0)=1, f(1)=2$ \n",
    "\n",
    "\n",
    "    "
   ]
  },
  {
   "cell_type": "code",
   "execution_count": 28,
   "metadata": {},
   "outputs": [
    {
     "name": "stdout",
     "output_type": "stream",
     "text": [
      "1\n",
      "2\n",
      "3\n",
      "5\n",
      "8\n",
      "13\n",
      "21\n",
      "34\n"
     ]
    }
   ],
   "source": [
    "def fib(n):\n",
    "    if n==0:\n",
    "        return 1\n",
    "    if n == 1:\n",
    "        return 2\n",
    "    else:\n",
    "        return fib(n-1) + fib(n-2)\n",
    "    \n",
    "for i in range(8):\n",
    "    print(fib(i))"
   ]
  },
  {
   "cell_type": "markdown",
   "metadata": {},
   "source": [
    "### Write a non-recursive function to calculate Fibonacci numbers\n",
    "    \n",
    " "
   ]
  },
  {
   "cell_type": "code",
   "execution_count": 30,
   "metadata": {},
   "outputs": [
    {
     "name": "stdout",
     "output_type": "stream",
     "text": [
      "1\n",
      "2\n",
      "3\n",
      "5\n",
      "8\n",
      "13\n",
      "21\n",
      "34\n"
     ]
    }
   ],
   "source": [
    "def fib2(n):\n",
    "    \n",
    "    counter = 0\n",
    "\n",
    "    first = 0\n",
    "    second = 1\n",
    "    temp = 0\n",
    "\n",
    "    while counter <= n:\n",
    "        temp = first + second\n",
    "        first = second\n",
    "        second = temp\n",
    "        counter = counter + 1\n",
    "    return temp\n",
    "\n",
    "for i in range(8):\n",
    "    print( fib2(i))"
   ]
  },
  {
   "cell_type": "markdown",
   "metadata": {},
   "source": [
    "## Define and plot the following functions \n",
    "\n",
    "\n",
    "$$ f(x) = x^2, x \\in [-10,10] $$\n",
    "\n",
    "$$ f(p) = - plog_2(p) - (1-p)log_2(1-p), x \\in (0,1) $$\n",
    "\n",
    "\n",
    "Is there something wrong? How can we fix it?\n"
   ]
  },
  {
   "cell_type": "code",
   "execution_count": 35,
   "metadata": {},
   "outputs": [
    {
     "data": {
      "image/png": "[encoded data removed]",
      "text/plain": [
       "<Figure size 432x288 with 1 Axes>"
      ]
     },
     "metadata": {
      "needs_background": "light"
     },
     "output_type": "display_data"
    }
   ],
   "source": [
    "import numpy as np\n",
    "import matplotlib.pyplot as plt\n",
    "%matplotlib inline \n",
    "\n",
    "def sq(x):\n",
    "    return x*x\n",
    "\n",
    "\n",
    "eps = 0 #1e-7\n",
    "X = np.linspace( -10, 10)\n",
    "Y = sq(X)\n",
    "\n",
    "plt.plot( X, Y )\n",
    "plt.show()"
   ]
  },
  {
   "cell_type": "code",
   "execution_count": 31,
   "metadata": {},
   "outputs": [
    {
     "name": "stderr",
     "output_type": "stream",
     "text": [
      "<ipython-input-31-3c454f08e07c>:10: RuntimeWarning: divide by zero encountered in log\n",
      "  return -p*np.log(p) - (1-p)*np.log(1-p)\n",
      "<ipython-input-31-3c454f08e07c>:10: RuntimeWarning: invalid value encountered in multiply\n",
      "  return -p*np.log(p) - (1-p)*np.log(1-p)\n"
     ]
    },
    {
     "data": {
      "image/png": "[encoded data removed]",
      "text/plain": [
       "<Figure size 432x288 with 1 Axes>"
      ]
     },
     "metadata": {
      "needs_background": "light"
     },
     "output_type": "display_data"
    }
   ],
   "source": [
    "import numpy as np\n",
    "import matplotlib.pyplot as plt\n",
    "%matplotlib inline \n",
    "\n",
    "def sigmoid(x):\n",
    "    return 1/(1+np.exp(-x))\n",
    "\n",
    "\n",
    "def ll(p):\n",
    "    return -p*np.log(p) - (1-p)*np.log(1-p)\n",
    "\n",
    "\n",
    "eps = 0 #1e-7\n",
    "X = np.linspace( 0+eps, 1-eps)\n",
    "Y = ll(X)\n",
    "\n",
    "plt.plot( X, Y )\n",
    "plt.show()"
   ]
  },
  {
   "cell_type": "code",
   "execution_count": null,
   "metadata": {},
   "outputs": [],
   "source": []
  }
 ],
 "metadata": {
  "kernelspec": {
   "display_name": "Python 3",
   "language": "python",
   "name": "python3"
  },
  "language_info": {
   "codemirror_mode": {
    "name": "ipython",
    "version": 3
   },
   "file_extension": ".py",
   "mimetype": "text/x-python",
   "name": "python",
   "nbconvert_exporter": "python",
   "pygments_lexer": "ipython3",
   "version": "3.8.5"
  }
 },
 "nbformat": 4,
 "nbformat_minor": 4
}
