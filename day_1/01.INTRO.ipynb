{
 "cells": [
  {
   "cell_type": "markdown",
   "metadata": {},
   "source": [
    "# Machine Learning - An introduction\n",
    "\n",
    "\n",
    "## Structure of  the class  \n",
    "___\n",
    "\n",
    "### Part I: Machine Learning\n",
    "  - Basics & Theory\n",
    "    - What's this all about?\n",
    "    - Supervised, Unsupervised Learning\n",
    "    - Classification, Regression, Clustering\n",
    "  - Python Basics for Data Science / ML\n",
    "    - numpy, scipy\n",
    "    - scikit learn\n",
    "    - pytorch\n",
    "  - Hands-on examples\n",
    "    - Classification\n",
    "        * Churn prediction\n",
    "        * Digit classification\n",
    "    - Regression example\n",
    "        * Estimating House Prices\n",
    "    - Clustering\n",
    "        - kmeans document clustering\n",
    "\n",
    "\n",
    "  - What is Machine Learning anyway?\n",
    "  - Some examples\n"
   ]
  },
  {
   "cell_type": "markdown",
   "metadata": {},
   "source": [
    "# Machine Learning\n",
    "\n",
    "\n",
    "A (very informal) definition: Build machines that learn through examples (data) and generalize to unseen data\n",
    "\n",
    "\n",
    "Examples we are all using in a daily basis:\n",
    "\n",
    "      - Car plate detection systems\n",
    "      - spam email classifier  \n",
    "      - voice recognition in smartphones\n",
    "      - face recognition @ facebook \n",
    "      - amazon recomendations  \n",
    "      \n",
    "\n",
    "Aim of this series is to build the foundations and principles to be able to implement some of this systems from scratch. \n",
    "\n",
    "\n",
    "### Introduction and definitions \n",
    "\n",
    "\n",
    "\n",
    "#### Supervised Learning\n",
    "   \n",
    "    Here, the data comes with (a fixed number of) labels  \n",
    "    \n",
    "      \n",
    "      - a dataset of emails and for every email a flag if it is spam or not spam \n",
    "      - photos of animals, where for each photo we have a label if it is a cat or a dog (assume for a moment there is only one animal per photo) \n",
    "      - fraud detection: a dataset with valid and fraudulent transation examples\n",
    "      \n",
    "#### Unsupervised Learning\n",
    "    \n",
    "     In the unsupervised learning case, data comes without labels \n",
    "     \n",
    "     - a collection of documents\n",
    "     - a collection of photographs\n",
    "     - timeseries data\n",
    "   \n",
    "   \n",
    "   \n",
    "   \n",
    "#### Regression (Παλλινδρόμηση)\n",
    "\n",
    "      In regression, the outcome we are trying to predict is or can be thought as real number (for example house prices, demand etc)    \n",
    "\n",
    "#### Classification (Ταξινόμηση)\n",
    "    \n",
    "    In classification the target variable is one of many categories. For example (cat, dog, bird), (spam, non-spam), (fraud, non-fraud)"
   ]
  },
  {
   "cell_type": "markdown",
   "metadata": {},
   "source": [
    "#### Classification \n",
    "\n",
    "The repeating pattern in supervised learing is that data comes with labels and we wish to build a system to be able to predict the label given a new data example. For example, if we are building a pet detection system, we would like the system to answer that this is a photo of a cat with very high accuracy, eg predict the class of of the new image to be cat and not dog or bird.\n",
    "\n",
    "\n",
    "<b><span style=\"color:red\">WARNING: MATHS AHEAD</span></b>\n",
    "\n",
    "Without being too formal, we would like to learn from the data a function $f(x) \\to D $, where $x \\in X$ is the data and D the set of the labels to be predicted.\n",
    "\n",
    "This function must have the property to be able to produce correct results in new, unseen data. That is, if we take a photo of a random cat somewhere in the world and we feed this cat in to our system, the system should be able to respond that this is a cat although it has never seen this cat before. We call this fuction property \"Gereralisation\" and is the most important aspect of machine learning systems: to be able to perform well in unseen data.\n",
    "\n",
    "\n",
    "Given the above, we need the following ingredients to build a machine learning system\n",
    "- The function we are going to be using to model our data (usually called hypothesis) \n",
    "- A way to measure how \"wrong\" is this function and a configuration of its parameters, given our data\n",
    "- A way to train this function, eg to modify the parameters in such a way that the error is minimised \n",
    "- A way to test this function to new, unseen data and make a claim of how well we expect this function to behave in unseen data. \n",
    "\n",
    "Similarly, for the regression part, instead of trying to predict a label we now try to predict a real value number. \n",
    "\n",
    "Again we need a hypothesis, a loss function, a way to tune the hypothesis and a way to see how well we are generalizing to unseen data.\n",
    "\n",
    "\n",
    "Let's see that in practice. \n",
    "\n",
    "\n",
    "#### Linear Regression\n",
    "\n",
    "One of  the simplest parametric models in statistics and machine learning is Linear Regression. \n",
    "\n",
    "Linear Regression tries to find a best straight line to fit the data. \n",
    "\n",
    "\n",
    "##### Linear Regression Example\n",
    "\n",
    "![alt text](./images/lr.png \"Linear Regression Example\")\n",
    "\n",
    "\n",
    "\n",
    "We are given a data set D of values  $\\{ (x_i,y_i) \\}$ and our hypothesis is that there is a straight line \n",
    "$y = h(x) = w_0 + w_1 * x$ that fits the data. \n",
    "\n",
    "We are now asked to find the \"best\" weights w that fit our data.\n",
    "\n",
    "A typicall way to define \"best\" is to try to minimize the square difference between our targets y and what the model predicts, $\\hat{y} = f(x)$,  eg minimize the total loss \n",
    "\n",
    "$$ L = \\sum_i{  ( y_i - \\hat{y_i})^2 } = \\sum_i{  ( y_i - \\ w_0 + w_1*x_i )^2 }$$ \n",
    "\n",
    "There a few ways to do that, either look for a closed form analytic expression or use an optimisation algorithm such as gradient descent. \n"
   ]
  },
  {
   "cell_type": "code",
   "execution_count": 6,
   "metadata": {},
   "outputs": [
    {
     "name": "stdout",
     "output_type": "stream",
     "text": [
      "lr.png\r\n"
     ]
    }
   ],
   "source": [
    "!ls ./images"
   ]
  },
  {
   "cell_type": "markdown",
   "metadata": {},
   "source": [
    "# Python & libraries\n",
    "\n",
    "\n",
    "Most of the state of the art ML stacks are python-based. There are several reasons for that but the most important is the high expressiveness of the language. \n",
    "\n"
   ]
  },
  {
   "cell_type": "markdown",
   "metadata": {},
   "source": [
    "## Build-in functions\n",
    "Python by default has a number of build-in functions: print, max, type, \n"
   ]
  },
  {
   "cell_type": "code",
   "execution_count": 11,
   "metadata": {},
   "outputs": [
    {
     "name": "stdout",
     "output_type": "stream",
     "text": [
      "test\n"
     ]
    }
   ],
   "source": [
    "print(\"test\")"
   ]
  },
  {
   "cell_type": "code",
   "execution_count": 12,
   "metadata": {},
   "outputs": [
    {
     "data": {
      "text/plain": [
       "str"
      ]
     },
     "execution_count": 12,
     "metadata": {},
     "output_type": "execute_result"
    }
   ],
   "source": [
    "type(\"test\")"
   ]
  },
  {
   "cell_type": "code",
   "execution_count": 13,
   "metadata": {},
   "outputs": [
    {
     "data": {
      "text/plain": [
       "5"
      ]
     },
     "execution_count": 13,
     "metadata": {},
     "output_type": "execute_result"
    }
   ],
   "source": [
    "max( 3,4,5,1)"
   ]
  },
  {
   "cell_type": "markdown",
   "metadata": {},
   "source": [
    "## Basic Data types"
   ]
  },
  {
   "cell_type": "code",
   "execution_count": 15,
   "metadata": {},
   "outputs": [
    {
     "data": {
      "text/plain": [
       "int"
      ]
     },
     "execution_count": 15,
     "metadata": {},
     "output_type": "execute_result"
    }
   ],
   "source": [
    "i  =1 \n",
    "type(i)"
   ]
  },
  {
   "cell_type": "code",
   "execution_count": 16,
   "metadata": {},
   "outputs": [
    {
     "data": {
      "text/plain": [
       "float"
      ]
     },
     "execution_count": 16,
     "metadata": {},
     "output_type": "execute_result"
    }
   ],
   "source": [
    "d = 0.3\n",
    "type(d)"
   ]
  },
  {
   "cell_type": "code",
   "execution_count": 17,
   "metadata": {},
   "outputs": [
    {
     "data": {
      "text/plain": [
       "str"
      ]
     },
     "execution_count": 17,
     "metadata": {},
     "output_type": "execute_result"
    }
   ],
   "source": [
    "text = \"this is a string\"\n",
    "type(text)"
   ]
  },
  {
   "cell_type": "markdown",
   "metadata": {},
   "source": [
    "## Basic Data Structures"
   ]
  },
  {
   "cell_type": "code",
   "execution_count": 19,
   "metadata": {},
   "outputs": [
    {
     "data": {
      "text/plain": [
       "list"
      ]
     },
     "execution_count": 19,
     "metadata": {},
     "output_type": "execute_result"
    }
   ],
   "source": [
    "l = [1, 2, 3, 4 ]\n",
    "type(l)"
   ]
  },
  {
   "cell_type": "code",
   "execution_count": 17,
   "metadata": {},
   "outputs": [
    {
     "data": {
      "text/plain": [
       "(1, None)"
      ]
     },
     "execution_count": 17,
     "metadata": {},
     "output_type": "execute_result"
    }
   ],
   "source": [
    "d = { \"a\": 1, \n",
    "      \"b\": 2,\n",
    "    }\n",
    "type(d)\n",
    "d[\"a\"], d.get(\"A\")"
   ]
  },
  {
   "cell_type": "code",
   "execution_count": 14,
   "metadata": {},
   "outputs": [
    {
     "data": {
      "text/plain": [
       "(True, False)"
      ]
     },
     "execution_count": 14,
     "metadata": {},
     "output_type": "execute_result"
    }
   ],
   "source": [
    "a = {1, 2}\n",
    "type(a) \n",
    "1 in a, 3 in a "
   ]
  },
  {
   "cell_type": "markdown",
   "metadata": {},
   "source": [
    "## importing packages"
   ]
  },
  {
   "cell_type": "code",
   "execution_count": 23,
   "metadata": {},
   "outputs": [
    {
     "name": "stdout",
     "output_type": "stream",
     "text": [
      "3.1622776601683795\n"
     ]
    }
   ],
   "source": [
    "import math\n",
    "print( math.sqrt(10))"
   ]
  },
  {
   "cell_type": "markdown",
   "metadata": {},
   "source": [
    "The python ecosystem is super rich: We can find libraries for pretty much anything we like.\n",
    "Typically, the Data Science set consists of a set of wildly adopted libraries for data processing, linear algebra, scientific computing etc. \n"
   ]
  },
  {
   "cell_type": "code",
   "execution_count": 27,
   "metadata": {},
   "outputs": [
    {
     "data": {
      "text/plain": [
       "array([[ 1.06961965, -0.01718427, -0.31092343, -0.25623881, -0.16897694,\n",
       "         0.38263021, -0.54922722,  0.16550105, -0.5555095 , -1.32079901],\n",
       "       [ 0.82652078, -0.66949556, -0.91897743,  1.64098086, -0.67009731,\n",
       "        -0.89543717, -0.7810434 ,  1.19158959,  1.32941825, -1.69378422],\n",
       "       [ 1.66409208,  0.82858088, -0.72284334, -3.03137515, -0.72785845,\n",
       "        -1.92513859, -0.40429778, -2.48304637,  1.57185654,  0.63986022],\n",
       "       [ 0.86703596, -0.25284487, -0.83240088,  1.98792819,  0.40177488,\n",
       "         0.2709155 , -0.43810125,  1.9159267 , -0.03900944, -0.54842681],\n",
       "       [ 0.00495438,  0.40650785,  0.33682255,  0.22093528,  1.95971636,\n",
       "         0.19618212, -0.43602122,  1.13467653,  1.53770081,  1.44022592],\n",
       "       [-0.78506845, -0.04177141,  0.53483787,  1.43017555, -0.31305419,\n",
       "        -1.27595963, -1.12651079, -0.46874791, -1.08536199,  0.72346403],\n",
       "       [-0.27987282,  0.24706891, -0.40950309, -1.52316642, -1.60114369,\n",
       "         0.29199042,  0.99566715,  0.08294286, -0.63888697, -1.00720379],\n",
       "       [ 0.74229487,  0.62705138, -0.66314434, -0.43401239, -0.40788487,\n",
       "        -0.01018262, -0.4844906 , -0.59846333,  0.82738288,  0.85666918],\n",
       "       [-1.0327403 , -0.31336836,  0.12809164,  0.7376787 , -0.47272593,\n",
       "         1.36369989, -1.08723502, -0.10802984,  0.75295915, -1.8326958 ],\n",
       "       [-0.38075485, -0.34257571,  1.35724399, -1.4756982 ,  0.67283137,\n",
       "         0.50956161, -0.29153244, -0.35207291, -1.24418916,  0.56741488]])"
      ]
     },
     "execution_count": 27,
     "metadata": {},
     "output_type": "execute_result"
    }
   ],
   "source": [
    "import numpy as np\n",
    "nums = np.random.randn( 10,10 )\n",
    "nums"
   ]
  },
  {
   "cell_type": "markdown",
   "metadata": {},
   "source": [
    "## loops \n",
    "\n",
    "\n"
   ]
  },
  {
   "cell_type": "code",
   "execution_count": 31,
   "metadata": {},
   "outputs": [
    {
     "name": "stdout",
     "output_type": "stream",
     "text": [
      "0\n",
      "1\n",
      "2\n",
      "3\n"
     ]
    }
   ],
   "source": [
    "for i in range(4):\n",
    "    print(i)"
   ]
  },
  {
   "cell_type": "code",
   "execution_count": 32,
   "metadata": {},
   "outputs": [
    {
     "name": "stdout",
     "output_type": "stream",
     "text": [
      "5\n",
      "6\n",
      "7\n"
     ]
    }
   ],
   "source": [
    "for i in range(5,8):\n",
    "    print(i)"
   ]
  },
  {
   "cell_type": "code",
   "execution_count": 34,
   "metadata": {},
   "outputs": [
    {
     "name": "stdout",
     "output_type": "stream",
     "text": [
      "0\n",
      "2\n",
      "4\n",
      "6\n",
      "8\n"
     ]
    }
   ],
   "source": [
    "for i in range(0,10,2):\n",
    "    print(i)"
   ]
  },
  {
   "cell_type": "code",
   "execution_count": 37,
   "metadata": {},
   "outputs": [
    {
     "name": "stdout",
     "output_type": "stream",
     "text": [
      "1\n",
      "2\n",
      "3\n",
      "4\n",
      "5\n"
     ]
    }
   ],
   "source": [
    "L  = [1,2,3,4,5]\n",
    "for i in L:\n",
    "    print(i)"
   ]
  },
  {
   "cell_type": "code",
   "execution_count": 38,
   "metadata": {},
   "outputs": [
    {
     "name": "stdout",
     "output_type": "stream",
     "text": [
      "index 0 has value 1\n",
      "index 1 has value 2\n",
      "index 2 has value 3\n",
      "index 3 has value 4\n",
      "index 4 has value 5\n"
     ]
    }
   ],
   "source": [
    "L  = [1,2,3,4,5]\n",
    "for idx,elem in enumerate(L):\n",
    "    print(f\"index {idx} has value {elem}\")"
   ]
  },
  {
   "cell_type": "markdown",
   "metadata": {},
   "source": [
    "## List comprehensions and a touch of functional programming"
   ]
  },
  {
   "cell_type": "code",
   "execution_count": 41,
   "metadata": {},
   "outputs": [
    {
     "data": {
      "text/plain": [
       "[1, 4, 9, 25]"
      ]
     },
     "execution_count": 41,
     "metadata": {},
     "output_type": "execute_result"
    }
   ],
   "source": [
    "L = [1,2,3,5]\n",
    "\n",
    "L2 = []\n",
    "for i in L:\n",
    "    L2.append( i**2 )\n",
    "L2"
   ]
  },
  {
   "cell_type": "code",
   "execution_count": 44,
   "metadata": {},
   "outputs": [
    {
     "data": {
      "text/plain": [
       "[1, 4, 9, 25]"
      ]
     },
     "execution_count": 44,
     "metadata": {},
     "output_type": "execute_result"
    }
   ],
   "source": [
    "L3 = [ i**2 for i in L]\n",
    "L3"
   ]
  },
  {
   "cell_type": "code",
   "execution_count": 48,
   "metadata": {},
   "outputs": [
    {
     "data": {
      "text/plain": [
       "[1, 4, 9, 25]"
      ]
     },
     "execution_count": 48,
     "metadata": {},
     "output_type": "execute_result"
    }
   ],
   "source": [
    "L4 = map( lambda x: x**2, L)\n",
    "L4 = list( L4 )\n",
    "L4"
   ]
  },
  {
   "cell_type": "markdown",
   "metadata": {},
   "source": [
    "## numpy \n",
    "\n",
    "NumPy is a library for the Python programming language, adding support for large, multi-dimensional arrays and matrices, along with a large collection of high-level mathematical functions to operate on these arrays"
   ]
  },
  {
   "cell_type": "code",
   "execution_count": 2,
   "metadata": {},
   "outputs": [],
   "source": [
    "import numpy as np"
   ]
  },
  {
   "cell_type": "markdown",
   "metadata": {},
   "source": [
    "### vector operations"
   ]
  },
  {
   "cell_type": "code",
   "execution_count": 6,
   "metadata": {},
   "outputs": [
    {
     "data": {
      "text/plain": [
       "(array([1., 1., 1., 1., 1., 1., 1., 1., 1., 1.]),\n",
       " array([1., 1., 1., 1., 1., 1., 1., 1., 1., 1.]))"
      ]
     },
     "execution_count": 6,
     "metadata": {},
     "output_type": "execute_result"
    }
   ],
   "source": [
    "x = np.ones( 10)\n",
    "y = np.ones( 10)"
   ]
  },
  {
   "cell_type": "markdown",
   "metadata": {},
   "source": [
    "## dot product\n",
    "\n",
    "The dot (inner) product is a crusial operation in Machine Learning as it used to quantify vector similarity\n",
    "\n",
    "$ <x,y> = \\sum{x_i \\cdot y_i} $"
   ]
  },
  {
   "cell_type": "code",
   "execution_count": 10,
   "metadata": {},
   "outputs": [
    {
     "data": {
      "text/plain": [
       "10.0"
      ]
     },
     "execution_count": 10,
     "metadata": {},
     "output_type": "execute_result"
    }
   ],
   "source": [
    "x.dot(y)"
   ]
  },
  {
   "cell_type": "markdown",
   "metadata": {},
   "source": [
    "### cosine similarity \n",
    "\n",
    "Generally, when we need to compare vectors their length is not important. Rather, we are mostly interested in vectors that have the same direction. A standard way to quantify similarity of vectors then is their angle: the smaller the angle the most similar the vectos are. If the angle is zero, the vectors are \"identical\" since they are pointing to the same direction.\n",
    "\n",
    "Casting this to a similarity measure is typically done by using the cosine of the angle between the two vectors. \n",
    "\n",
    "\n",
    "the cosine of two vectors is their dot product, normalized by the vector lengths:\n",
    "\n",
    "$$ cos( u , v ) = \\frac{ < u , v > } { ||u|| ||v|| }  =  \\frac{ u^T v }{ ||u|| ||v|| }  $$ \n"
   ]
  },
  {
   "cell_type": "code",
   "execution_count": 22,
   "metadata": {},
   "outputs": [
    {
     "name": "stdout",
     "output_type": "stream",
     "text": [
      "/Users/kostas/code/projects/mylectures/oteacademy/day1\r\n"
     ]
    }
   ],
   "source": [
    "!pwd"
   ]
  },
  {
   "cell_type": "code",
   "execution_count": null,
   "metadata": {},
   "outputs": [],
   "source": []
  }
 ],
 "metadata": {
  "kernelspec": {
   "display_name": "Python 3",
   "language": "python",
   "name": "python3"
  },
  "language_info": {
   "codemirror_mode": {
    "name": "ipython",
    "version": 3
   },
   "file_extension": ".py",
   "mimetype": "text/x-python",
   "name": "python",
   "nbconvert_exporter": "python",
   "pygments_lexer": "ipython3",
   "version": "3.8.5"
  }
 },
 "nbformat": 4,
 "nbformat_minor": 4
}
