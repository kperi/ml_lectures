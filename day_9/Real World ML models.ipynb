{
 "cells": [
  {
   "cell_type": "markdown",
   "metadata": {},
   "source": [
    "## Real-world ML models"
   ]
  },
  {
   "cell_type": "markdown",
   "metadata": {},
   "source": [
    "Machine Learning and datas science applications in industrial settings \n",
    "are operating in a significantly different context than in academia. \n",
    "\n",
    "The standard waterfall-like methodology is not suitable for ML & DS problem and thus, a more flexible approach is required. \n",
    "\n"
   ]
  },
  {
   "cell_type": "markdown",
   "metadata": {},
   "source": [
    "### Context of Industrial Machine Learning Products\n",
    "\n",
    "The context of the business problem can be described by four major factors: goal, solution, timeframe and resources. \n",
    "\n",
    "In machine learning research, the goal is to beat the SOTA (State-Of-The-Art) performance to show that a single novel approach is better than previous ones and eventually get published. The timeframe of the problem is limited by the publication date. Available resources are also limited because SOTA only needs to be beaten by a small margin, the solution is limited to a single technique and the time limit doesn’t mandate infrastructure investment or long term maintenance costs.  \n",
    "\n",
    "\n",
    "\n",
    "The opposite happens in the industry where the goal is to reach a **minimum target performance** for a particular business problem that makes the whole solution feasible. \n",
    "\n",
    "\n",
    "This eventually successful product requires ongoing maintenance after deployment, which requires budgeted ongoing costs and an infrastructure the whole product is built on. \n",
    "\n",
    "Industrial Machine Learning projects often fail for confusing the two cases above and not committing enough to the second one, attempting the first one and fail when the difficulties stemming from the differences between the two halt progress."
   ]
  },
  {
   "cell_type": "markdown",
   "metadata": {},
   "source": [
    "###  How to select ML projects that you can commit to?\n",
    "\n",
    "A good problem for Machine Learning has certain features that make it valuable to be solved, so the company is willing to commit to the process of solving it. \n",
    "\n",
    "It involves lots of manual labour, especially lots of micro-decisions. Automating part of this is the main benefit of the project. Further advantages are relieving employees from doing chores and focusing on edge cases and potentially expanding the scope of the project. This also enables them to take a broader look at the whole issue and make a more coherent, quantifiable and scalable approach to it.\n",
    "\n",
    "Hard to describe, hard to simplify domain knowledge. Traditionally automation focused on rule-based systems where these can be implemented into a system and verified to pass a specification. In the absence of these, one can turn to Machine Learning for help. One sign of this is if the employees express their micro-decisions through subjective language but cannot form rules when pressed.\n",
    "\n",
    "A lot of contextual data is available. Given that the domain experts themselves cannot express the rules, these must be distilled from the context of the decisions through the modelling process. This requires an adequate description of this context by the available data. The question to answer is if all information is recorded that the domain expert consciously or unconsciously takes into account. \n",
    "\n",
    "\n",
    "**Risk**: Replacing manual labour with automated systems never comes without internal friction and resistance. This can be due to internal politics, lack of transparency or failure to communicate correctly the objective and the cost-benefit analysis of the ML project.\n"
   ]
  },
  {
   "cell_type": "markdown",
   "metadata": {},
   "source": [
    "### Wrap up: Problems that are good candidates to be solved with ML \n",
    "\n",
    "\n",
    "\n",
    "\n",
    "- Tasks that involves lots of manual labour, especially lots of micro-decisions\n",
    "\n",
    "- Hard to describe, hard to simplify domain knowledge\n",
    "\n",
    "- Lots of contextual data available\n",
    "\n"
   ]
  },
  {
   "cell_type": "markdown",
   "metadata": {},
   "source": [
    "## Problem Decomposition\n",
    "\n",
    "Given the performance requirements of most industrial environments, the whole problem is probably too large to tackle at once. If for example, the model needs a large amount of labelled data, producing all of it at once would create significant opportunity risk because the viability of the model will be only found out when all the resource was spent on the labelling task.\n",
    "\n",
    "Based on domain knowledge most problems have features that decompose a holistic task into smaller subproblems: For example in case of news the location where the news happened based on the source of the information or the language it was written. \n",
    "\n",
    "\n",
    "If there are multiple choices available, then **alway** select the easiest one first. At first, try to solve this problem alone and only if it is tackled successfully then attempt the most complicated looking one. These two will “bracket” the rest of the partial solutions as the effort for all of them will be between them.\n",
    "\n",
    "<img src=\"./images/diagram.png\">\n",
    "\n",
    "\n",
    "\n",
    "\n",
    "This ordering will also help maximum learning efficiency as attempting the easy case will recover problems that you missed in the planning phase and trying the hardest one will reveal issues that are too obscure for anyone to think ahead."
   ]
  },
  {
   "cell_type": "markdown",
   "metadata": {},
   "source": [
    "# Step 2: Solve with augmented workflow\n",
    "\n",
    "\n",
    "Now that the modelling problem is clarified, you can go through your usual modelling steps with one thought kept in mind. The modelling problem is not an arbitrary standalone statistical task. \n",
    "\n",
    "\n",
    "It needs to fulfil a business goal, and you can use the business’s resources to achieve this goal. If the modelling task falls short from the feasibility requirement, you can design a workflow where the problematic cases are directed to experts to solve. Given that the problem you are working on already has a process inside the enterprise, you essentially select the “hard” cases for the already engaged workforce and automate the chore ones.\n",
    "\n",
    "\n",
    "<img src=\"./images/img2.png\">\n",
    "\n",
    "\n",
    "The business viability is judged on the overall cost of the workflow, namely: current cost of personnel vs risk from automation mistakes (if any) plus remaining labour costs. \n",
    "\n",
    "\n",
    "There is also an extra component; some opportunities are unexploitable because the cost of manually handling them is loss-making. Given the automation, the price of dealing with these drops and present additional revenue."
   ]
  },
  {
   "cell_type": "markdown",
   "metadata": {},
   "source": [
    "### Step 3: Iterate\n",
    "\n",
    "\n",
    "Once the workflow is in production, you can start planning the next steps. You have the choice between tackling another subproblem (the hardest one, more on this later) or improving the current one. \n",
    "\n",
    "\n",
    "Identify new automation opportunities from the insights gained in Step 2 and carry on updating the model. These insights are usually coming from the domain experts working on the manual part of the workflow. Essentially the goal is to automate different aspects of their jobs so they can move on to harder subproblems or edge cases that resist automation.\n",
    "\n",
    "\n",
    "<img src=\"./images/img3.png\">\n",
    "\n",
    "\n",
    "The benefit here is evaluated by comparing the net savings on existing labour costs and the risk of modelling mistakes. Further value is unlocked by the increased amount of newly feasible opportunities depicted with the green area on the diagram above."
   ]
  },
  {
   "cell_type": "markdown",
   "metadata": {},
   "source": [
    "### Step 4: Next problem\n",
    "\n",
    "It is much easier to try tacking the most challenging problem once an already existing workflow is in place. That can act as a template, and the team can reason the difficulties of the new task against that one. Also, the unforeseen insights at the planning stage that was gathered in the first solution can be incorporated into the new one.\n",
    "\n",
    "This time, the product team has a considerable routine, and they can focus on more abstract business problems rather than implementation issues. This is a much-needed help for them, given that the second problem was judged harder for some domain reasons. They benefit from having a single focus on the problem rather than on technical issues.\n",
    "\n",
    "\n",
    "\n",
    "\n",
    "### Summary\n",
    "\n",
    "\n",
    "Once the two subproblems are solved, the team can bracket and plan for the rest with high confidence. If the implementation enabled parallelisation, the rest of the cases could be attempted at the same time with various organisational parallelism and specialisations. This is the time when the organised attempt pays off as at this point the team as a whole has a considerable routine in executing the necessary steps and the way they solve problems will be part of the enterprise’s institutional knowledge.\n",
    "\n"
   ]
  }
 ],
 "metadata": {
  "kernelspec": {
   "display_name": "Python 3",
   "language": "python",
   "name": "python3"
  },
  "language_info": {
   "codemirror_mode": {
    "name": "ipython",
    "version": 3
   },
   "file_extension": ".py",
   "mimetype": "text/x-python",
   "name": "python",
   "nbconvert_exporter": "python",
   "pygments_lexer": "ipython3",
   "version": "3.6.6"
  }
 },
 "nbformat": 4,
 "nbformat_minor": 4
}
