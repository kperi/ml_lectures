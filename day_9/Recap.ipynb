{
 "cells": [
  {
   "cell_type": "markdown",
   "metadata": {},
   "source": [
    "## What we covered so far\n",
    "\n",
    "\n",
    "### Machine Learning basics\n",
    "    - Supervised learning\n",
    "        - Classification\n",
    "        - Regression\n",
    "    - Unsupervised learning\n",
    "        - Clustering\n",
    "    \n",
    "   \n",
    "### Applications\n",
    "    - Classification & Regression: \n",
    "        - Feature engineering\n",
    "        - Pipelines\n",
    "        - Transformation\n",
    "        - Hyperparameter tuning \n",
    "        - Applications: \n",
    "            Digit classification\n",
    "    - Clustering\n",
    "        - KMeans\n",
    "           - Digits clustering\n",
    "           \n",
    "           \n",
    "### Best Practices\n",
    "       \n",
    "    - Iterations\n",
    "    - Modeling approaches and algorithms\n",
    "\n",
    "\n",
    "### Neural Networks\n",
    "\n",
    "    - Feedforward neural networks\n",
    "    - Backpropagation\n",
    "    - Learning rates\n",
    "    - Activation functions/Nonlinearities\n",
    "    \n",
    "### Computer Vision\n",
    "    - Convolutions\n",
    "    - Image Classification \n",
    "    - Image representations with convnets\n",
    "   \n",
    "### Natural Language Processing\n",
    "    - Representation \n",
    "    - One hot encoding\n",
    "    - Count vectorisation \n",
    "    - Tfidf weighting\n",
    "    - Word embeddings\n",
    "    - Clustering\n",
    "    - Topic Models\n",
    "    - Language Models\n",
    "    - word2vec/fastText   \n",
    "    \n",
    "### Transfer learning and finetuning\n",
    "    - Text Convolutional Networks with pretrained embeddings\n",
    "    - Resnet for image classification and feature generation\n",
    "    - BERT for text classification and sentiment analysis\n",
    "    \n",
    "    \n",
    "        "
   ]
  },
  {
   "cell_type": "markdown",
   "metadata": {},
   "source": [
    "\n",
    "\n",
    "## Python & emergency libraries\n",
    "\n",
    "    - numpy (matrices, linear algebra)\n",
    "    - scipy (scientific computing)\n",
    "    - scikit-learn (machine learning framework)\n",
    "    - PIL (image library)\n",
    "    - torch (Deep Learning framework)\n",
    "    - torchvision (torch support for computer vision)\n",
    "    - gensim (Text clustering, embeddings, topic models)\n",
    "    - matplotlib (graphs/visualisaton)\n",
    "    - flair (NLP)\n",
    "    \n",
    "    "
   ]
  },
  {
   "cell_type": "code",
   "execution_count": null,
   "metadata": {},
   "outputs": [],
   "source": []
  }
 ],
 "metadata": {
  "kernelspec": {
   "display_name": "Python 3",
   "language": "python",
   "name": "python3"
  },
  "language_info": {
   "codemirror_mode": {
    "name": "ipython",
    "version": 3
   },
   "file_extension": ".py",
   "mimetype": "text/x-python",
   "name": "python",
   "nbconvert_exporter": "python",
   "pygments_lexer": "ipython3",
   "version": "3.6.6"
  }
 },
 "nbformat": 4,
 "nbformat_minor": 4
}
